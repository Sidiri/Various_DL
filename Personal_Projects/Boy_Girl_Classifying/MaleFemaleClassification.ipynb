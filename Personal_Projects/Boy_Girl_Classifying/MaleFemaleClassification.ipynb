{
 "cells": [
  {
   "cell_type": "markdown",
   "metadata": {},
   "source": [
    "# TODO\n",
    "    - Find a way to import modules using (relative) path "
   ]
  },
  {
   "cell_type": "code",
   "execution_count": 1,
   "metadata": {},
   "outputs": [],
   "source": [
    "# Automatic reloading and inline plotting\n",
    "%reload_ext autoreload\n",
    "%autoreload 2\n",
    "%matplotlib inline"
   ]
  },
  {
   "cell_type": "code",
   "execution_count": 2,
   "metadata": {},
   "outputs": [
    {
     "name": "stdout",
     "output_type": "stream",
     "text": [
      "['', '/home/sindre/anaconda3/envs/fastai/lib/python36.zip', '/home/sindre/anaconda3/envs/fastai/lib/python3.6', '/home/sindre/anaconda3/envs/fastai/lib/python3.6/lib-dynload', '/home/sindre/anaconda3/envs/fastai/lib/python3.6/site-packages', '/home/sindre/anaconda3/envs/fastai/lib/python3.6/site-packages/IPython/extensions', '/home/sindre/.ipython', '../../FastAi']\n"
     ]
    }
   ],
   "source": [
    "import sys\n",
    "sys.path.append(\"../../FastAi\")\n",
    "print(sys.path)"
   ]
  },
  {
   "cell_type": "code",
   "execution_count": 3,
   "metadata": {},
   "outputs": [],
   "source": [
    "from fastai.imports import *\n",
    "\n",
    "from fastai.transforms import *\n",
    "from fastai.conv_learner import *\n",
    "from fastai.model import *\n",
    "from fastai.dataset import *\n",
    "from fastai.sgdr import *\n",
    "from fastai.plots import *"
   ]
  },
  {
   "cell_type": "markdown",
   "metadata": {},
   "source": [
    "# TODO\n",
    "> Download the pictures in notebook <br>\n",
    ">> Use Keras folder structure with \"train\", \"valid\", \"train/class1\", ... \n",
    "<br> <br>\n",
    ">> Rename the pictures <cr>\n",
    "    \n",
    "> Refactor the methods "
   ]
  },
  {
   "cell_type": "markdown",
   "metadata": {},
   "source": [
    "# Downloading the images\n",
    "\n",
    "Downloading the images using a program from https://github.com/hardikvasa/google-images-download and running it through bash scripting locally in the notebook. More possible configurations, such as multiple searchwords, different combinations, etc., but this is enough for now. \n",
    "\n",
    "To run this method:\n",
    "> Using pip\n",
    "> <div class=\"alert alert-block alert-info\">\n",
    "> \\$ pip install google_images_download\n",
    "</div> <br>\n",
    "> Manually using CLI\n",
    "> <div class=\"alert alert-block alert-info\">\n",
    "> \\$ git clone https://github.com/hardikvasa/google-images-download.git <br>\n",
    "> \\$ cd google-images-download && sudo python setup.py install\n",
    "> </div> <br>  \n",
    "> Manually using UI\n",
    "> <div class=\"alert alert-block alert-info\">\n",
    "> Go to the repo on github ==> Click on *Clone or Download* ==> Click on *Download ZIP* and save it on your local disk. </div>"
   ]
  },
  {
   "cell_type": "markdown",
   "metadata": {},
   "source": [
    "### The specified searchwords will be the classes, which in this case will be *female_face* and *male_face* "
   ]
  },
  {
   "cell_type": "code",
   "execution_count": 4,
   "metadata": {},
   "outputs": [],
   "source": [
    "def download_pictures(searchword, form=\"jpg\", lim=100, directory=\"data/\"):\n",
    "    ! googleimagesdownload --keywords $searchword --format $form --limit $lim --output_directory $directory\n",
    "    src_path = directory + searchword\n",
    "    dst_train_path = directory + \"train/\"\n",
    "    dst_valid_path = directory + \"valid/\"\n",
    "    counter = 1\n",
    "    if not os.path.isdir(dst_train_path + searchword and dst_valid_path + searchword):\n",
    "        train_search_folder = dst_train_path + searchword\n",
    "        valid_search_folder = dst_valid_path + searchword\n",
    "        print(train_search_folder)\n",
    "        ! mkdir $train_search_folder\n",
    "        ! mkdir $valid_search_folder\n",
    "    for file in os.listdir(src_path):\n",
    "        src = src_path + \"/\" + file\n",
    "        dst_end = searchword + \"/\" + searchword + \".\" + str(counter) + \".\" + form\n",
    "        train_ratio = lim*0.8 \n",
    "        if(counter <= train_ratio):\n",
    "            dst = dst_train_path + dst_end\n",
    "        else:\n",
    "            dst = dst_valid_path + dst_end\n",
    "        os.rename(src, dst)\n",
    "        counter = counter + 1\n",
    "    delete_dir = directory + searchword\n",
    "    ! rm -rf $delete_dir"
   ]
  },
  {
   "cell_type": "code",
   "execution_count": 5,
   "metadata": {},
   "outputs": [
    {
     "name": "stdout",
     "output_type": "stream",
     "text": [
      "\n",
      "Item no.: 1 --> Item name = Female_face\n",
      "Evaluating...\n",
      "Starting Download...\n",
      "Completed Image ====> 1. archetypal-female-_3249633c.jpg\n",
      "Completed Image ====> 2. 4e7b76f7d680884a05b131a599164cff--unique-faces-model-face.jpg\n",
      "Completed Image ====> 3. w_sexy_gr.jpg\n",
      "Completed Image ====> 4. 2a611d612fe22e2870394224210c310b--brown-auburn-hair-people-with-green-eyes.jpg\n",
      "Completed Image ====> 5. stock-photo-beauty-face-of-the-young-beautiful-woman-isolated-on-white-gorgeous-female-portrait-with-slicked-723534274.jpg\n",
      "Completed Image ====> 6. f5a0626a80fe6026c0ac65cdc2d8ede2--photography-portraits-photography-people.jpg\n",
      "Completed Image ====> 7. close-up-beautiful-female-face-21789058.jpg\n",
      "Completed Image ====> 8. facial-hair-e1468623703271.jpg\n",
      "Completed Image ====> 9. 9354-close-up-female-face.jpg\n",
      "Completed Image ====> 10. stock-photo-beauty-portrait-of-female-face-with-natural-skin-519563191.jpg\n",
      "Completed Image ====> 11. closeup-beautiful-female-face-isolated-23885901.jpg\n",
      "Completed Image ====> 12. dc5ccad5bd921a27a657ecfada3f00de--live-life-anti-aging.jpg\n",
      "Completed Image ====> 13. 4.-emma-stone.jpg\n",
      "Completed Image ====> 14. girl-face-sketch-by-eugene-fokin-on-artstation_female-face-reference-images-faces-fa-on-anatomy-d-models-for-downl.jpg\n",
      "Completed Image ====> 15. 1044584.jpg\n",
      "Completed Image ====> 16. attachment.php\n",
      "Completed Image ====> 17. beauty-female-face-two-hands-isolated-white-34330241.jpg\n",
      "Completed Image ====> 18. female-portrait3.jpg\n",
      "Completed Image ====> 19. dzzbx.jpg\n",
      "Completed Image ====> 20. face-7.jpg\n",
      "Completed Image ====> 21. stock-photo-beauty-portrait-of-female-face-654082795.jpg\n",
      "Completed Image ====> 22. beauty-%c2%a9-olga-ekaterincheva-36627826-200x300.jpg\n",
      "Completed Image ====> 23. 7f7f61cb9200979af912599b449bf6d6--angular-face-son-m%c3%b4i.jpg\n",
      "Completed Image ====> 24. shavinggettycreative.jpg\n",
      "Completed Image ====> 25. b88oeqo.jpg\n",
      "Completed Image ====> 26. 9886-close-up-female-face.jpg\n",
      "Completed Image ====> 27. 8tlm6.jpg\n",
      "Completed Image ====> 28. 364d4fcf00000578-3691691-image-m-7_1468576198822.jpg\n",
      "Completed Image ====> 29. woman-with-hands-on-her-neck-and-looking-down_23-2147647715.jpg\n",
      "Completed Image ====> 30. maxresdefault.jpg\n",
      "Completed Image ====> 31. female_face_painting_by_devious_seraph.jpg\n",
      "Completed Image ====> 32. asian-female-face-mannequin-kathy-fornal.jpg\n",
      "Completed Image ====> 33. pri_64379707-1.jpg\n",
      "Completed Image ====> 34. 12198460-7190705-2-1469020521-650-2-1488295420-650-30c2f9a23b-1488874292.jpg\n",
      "Completed Image ====> 35. 9b71c869b0deb10121858118e381edea.jpg\n",
      "Completed Image ====> 36. beautiful-woman-portrait-face-close-up-studio-gray-background-picture-id507790176?b=1&k=6&m=507790176&s=612x612&w=0&h=x5jupqm-z0y_jlskd-h5ykl1ojwlnwfccjiq7zjlitg=.jpg\n",
      "Completed Image ====> 37. beautiful-faces_3249636k.jpg\n",
      "Completed Image ====> 38. most-beautiful-faces-liza-soberano-11.jpg\n",
      "Completed Image ====> 39. eye9cn0.jpg\n",
      "Completed Image ====> 40. transparent-female-face-mask-23088-a-a.jpg\n",
      "Completed Image ====> 41. 1987_step27_4be3af3cb5e4e.jpg\n",
      "Completed Image ====> 42. 800px_colourbox4768545.jpg\n",
      "Completed Image ====> 43. 19.-taylor-hill.jpg\n",
      "Completed Image ====> 44. 141uuzs.jpg\n",
      "Completed Image ====> 45. 776-best-female-face-reference-images-on-pinterest-hairstyles-see-this-instagram-photo-by-atcaroline-eastman-904-likes-face-reference-female.jpg\n",
      "Completed Image ====> 46. article-2521921-19451e96000005dc-686_310x446.jpg\n",
      "Completed Image ====> 47. female.jpg\n",
      "Completed Image ====> 48. natalie-portman-recording-artists-and-groups-photo-u300?w=650&q=50&fm=jpg&fit=crop&crop=faces.jpg\n",
      "Completed Image ====> 49. dreams.metroeve_face-dreams-meaning.jpg\n",
      "Completed Image ====> 50. 348b9e87f3614cf1a1ae423695263168.jpg\n",
      "Completed Image ====> 51. 10805-close-up-female-face.jpg\n",
      "Completed Image ====> 52. 5a8d6a18f22fa91a008b46bf-750-562.jpg\n",
      "Completed Image ====> 53. stock-photo-beauty-portrait-of-female-face-with-natural-skin-521859244.jpg\n",
      "Completed Image ====> 54. perfect_female_face_by_princehackberry-d7nws5d.jpg\n",
      "Completed Image ====> 55. beautiful-faces-efit.jpg\n",
      "Completed Image ====> 56. tumblr_inline_n91x06d2wm1skbule.jpg\n",
      "Completed Image ====> 57. gallery_2847_194_27918.jpg\n",
      "Completed Image ====> 58. 100-most-beautiful-female-faces-2013.jpg\n",
      "Completed Image ====> 59. 6171901.jpg\n",
      "Completed Image ====> 60. female-face-shapes-woman-face-types-chart-vector-icon-illustration-vector-id614860934.jpg\n",
      "Completed Image ====> 61. latest?cb=20141003173539.jpg\n",
      "Completed Image ====> 62. fe940fff01c30ee2e2b7664cfc5e20a5--face-reference-black-models.jpg\n",
      "Completed Image ====> 63. stock-photo-beauty-woman-face-portrait-beautiful-spa-model-girl-with-perfect-fresh-clean-skin-blonde-female-324067166.jpg\n",
      "Completed Image ====> 64. hair_contouring_-_flattering_hairstyles_for_different_face_shapes_-_thumb.jpg\n",
      "Completed Image ====> 65. dsc07687.jpg\n",
      "Completed Image ====> 66. most-attractive-face-shape-in-women-olivia-wilde-minunexplofe76eb.jpg\n",
      "Completed Image ====> 67. main-qimg-8626230a004e76ddee41ff64eb6b0576-c.jpg\n",
      "Completed Image ====> 68. 25-trending-female-faces-ideas-on-pinterest-female-face-this-is-wha-jordin-looks-like-at-the-start-of-the-story-maybe-a-bit.jpg\n",
      "Completed Image ====> 69. 300.jpg\n",
      "Completed Image ====> 70. 40420375-beautiful-female-face-with-pure-skin-and-natural-make-up-spa-girl-skincare-healthcare-isolated-over-.jpg\n",
      "Completed Image ====> 71. beautiful-female-face-profile-long-hair-art-portrait-31453370.jpg\n",
      "Completed Image ====> 72. 3645368100000578-0-image-m-38_1468494709019.jpg\n",
      "Completed Image ====> 73. portrait-1255323_960_720.jpg\n",
      "Completed Image ====> 74. beautiful-female-face-wallpapers_28334_1680x1050.jpg\n",
      "Completed Image ====> 75. 68741376-woman-beauty-face-with-makeup-closeup-portrait-of-sexy-girl-with-smooth-skin-beautiful-facial-make-u.jpg\n",
      "Completed Image ====> 76. 12231-close-up-female-face.jpg\n",
      "Completed Image ====> 77. c59b4fabdb4fb3ee88819c03d0ba97f3.jpg\n",
      "Completed Image ====> 78. face_shine_glow.jpg\n",
      "Completed Image ====> 79. face-705818.jpg\n",
      "Completed Image ====> 80. da525f60881370f9369618dce7774751--girl-face-woman-face.jpg\n",
      "Completed Image ====> 81. hqdefault.jpg\n",
      "Completed Image ====> 82. viral%2520diy%2520freckle%2520tattoos.jpeg\n",
      "Completed Image ====> 83. ref02.jpg\n",
      "Completed Image ====> 84. dnf-female-face-render.jpg\n",
      "Completed Image ====> 85. female-face-pure-healthy-skin-light-make-up-16669183.jpg\n",
      "Completed Image ====> 86. depositphotos_151535278-stock-photo-beauty-model-girl-with-perfect.jpg\n",
      "Completed Image ====> 87. cs42172407.jpg\n",
      "Completed Image ====> 88. science_makeup.jpg\n",
      "Completed Image ====> 89. 3643099300000578-3689902-image-a-6_1468489501940.jpg\n",
      "Completed Image ====> 90. 05-signs-disease-face-looking-in-mirror.jpg\n",
      "Completed Image ====> 91. stock-photo-beauty-woman-face-portrait-beautiful-spa-model-girl-with-perfect-fresh-clean-skin-blonde-female-323982494.jpg\n",
      "Completed Image ====> 92. hanne-odiele-next-gen-2017-1.jpg\n",
      "Completed Image ====> 93. person-1178845_960_720.jpg\n",
      "Completed Image ====> 94. female_face_profile_stock_by_enchantedgal_stock.jpg\n",
      "Completed Image ====> 95. 171122131121-lumpen-agency-3.jpg\n",
      "Completed Image ====> 96. cf5d6b8142078a140abc7d018d5bdb39--female-face-reference-portrait-reference.jpg\n",
      "Completed Image ====> 97. 240_f_136220746_l68q15mybmdzlnhbhdbecagjlapgcdbo.jpg\n",
      "Completed Image ====> 98. jen.jpg\n",
      "Completed Image ====> 99. nintchdbpict000311185152.jpg\n",
      "Completed Image ====> 100. scarlett-johansson-jpg\n",
      "\n",
      "Everything downloaded!\n",
      "Total Errors: 0\n",
      "\n",
      "Total time taken: 69.56267070770264 Seconds\n",
      "\n",
      "Item no.: 1 --> Item name = Male_face\n",
      "Evaluating...\n",
      "Starting Download...\n",
      "Completed Image ====> 1. 5237c58f-4104-456d-b6d9-c2570d823d5f.jpg\n",
      "Completed Image ====> 2. m_sexy_gr.jpg\n",
      "Completed Image ====> 3. hqdefault.jpg\n",
      "Completed Image ====> 4. b826ccd4cbbb2853515c89fa9731da16--mens-short-hairstyles--short-natural-hairstyles.jpg\n",
      "Completed Image ====> 5. 3519d8a5b21d8b5d91d179367883f8fc.jpg\n",
      "Completed Image ====> 6. ff979fc66dcb9cfb401cf2d5ccbdf295--golden-eyes-male-faces.jpg\n",
      "Completed Image ====> 7. 2y1ev11.jpg\n",
      "Completed Image ====> 8. 95834425-352-k844058.jpg\n",
      "Completed Image ====> 9. 51bde472.jpg\n",
      "Completed Image ====> 10. 0fbf7a96c3cbd1842479c18f9f62907a--male-model-photos-male-models.jpg\n",
      "Completed Image ====> 11. male-treatments.jpg\n"
     ]
    },
    {
     "name": "stdout",
     "output_type": "stream",
     "text": [
      "Completed Image ====> 12. women_20men_20testosterone_20health_20attractiveness.jpg\n",
      "Completed Image ====> 13. texturingxyz_male12_albedo_grande.jpg\n",
      "Completed Image ====> 14. male-hairstyles-by-face-shape.jpg\n",
      "Completed Image ====> 15. black-african-man.jpg\n",
      "Completed Image ====> 16. models-hairstyle.jpg\n",
      "Completed Image ====> 17. male_face_close_up_by_domromnic-d32g8q6.jpg\n",
      "Completed Image ====> 18. 1368573131_big-male-1.jpg\n",
      "Completed Image ====> 19. back-and-side-square-500x707.jpg\n",
      "Completed Image ====> 20. 9e4401374853163c7b953abe24ba4ba2.jpg\n",
      "Completed Image ====> 21. _91774730_landscape-1476212039-1476197178-covergirl-james-charles-copy-1.jpg\n",
      "Completed Image ====> 22. d846a423ce2f9ec6ebd0d1a3795d9646.jpg\n",
      "Completed Image ====> 23. male-face-21616185.jpg\n",
      "Completed Image ====> 24. 274694015d8bae7194b8e8e4d31b8d6e--male-faces-face-male.jpg\n",
      "Completed Image ====> 25. male_model_front_kzk8-largethumb_0a5ad216.jpg\n",
      "Completed Image ====> 26. male_face_sketch_by_oka_toka-d8wmnlb.jpg\n",
      "Completed Image ====> 27. male-african-face.jpg\n",
      "Completed Image ====> 28. attachment.php\n",
      "Completed Image ====> 29. beautiful-faces-efit.jpg\n",
      "Completed Image ====> 30. 7-best-hairstyles-for-men-with-oblong-face-shape.jpg\n",
      "Completed Image ====> 31. male-model-face-dr-barry-eppley-indianapolis.jpg\n",
      "Completed Image ====> 32. texturingxyz_male02_photo_grande.jpg\n",
      "Completed Image ====> 33. prod-idris-elba.jpg\n",
      "Completed Image ====> 34. f91c6368508fb15aeb64bf395ce3a456.jpg\n",
      "Completed Image ====> 35. makeup-brand-guy-face-maybelline-manny-gutierrez-2.jpg\n",
      "Completed Image ====> 36. male_face_lift-200x300.jpg\n",
      "Completed Image ====> 37. prod-lost-in-space-anniversary-party.jpg\n",
      "Completed Image ====> 38. man-945482_960_720.jpg\n",
      "Completed Image ====> 39. 25461-62f3e6-0.jpg\n",
      "Completed Image ====> 40. male%20androgyne.jpg\n",
      "Completed Image ====> 41. male_face_close_up_stages_by_domromnic-d32gbp9.jpg\n",
      "Completed Image ====> 42. male-hair-styles-for-long-narrow-faces-1.jpeg\n",
      "Completed Image ====> 43. young-caucasian-male-face-22564733.jpg\n",
      "Completed Image ====> 44. 9d6dd818dc25500244414513f73cc93b.jpg\n",
      "Completed Image ====> 45. ej-composite-georgeharryfacev2.jpg\n",
      "Completed Image ====> 46. top_tips_for_male_grooming.jpg\n",
      "Completed Image ====> 47. ideal.jpg\n",
      "Completed Image ====> 48. 319daf6075c6937ed8a33731421ee592.jpg\n",
      "Completed Image ====> 49. male_face_study_by_victter_le_fou-d8pr98g.jpg\n",
      "Completed Image ====> 50. image.jpg\n",
      "Completed Image ====> 51. hairstyle-according-to-face-shape-male-mens-hairstyles-no-heat-hair-tutorial-healthy-best-hairstyle-for-heart-shaped-face-male-faces.jpg\n",
      "Completed Image ====> 52. 19124695-a-handsome-male-model-with-the-skin-his-face-peeling-.jpg\n",
      "Completed Image ====> 53. male.jpg\n",
      "Completed Image ====> 54. bradley_cooper_face_long-haired_actor_male_blond_hair_18691_1600x1200.jpg\n",
      "Completed Image ====> 55. stock-vector-vector-single-sketch-male-face-men-hairstyle-274931738.jpg\n",
      "Completed Image ====> 56. main-qimg-559f5d70910d9aba2a401781cab1e424-c.jpg\n",
      "Completed Image ====> 57. texturingxyz_male03_photo_grande.jpg\n",
      "Completed Image ====> 58. attachment.php\n",
      "Completed Image ====> 59. 5pt9cwhj-900.jpg\n",
      "Completed Image ====> 60. man-984504_960_720.jpg\n",
      "Completed Image ====> 61. house-md-famous-face-male-265639.jpg\n",
      "Completed Image ====> 62. study__male_face_by_ardariel-d57lf26.jpg\n",
      "Completed Image ====> 63. gettyimages-883324154.jpg\n",
      "Completed Image ====> 64. am_face_lipo_3.jpg\n",
      "Completed Image ====> 65. touseled_wavy_messy_spring_summer_2015_long_top_style_hairstyle_mens_side_1.jpg\n",
      "Completed Image ====> 66. blonde-side-swept-short-fringe-500x667.jpg\n",
      "Completed Image ====> 67. 405.jpg\n",
      "Completed Image ====> 68. img_7992-e1478688524283.jpg\n",
      "Completed Image ====> 69. procedure-male-silkwood-medical-sydney.jpg\n",
      "Completed Image ====> 70. 59bd2638d26d663af81dc1e41b9eaace--male-models-hot-male-model.jpg\n",
      "Completed Image ====> 71. 5014624cab9c41bd0a9423e2b4126741--male-haircuts-male-hairstyles.jpg\n",
      "Completed Image ====> 72. tumblr_mml2p4cewd1sqzyflo1_500.jpg\n",
      "Completed Image ====> 73. male_faces_by_staino.jpg\n",
      "Completed Image ====> 74. head_textures_0108_0008.jpg\n",
      "Completed Image ====> 75. masc_149m_rdax_450x600.jpg\n",
      "Completed Image ====> 76. stock-photo-facial-close-up-of-an-attractive-man-face-isolated-on-a-white-background-166987145.jpg\n",
      "Completed Image ====> 77. b8dwqwtw-1438048421.jpg\n",
      "Completed Image ====> 78. man-852762_960_720.jpg\n",
      "Completed Image ====> 79. men-hairstyle-for-oval-faces.jpg\n",
      "Completed Image ====> 80. nintchdbpict000341790488.jpg\n",
      "Completed Image ====> 81. male_face_lift.jpg\n",
      "Completed Image ====> 82. ab1fb4c9ffeb3a6139deeddd912aee4b--hairstyle-men-mens-hairstyles.jpg\n",
      "Completed Image ====> 83. mens-diamond-face-shape-haircut-e1406568059529.jpg\n",
      "Completed Image ====> 84. 1460978894-29.jpg\n",
      "Completed Image ====> 85. 8eb87207c1bb8200813f30f8b13a45b8--man-faces-australia.jpg\n",
      "Completed Image ====> 86. jazza_01_neutral.jpg\n",
      "Completed Image ====> 87. male_face_by_nemanja_s-d6qledk.jpg\n",
      "Completed Image ====> 88. face-of-a-9000-year-old-female-teenage.jpg\n",
      "Completed Image ====> 89. brad-pitt-announced-as-th-001.jpg\n",
      "Completed Image ====> 90. facegen%20same%20face%20may%20look%20female%20or%20male%20depending%20on%20field%20of%20view.jpg\n",
      "Completed Image ====> 91. stock-photo-young-man-face-a-high-detailed-portrait-62329042.jpg\n",
      "Completed Image ====> 92. makeup-brand-guy-face-maybelline-manny-gutierrez-5.jpg\n",
      "Completed Image ====> 93. 10750_800x.jpg\n",
      "Completed Image ====> 94. 46413-1-1338238974.jpg\n",
      "Completed Image ====> 95. male_face01.jpg\n",
      "Completed Image ====> 96. article-2521921-1a0694b200000578-970_964x511.jpg\n",
      "Completed Image ====> 97. blogger_647_110316050238.jpg\n",
      "Completed Image ====> 98. men-skin-care-injections-brotox.jpg\n",
      "Completed Image ====> 99. 8bca530a53c1c6ce940e734f2a08ec9e.jpg\n",
      "Completed Image ====> 100. makeup-brand-guy-face-maybelline-manny-gutierrez-10.jpg\n",
      "\n",
      "Everything downloaded!\n",
      "Total Errors: 0\n",
      "\n",
      "Total time taken: 74.14366006851196 Seconds\n"
     ]
    }
   ],
   "source": [
    "download_pictures(\"Female_face\", lim=100)\n",
    "download_pictures(\"Male_face\", lim=100)"
   ]
  },
  {
   "cell_type": "markdown",
   "metadata": {},
   "source": [
    "# Deep Learning"
   ]
  },
  {
   "cell_type": "markdown",
   "metadata": {},
   "source": [
    "Utilizing a resizing method from FastAi - includes augmentation (side_on) and zooming \n",
    "    - Have the possibility of speeding up the training (smaller pictures) in the start\n",
    "    - bs = 64 is usually preferred until Cuda-Out-Of-Memory Exception "
   ]
  },
  {
   "cell_type": "code",
   "execution_count": 6,
   "metadata": {},
   "outputs": [
    {
     "data": {
      "text/plain": [
       "['models', 'valid', 'train', 'tmp']"
      ]
     },
     "execution_count": 6,
     "metadata": {},
     "output_type": "execute_result"
    }
   ],
   "source": [
    "import os \n",
    "PATH = \"data/\"\n",
    "os.listdir(PATH)"
   ]
  },
  {
   "cell_type": "code",
   "execution_count": 7,
   "metadata": {},
   "outputs": [
    {
     "name": "stdout",
     "output_type": "stream",
     "text": [
      "['Male_face', 'Female_face']\n",
      "['Male_face', 'Female_face']\n"
     ]
    }
   ],
   "source": [
    "train_path = \"train/\"\n",
    "valid_path = \"valid/\"\n",
    "print(os.listdir(PATH + train_path))\n",
    "print(os.listdir(PATH + valid_path))"
   ]
  },
  {
   "cell_type": "markdown",
   "metadata": {},
   "source": [
    "Possible to get a nicer output of the items in directories? "
   ]
  },
  {
   "cell_type": "code",
   "execution_count": 8,
   "metadata": {},
   "outputs": [
    {
     "name": "stdout",
     "output_type": "stream",
     "text": [
      "Training folder: \n",
      "Class1:  ['Male_face.63.jpg', 'Male_face.19.jpg']\n",
      "Class2:  ['Female_face.17.jpg', 'Female_face.44.jpg']\n",
      "Validation folder: \n",
      "Class1:  ['Male_face.94.jpg', 'Male_face.89.jpg']\n",
      "Class2:  ['Female_face.97.jpg', 'Female_face.99.jpg']\n"
     ]
    }
   ],
   "source": [
    "class1_path = \"Male_face/\"\n",
    "class2_path = \"Female_face/\"\n",
    "print(\"Training folder: \")\n",
    "print(\"Class1: \" , os.listdir(PATH + train_path + class1_path)[:2])\n",
    "print(\"Class2: \" , os.listdir(PATH + train_path + class2_path)[:2])\n",
    "\n",
    "print(\"Validation folder: \")\n",
    "print(\"Class1: \" , os.listdir(PATH + valid_path + class1_path)[:2])\n",
    "print(\"Class2: \" , os.listdir(PATH + valid_path + class2_path)[:2])"
   ]
  },
  {
   "cell_type": "code",
   "execution_count": 9,
   "metadata": {},
   "outputs": [
    {
     "data": {
      "text/plain": [
       "['Male_face.63.jpg']"
      ]
     },
     "execution_count": 9,
     "metadata": {},
     "output_type": "execute_result"
    }
   ],
   "source": [
    "files = os.listdir(f'{PATH}{train_path}{class1_path}')[:1]\n",
    "files"
   ]
  },
  {
   "cell_type": "code",
   "execution_count": 10,
   "metadata": {},
   "outputs": [
    {
     "data": {
      "text/plain": [
       "<matplotlib.image.AxesImage at 0x7fbd99e64588>"
      ]
     },
     "execution_count": 10,
     "metadata": {},
     "output_type": "execute_result"
    },
    {
     "data": {
      "image/png": "[encoded data removed]",
      "text/plain": [
       "<Figure size 432x288 with 1 Axes>"
      ]
     },
     "metadata": {},
     "output_type": "display_data"
    }
   ],
   "source": [
    "img = plt.imread(f'{PATH}{train_path}{class1_path}{files[0]}')\n",
    "plt.imshow(img)"
   ]
  },
  {
   "cell_type": "code",
   "execution_count": 11,
   "metadata": {},
   "outputs": [
    {
     "data": {
      "text/plain": [
       "(410, 615, 3)"
      ]
     },
     "execution_count": 11,
     "metadata": {},
     "output_type": "execute_result"
    }
   ],
   "source": [
    "img.shape"
   ]
  },
  {
   "cell_type": "code",
   "execution_count": 12,
   "metadata": {},
   "outputs": [
    {
     "data": {
      "text/plain": [
       "array([[[235, 237, 234],\n",
       "        [235, 237, 234],\n",
       "        [235, 237, 234],\n",
       "        [234, 236, 233]],\n",
       "\n",
       "       [[235, 237, 234],\n",
       "        [235, 237, 234],\n",
       "        [235, 237, 234],\n",
       "        [234, 236, 233]],\n",
       "\n",
       "       [[235, 237, 234],\n",
       "        [235, 237, 234],\n",
       "        [235, 237, 234],\n",
       "        [234, 236, 233]],\n",
       "\n",
       "       [[235, 237, 234],\n",
       "        [235, 237, 234],\n",
       "        [235, 237, 234],\n",
       "        [234, 236, 233]]], dtype=uint8)"
      ]
     },
     "execution_count": 12,
     "metadata": {},
     "output_type": "execute_result"
    }
   ],
   "source": [
    "img[:4, :4]"
   ]
  },
  {
   "cell_type": "markdown",
   "metadata": {},
   "source": [
    "## Uncomment if needing to resize images \n",
    "\n",
    "> <div class=\"alert alert-block alert-warning\">\n",
    "Possible problems with it storing them in *tmp* folder\n",
    "</div>"
   ]
  },
  {
   "cell_type": "code",
   "execution_count": 13,
   "metadata": {},
   "outputs": [],
   "source": [
    "#from sklearn import metrics \n",
    "\n",
    "#def get_data(sz, bs):\n",
    "#   tfms = tfms_from_model(arch, sz, aug_tfms=transforms_side_on, max_zoom=1.1)\n",
    "#   data = ImageClassifierData.from_paths(PATH, tfms=tfms, bs=bs)\n",
    "#   return data if sz > 300 else data.resize(340, 'tmp');"
   ]
  },
  {
   "cell_type": "code",
   "execution_count": 14,
   "metadata": {},
   "outputs": [],
   "source": [
    "arch = resnet50\n",
    "sz = 299 # One of two standards for ImageNet (224)\n",
    "bs = 32 # 64 resulted in cuda-out-of-memory-error"
   ]
  },
  {
   "cell_type": "code",
   "execution_count": 15,
   "metadata": {},
   "outputs": [],
   "source": [
    "tfms = tfms_from_model(arch, sz, aug_tfms=transforms_side_on, max_zoom=1.1)\n",
    "data = ImageClassifierData.from_paths(PATH, tfms=tfms, bs=bs, num_workers=4)\n",
    "learn = ConvLearner.pretrained(arch, data, ps=0.2)"
   ]
  },
  {
   "cell_type": "markdown",
   "metadata": {},
   "source": [
    "## Choosing a Learning Rate"
   ]
  },
  {
   "cell_type": "code",
   "execution_count": 16,
   "metadata": {},
   "outputs": [
    {
     "data": {
      "application/vnd.jupyter.widget-view+json": {
       "model_id": "90a5f7101a2e46bb9d27f2762d4fd457",
       "version_major": 2,
       "version_minor": 0
      },
      "text/html": [
       "<p>Failed to display Jupyter Widget of type <code>HBox</code>.</p>\n",
       "<p>\n",
       "  If you're reading this message in the Jupyter Notebook or JupyterLab Notebook, it may mean\n",
       "  that the widgets JavaScript is still loading. If this message persists, it\n",
       "  likely means that the widgets JavaScript library is either not installed or\n",
       "  not enabled. See the <a href=\"https://ipywidgets.readthedocs.io/en/stable/user_install.html\">Jupyter\n",
       "  Widgets Documentation</a> for setup instructions.\n",
       "</p>\n",
       "<p>\n",
       "  If you're reading this message in another frontend (for example, a static\n",
       "  rendering on GitHub or <a href=\"https://nbviewer.jupyter.org/\">NBViewer</a>),\n",
       "  it may mean that your frontend doesn't currently support widgets.\n",
       "</p>\n"
      ],
      "text/plain": [
       "HBox(children=(IntProgress(value=0, description='Epoch', max=1), HTML(value='')))"
      ]
     },
     "metadata": {},
     "output_type": "display_data"
    },
    {
     "name": "stdout",
     "output_type": "stream",
     "text": [
      "  0%|          | 0/5 [00:00<?, ?it/s]\n"
     ]
    },
    {
     "ename": "OSError",
     "evalue": "Error handling image at: data/train/Female_face/Female_face.16.jpg",
     "output_type": "error",
     "traceback": [
      "\u001b[0;31m---------------------------------------------------------------------------\u001b[0m",
      "\u001b[0;31mAttributeError\u001b[0m                            Traceback (most recent call last)",
      "\u001b[0;32m~/Documents/Skole/FastAi/fastai/dataset.py\u001b[0m in \u001b[0;36mopen_image\u001b[0;34m(fn)\u001b[0m\n\u001b[1;32m    219\u001b[0m         \u001b[0;32mtry\u001b[0m\u001b[0;34m:\u001b[0m\u001b[0;34m\u001b[0m\u001b[0m\n\u001b[0;32m--> 220\u001b[0;31m             \u001b[0mim\u001b[0m \u001b[0;34m=\u001b[0m \u001b[0mcv2\u001b[0m\u001b[0;34m.\u001b[0m\u001b[0mimread\u001b[0m\u001b[0;34m(\u001b[0m\u001b[0mstr\u001b[0m\u001b[0;34m(\u001b[0m\u001b[0mfn\u001b[0m\u001b[0;34m)\u001b[0m\u001b[0;34m,\u001b[0m \u001b[0mflags\u001b[0m\u001b[0;34m)\u001b[0m\u001b[0;34m.\u001b[0m\u001b[0mastype\u001b[0m\u001b[0;34m(\u001b[0m\u001b[0mnp\u001b[0m\u001b[0;34m.\u001b[0m\u001b[0mfloat32\u001b[0m\u001b[0;34m)\u001b[0m\u001b[0;34m/\u001b[0m\u001b[0;36m255\u001b[0m\u001b[0;34m\u001b[0m\u001b[0m\n\u001b[0m\u001b[1;32m    221\u001b[0m             \u001b[0;32mif\u001b[0m \u001b[0mim\u001b[0m \u001b[0;32mis\u001b[0m \u001b[0;32mNone\u001b[0m\u001b[0;34m:\u001b[0m \u001b[0;32mraise\u001b[0m \u001b[0mOSError\u001b[0m\u001b[0;34m(\u001b[0m\u001b[0;34mf'File not recognized by opencv: {fn}'\u001b[0m\u001b[0;34m)\u001b[0m\u001b[0;34m\u001b[0m\u001b[0m\n",
      "\u001b[0;31mAttributeError\u001b[0m: 'NoneType' object has no attribute 'astype'",
      "\nThe above exception was the direct cause of the following exception:\n",
      "\u001b[0;31mOSError\u001b[0m                                   Traceback (most recent call last)",
      "\u001b[0;32m<ipython-input-16-d81c6bd29d71>\u001b[0m in \u001b[0;36m<module>\u001b[0;34m()\u001b[0m\n\u001b[0;32m----> 1\u001b[0;31m \u001b[0mlearn\u001b[0m\u001b[0;34m.\u001b[0m\u001b[0mlr_find\u001b[0m\u001b[0;34m(\u001b[0m\u001b[0;34m)\u001b[0m\u001b[0;34m\u001b[0m\u001b[0m\n\u001b[0m",
      "\u001b[0;32m~/Documents/Skole/FastAi/fastai/learner.py\u001b[0m in \u001b[0;36mlr_find\u001b[0;34m(self, start_lr, end_lr, wds, linear)\u001b[0m\n\u001b[1;32m    266\u001b[0m         \u001b[0mlayer_opt\u001b[0m \u001b[0;34m=\u001b[0m \u001b[0mself\u001b[0m\u001b[0;34m.\u001b[0m\u001b[0mget_layer_opt\u001b[0m\u001b[0;34m(\u001b[0m\u001b[0mstart_lr\u001b[0m\u001b[0;34m,\u001b[0m \u001b[0mwds\u001b[0m\u001b[0;34m)\u001b[0m\u001b[0;34m\u001b[0m\u001b[0m\n\u001b[1;32m    267\u001b[0m         \u001b[0mself\u001b[0m\u001b[0;34m.\u001b[0m\u001b[0msched\u001b[0m \u001b[0;34m=\u001b[0m \u001b[0mLR_Finder\u001b[0m\u001b[0;34m(\u001b[0m\u001b[0mlayer_opt\u001b[0m\u001b[0;34m,\u001b[0m \u001b[0mlen\u001b[0m\u001b[0;34m(\u001b[0m\u001b[0mself\u001b[0m\u001b[0;34m.\u001b[0m\u001b[0mdata\u001b[0m\u001b[0;34m.\u001b[0m\u001b[0mtrn_dl\u001b[0m\u001b[0;34m)\u001b[0m\u001b[0;34m,\u001b[0m \u001b[0mend_lr\u001b[0m\u001b[0;34m,\u001b[0m \u001b[0mlinear\u001b[0m\u001b[0;34m=\u001b[0m\u001b[0mlinear\u001b[0m\u001b[0;34m)\u001b[0m\u001b[0;34m\u001b[0m\u001b[0m\n\u001b[0;32m--> 268\u001b[0;31m         \u001b[0mself\u001b[0m\u001b[0;34m.\u001b[0m\u001b[0mfit_gen\u001b[0m\u001b[0;34m(\u001b[0m\u001b[0mself\u001b[0m\u001b[0;34m.\u001b[0m\u001b[0mmodel\u001b[0m\u001b[0;34m,\u001b[0m \u001b[0mself\u001b[0m\u001b[0;34m.\u001b[0m\u001b[0mdata\u001b[0m\u001b[0;34m,\u001b[0m \u001b[0mlayer_opt\u001b[0m\u001b[0;34m,\u001b[0m \u001b[0;36m1\u001b[0m\u001b[0;34m)\u001b[0m\u001b[0;34m\u001b[0m\u001b[0m\n\u001b[0m\u001b[1;32m    269\u001b[0m         \u001b[0mself\u001b[0m\u001b[0;34m.\u001b[0m\u001b[0mload\u001b[0m\u001b[0;34m(\u001b[0m\u001b[0;34m'tmp'\u001b[0m\u001b[0;34m)\u001b[0m\u001b[0;34m\u001b[0m\u001b[0m\n\u001b[1;32m    270\u001b[0m \u001b[0;34m\u001b[0m\u001b[0m\n",
      "\u001b[0;32m~/Documents/Skole/FastAi/fastai/learner.py\u001b[0m in \u001b[0;36mfit_gen\u001b[0;34m(self, model, data, layer_opt, n_cycle, cycle_len, cycle_mult, cycle_save_name, best_save_name, use_clr, metrics, callbacks, use_wd_sched, norm_wds, wds_sched_mult, **kwargs)\u001b[0m\n\u001b[1;32m    170\u001b[0m         \u001b[0mn_epoch\u001b[0m \u001b[0;34m=\u001b[0m \u001b[0msum_geom\u001b[0m\u001b[0;34m(\u001b[0m\u001b[0mcycle_len\u001b[0m \u001b[0;32mif\u001b[0m \u001b[0mcycle_len\u001b[0m \u001b[0;32melse\u001b[0m \u001b[0;36m1\u001b[0m\u001b[0;34m,\u001b[0m \u001b[0mcycle_mult\u001b[0m\u001b[0;34m,\u001b[0m \u001b[0mn_cycle\u001b[0m\u001b[0;34m)\u001b[0m\u001b[0;34m\u001b[0m\u001b[0m\n\u001b[1;32m    171\u001b[0m         return fit(model, data, n_epoch, layer_opt.opt, self.crit,\n\u001b[0;32m--> 172\u001b[0;31m             metrics=metrics, callbacks=callbacks, reg_fn=self.reg_fn, clip=self.clip, **kwargs)\n\u001b[0m\u001b[1;32m    173\u001b[0m \u001b[0;34m\u001b[0m\u001b[0m\n\u001b[1;32m    174\u001b[0m     \u001b[0;32mdef\u001b[0m \u001b[0mget_layer_groups\u001b[0m\u001b[0;34m(\u001b[0m\u001b[0mself\u001b[0m\u001b[0;34m)\u001b[0m\u001b[0;34m:\u001b[0m \u001b[0;32mreturn\u001b[0m \u001b[0mself\u001b[0m\u001b[0;34m.\u001b[0m\u001b[0mmodels\u001b[0m\u001b[0;34m.\u001b[0m\u001b[0mget_layer_groups\u001b[0m\u001b[0;34m(\u001b[0m\u001b[0;34m)\u001b[0m\u001b[0;34m\u001b[0m\u001b[0m\n",
      "\u001b[0;32m~/Documents/Skole/FastAi/fastai/model.py\u001b[0m in \u001b[0;36mfit\u001b[0;34m(model, data, epochs, opt, crit, metrics, callbacks, stepper, **kwargs)\u001b[0m\n\u001b[1;32m     91\u001b[0m         \u001b[0mt\u001b[0m \u001b[0;34m=\u001b[0m \u001b[0mtqdm\u001b[0m\u001b[0;34m(\u001b[0m\u001b[0miter\u001b[0m\u001b[0;34m(\u001b[0m\u001b[0mdata\u001b[0m\u001b[0;34m.\u001b[0m\u001b[0mtrn_dl\u001b[0m\u001b[0;34m)\u001b[0m\u001b[0;34m,\u001b[0m \u001b[0mleave\u001b[0m\u001b[0;34m=\u001b[0m\u001b[0;32mFalse\u001b[0m\u001b[0;34m,\u001b[0m \u001b[0mtotal\u001b[0m\u001b[0;34m=\u001b[0m\u001b[0mnum_batch\u001b[0m\u001b[0;34m)\u001b[0m\u001b[0;34m\u001b[0m\u001b[0m\n\u001b[1;32m     92\u001b[0m         \u001b[0mi\u001b[0m \u001b[0;34m=\u001b[0m \u001b[0;36m0\u001b[0m\u001b[0;34m\u001b[0m\u001b[0m\n\u001b[0;32m---> 93\u001b[0;31m         \u001b[0;32mfor\u001b[0m \u001b[0;34m(\u001b[0m\u001b[0;34m*\u001b[0m\u001b[0mx\u001b[0m\u001b[0;34m,\u001b[0m\u001b[0my\u001b[0m\u001b[0;34m)\u001b[0m \u001b[0;32min\u001b[0m \u001b[0mt\u001b[0m\u001b[0;34m:\u001b[0m\u001b[0;34m\u001b[0m\u001b[0m\n\u001b[0m\u001b[1;32m     94\u001b[0m             \u001b[0mbatch_num\u001b[0m \u001b[0;34m+=\u001b[0m \u001b[0;36m1\u001b[0m\u001b[0;34m\u001b[0m\u001b[0m\n\u001b[1;32m     95\u001b[0m             \u001b[0;32mfor\u001b[0m \u001b[0mcb\u001b[0m \u001b[0;32min\u001b[0m \u001b[0mcallbacks\u001b[0m\u001b[0;34m:\u001b[0m \u001b[0mcb\u001b[0m\u001b[0;34m.\u001b[0m\u001b[0mon_batch_begin\u001b[0m\u001b[0;34m(\u001b[0m\u001b[0;34m)\u001b[0m\u001b[0;34m\u001b[0m\u001b[0m\n",
      "\u001b[0;32m~/anaconda3/envs/fastai/lib/python3.6/site-packages/tqdm/_tqdm.py\u001b[0m in \u001b[0;36m__iter__\u001b[0;34m(self)\u001b[0m\n\u001b[1;32m    953\u001b[0m \"\"\", fp_write=getattr(self.fp, 'write', sys.stderr.write))\n\u001b[1;32m    954\u001b[0m \u001b[0;34m\u001b[0m\u001b[0m\n\u001b[0;32m--> 955\u001b[0;31m             \u001b[0;32mfor\u001b[0m \u001b[0mobj\u001b[0m \u001b[0;32min\u001b[0m \u001b[0miterable\u001b[0m\u001b[0;34m:\u001b[0m\u001b[0;34m\u001b[0m\u001b[0m\n\u001b[0m\u001b[1;32m    956\u001b[0m                 \u001b[0;32myield\u001b[0m \u001b[0mobj\u001b[0m\u001b[0;34m\u001b[0m\u001b[0m\n\u001b[1;32m    957\u001b[0m                 \u001b[0;31m# Update and possibly print the progressbar.\u001b[0m\u001b[0;34m\u001b[0m\u001b[0;34m\u001b[0m\u001b[0m\n",
      "\u001b[0;32m~/Documents/Skole/FastAi/fastai/dataloader.py\u001b[0m in \u001b[0;36m__iter__\u001b[0;34m(self)\u001b[0m\n\u001b[1;32m     82\u001b[0m                 \u001b[0;31m# avoid py3.6 issue where queue is infinite and can result in memory exhaustion\u001b[0m\u001b[0;34m\u001b[0m\u001b[0;34m\u001b[0m\u001b[0m\n\u001b[1;32m     83\u001b[0m                 \u001b[0;32mfor\u001b[0m \u001b[0mc\u001b[0m \u001b[0;32min\u001b[0m \u001b[0mchunk_iter\u001b[0m\u001b[0;34m(\u001b[0m\u001b[0miter\u001b[0m\u001b[0;34m(\u001b[0m\u001b[0mself\u001b[0m\u001b[0;34m.\u001b[0m\u001b[0mbatch_sampler\u001b[0m\u001b[0;34m)\u001b[0m\u001b[0;34m,\u001b[0m \u001b[0mself\u001b[0m\u001b[0;34m.\u001b[0m\u001b[0mnum_workers\u001b[0m\u001b[0;34m*\u001b[0m\u001b[0;36m10\u001b[0m\u001b[0;34m)\u001b[0m\u001b[0;34m:\u001b[0m\u001b[0;34m\u001b[0m\u001b[0m\n\u001b[0;32m---> 84\u001b[0;31m                     \u001b[0;32mfor\u001b[0m \u001b[0mbatch\u001b[0m \u001b[0;32min\u001b[0m \u001b[0me\u001b[0m\u001b[0;34m.\u001b[0m\u001b[0mmap\u001b[0m\u001b[0;34m(\u001b[0m\u001b[0mself\u001b[0m\u001b[0;34m.\u001b[0m\u001b[0mget_batch\u001b[0m\u001b[0;34m,\u001b[0m \u001b[0mc\u001b[0m\u001b[0;34m)\u001b[0m\u001b[0;34m:\u001b[0m \u001b[0;32myield\u001b[0m \u001b[0mget_tensor\u001b[0m\u001b[0;34m(\u001b[0m\u001b[0mbatch\u001b[0m\u001b[0;34m,\u001b[0m \u001b[0mself\u001b[0m\u001b[0;34m.\u001b[0m\u001b[0mpin_memory\u001b[0m\u001b[0;34m)\u001b[0m\u001b[0;34m\u001b[0m\u001b[0m\n\u001b[0m\u001b[1;32m     85\u001b[0m \u001b[0;34m\u001b[0m\u001b[0m\n",
      "\u001b[0;32m~/anaconda3/envs/fastai/lib/python3.6/concurrent/futures/_base.py\u001b[0m in \u001b[0;36mresult_iterator\u001b[0;34m()\u001b[0m\n\u001b[1;32m    584\u001b[0m                     \u001b[0;31m# Careful not to keep a reference to the popped future\u001b[0m\u001b[0;34m\u001b[0m\u001b[0;34m\u001b[0m\u001b[0m\n\u001b[1;32m    585\u001b[0m                     \u001b[0;32mif\u001b[0m \u001b[0mtimeout\u001b[0m \u001b[0;32mis\u001b[0m \u001b[0;32mNone\u001b[0m\u001b[0;34m:\u001b[0m\u001b[0;34m\u001b[0m\u001b[0m\n\u001b[0;32m--> 586\u001b[0;31m                         \u001b[0;32myield\u001b[0m \u001b[0mfs\u001b[0m\u001b[0;34m.\u001b[0m\u001b[0mpop\u001b[0m\u001b[0;34m(\u001b[0m\u001b[0;34m)\u001b[0m\u001b[0;34m.\u001b[0m\u001b[0mresult\u001b[0m\u001b[0;34m(\u001b[0m\u001b[0;34m)\u001b[0m\u001b[0;34m\u001b[0m\u001b[0m\n\u001b[0m\u001b[1;32m    587\u001b[0m                     \u001b[0;32melse\u001b[0m\u001b[0;34m:\u001b[0m\u001b[0;34m\u001b[0m\u001b[0m\n\u001b[1;32m    588\u001b[0m                         \u001b[0;32myield\u001b[0m \u001b[0mfs\u001b[0m\u001b[0;34m.\u001b[0m\u001b[0mpop\u001b[0m\u001b[0;34m(\u001b[0m\u001b[0;34m)\u001b[0m\u001b[0;34m.\u001b[0m\u001b[0mresult\u001b[0m\u001b[0;34m(\u001b[0m\u001b[0mend_time\u001b[0m \u001b[0;34m-\u001b[0m \u001b[0mtime\u001b[0m\u001b[0;34m.\u001b[0m\u001b[0mtime\u001b[0m\u001b[0;34m(\u001b[0m\u001b[0;34m)\u001b[0m\u001b[0;34m)\u001b[0m\u001b[0;34m\u001b[0m\u001b[0m\n",
      "\u001b[0;32m~/anaconda3/envs/fastai/lib/python3.6/concurrent/futures/_base.py\u001b[0m in \u001b[0;36mresult\u001b[0;34m(self, timeout)\u001b[0m\n\u001b[1;32m    430\u001b[0m                 \u001b[0;32mraise\u001b[0m \u001b[0mCancelledError\u001b[0m\u001b[0;34m(\u001b[0m\u001b[0;34m)\u001b[0m\u001b[0;34m\u001b[0m\u001b[0m\n\u001b[1;32m    431\u001b[0m             \u001b[0;32melif\u001b[0m \u001b[0mself\u001b[0m\u001b[0;34m.\u001b[0m\u001b[0m_state\u001b[0m \u001b[0;34m==\u001b[0m \u001b[0mFINISHED\u001b[0m\u001b[0;34m:\u001b[0m\u001b[0;34m\u001b[0m\u001b[0m\n\u001b[0;32m--> 432\u001b[0;31m                 \u001b[0;32mreturn\u001b[0m \u001b[0mself\u001b[0m\u001b[0;34m.\u001b[0m\u001b[0m__get_result\u001b[0m\u001b[0;34m(\u001b[0m\u001b[0;34m)\u001b[0m\u001b[0;34m\u001b[0m\u001b[0m\n\u001b[0m\u001b[1;32m    433\u001b[0m             \u001b[0;32melse\u001b[0m\u001b[0;34m:\u001b[0m\u001b[0;34m\u001b[0m\u001b[0m\n\u001b[1;32m    434\u001b[0m                 \u001b[0;32mraise\u001b[0m \u001b[0mTimeoutError\u001b[0m\u001b[0;34m(\u001b[0m\u001b[0;34m)\u001b[0m\u001b[0;34m\u001b[0m\u001b[0m\n",
      "\u001b[0;32m~/anaconda3/envs/fastai/lib/python3.6/concurrent/futures/_base.py\u001b[0m in \u001b[0;36m__get_result\u001b[0;34m(self)\u001b[0m\n\u001b[1;32m    382\u001b[0m     \u001b[0;32mdef\u001b[0m \u001b[0m__get_result\u001b[0m\u001b[0;34m(\u001b[0m\u001b[0mself\u001b[0m\u001b[0;34m)\u001b[0m\u001b[0;34m:\u001b[0m\u001b[0;34m\u001b[0m\u001b[0m\n\u001b[1;32m    383\u001b[0m         \u001b[0;32mif\u001b[0m \u001b[0mself\u001b[0m\u001b[0;34m.\u001b[0m\u001b[0m_exception\u001b[0m\u001b[0;34m:\u001b[0m\u001b[0;34m\u001b[0m\u001b[0m\n\u001b[0;32m--> 384\u001b[0;31m             \u001b[0;32mraise\u001b[0m \u001b[0mself\u001b[0m\u001b[0;34m.\u001b[0m\u001b[0m_exception\u001b[0m\u001b[0;34m\u001b[0m\u001b[0m\n\u001b[0m\u001b[1;32m    385\u001b[0m         \u001b[0;32melse\u001b[0m\u001b[0;34m:\u001b[0m\u001b[0;34m\u001b[0m\u001b[0m\n\u001b[1;32m    386\u001b[0m             \u001b[0;32mreturn\u001b[0m \u001b[0mself\u001b[0m\u001b[0;34m.\u001b[0m\u001b[0m_result\u001b[0m\u001b[0;34m\u001b[0m\u001b[0m\n",
      "\u001b[0;32m~/anaconda3/envs/fastai/lib/python3.6/concurrent/futures/thread.py\u001b[0m in \u001b[0;36mrun\u001b[0;34m(self)\u001b[0m\n\u001b[1;32m     54\u001b[0m \u001b[0;34m\u001b[0m\u001b[0m\n\u001b[1;32m     55\u001b[0m         \u001b[0;32mtry\u001b[0m\u001b[0;34m:\u001b[0m\u001b[0;34m\u001b[0m\u001b[0m\n\u001b[0;32m---> 56\u001b[0;31m             \u001b[0mresult\u001b[0m \u001b[0;34m=\u001b[0m \u001b[0mself\u001b[0m\u001b[0;34m.\u001b[0m\u001b[0mfn\u001b[0m\u001b[0;34m(\u001b[0m\u001b[0;34m*\u001b[0m\u001b[0mself\u001b[0m\u001b[0;34m.\u001b[0m\u001b[0margs\u001b[0m\u001b[0;34m,\u001b[0m \u001b[0;34m**\u001b[0m\u001b[0mself\u001b[0m\u001b[0;34m.\u001b[0m\u001b[0mkwargs\u001b[0m\u001b[0;34m)\u001b[0m\u001b[0;34m\u001b[0m\u001b[0m\n\u001b[0m\u001b[1;32m     57\u001b[0m         \u001b[0;32mexcept\u001b[0m \u001b[0mBaseException\u001b[0m \u001b[0;32mas\u001b[0m \u001b[0mexc\u001b[0m\u001b[0;34m:\u001b[0m\u001b[0;34m\u001b[0m\u001b[0m\n\u001b[1;32m     58\u001b[0m             \u001b[0mself\u001b[0m\u001b[0;34m.\u001b[0m\u001b[0mfuture\u001b[0m\u001b[0;34m.\u001b[0m\u001b[0mset_exception\u001b[0m\u001b[0;34m(\u001b[0m\u001b[0mexc\u001b[0m\u001b[0;34m)\u001b[0m\u001b[0;34m\u001b[0m\u001b[0m\n",
      "\u001b[0;32m~/Documents/Skole/FastAi/fastai/dataloader.py\u001b[0m in \u001b[0;36mget_batch\u001b[0;34m(self, indices)\u001b[0m\n\u001b[1;32m     69\u001b[0m \u001b[0;34m\u001b[0m\u001b[0m\n\u001b[1;32m     70\u001b[0m     \u001b[0;32mdef\u001b[0m \u001b[0mget_batch\u001b[0m\u001b[0;34m(\u001b[0m\u001b[0mself\u001b[0m\u001b[0;34m,\u001b[0m \u001b[0mindices\u001b[0m\u001b[0;34m)\u001b[0m\u001b[0;34m:\u001b[0m\u001b[0;34m\u001b[0m\u001b[0m\n\u001b[0;32m---> 71\u001b[0;31m         \u001b[0mres\u001b[0m \u001b[0;34m=\u001b[0m \u001b[0mself\u001b[0m\u001b[0;34m.\u001b[0m\u001b[0mnp_collate\u001b[0m\u001b[0;34m(\u001b[0m\u001b[0;34m[\u001b[0m\u001b[0mself\u001b[0m\u001b[0;34m.\u001b[0m\u001b[0mdataset\u001b[0m\u001b[0;34m[\u001b[0m\u001b[0mi\u001b[0m\u001b[0;34m]\u001b[0m \u001b[0;32mfor\u001b[0m \u001b[0mi\u001b[0m \u001b[0;32min\u001b[0m \u001b[0mindices\u001b[0m\u001b[0;34m]\u001b[0m\u001b[0;34m)\u001b[0m\u001b[0;34m\u001b[0m\u001b[0m\n\u001b[0m\u001b[1;32m     72\u001b[0m         \u001b[0;32mif\u001b[0m \u001b[0mself\u001b[0m\u001b[0;34m.\u001b[0m\u001b[0mtranspose\u001b[0m\u001b[0;34m:\u001b[0m   \u001b[0mres\u001b[0m\u001b[0;34m[\u001b[0m\u001b[0;36m0\u001b[0m\u001b[0;34m]\u001b[0m \u001b[0;34m=\u001b[0m \u001b[0mres\u001b[0m\u001b[0;34m[\u001b[0m\u001b[0;36m0\u001b[0m\u001b[0;34m]\u001b[0m\u001b[0;34m.\u001b[0m\u001b[0mT\u001b[0m\u001b[0;34m\u001b[0m\u001b[0m\n\u001b[1;32m     73\u001b[0m         \u001b[0;32mif\u001b[0m \u001b[0mself\u001b[0m\u001b[0;34m.\u001b[0m\u001b[0mtranspose_y\u001b[0m\u001b[0;34m:\u001b[0m \u001b[0mres\u001b[0m\u001b[0;34m[\u001b[0m\u001b[0;36m1\u001b[0m\u001b[0;34m]\u001b[0m \u001b[0;34m=\u001b[0m \u001b[0mres\u001b[0m\u001b[0;34m[\u001b[0m\u001b[0;36m1\u001b[0m\u001b[0;34m]\u001b[0m\u001b[0;34m.\u001b[0m\u001b[0mT\u001b[0m\u001b[0;34m\u001b[0m\u001b[0m\n",
      "\u001b[0;32m~/Documents/Skole/FastAi/fastai/dataloader.py\u001b[0m in \u001b[0;36m<listcomp>\u001b[0;34m(.0)\u001b[0m\n\u001b[1;32m     69\u001b[0m \u001b[0;34m\u001b[0m\u001b[0m\n\u001b[1;32m     70\u001b[0m     \u001b[0;32mdef\u001b[0m \u001b[0mget_batch\u001b[0m\u001b[0;34m(\u001b[0m\u001b[0mself\u001b[0m\u001b[0;34m,\u001b[0m \u001b[0mindices\u001b[0m\u001b[0;34m)\u001b[0m\u001b[0;34m:\u001b[0m\u001b[0;34m\u001b[0m\u001b[0m\n\u001b[0;32m---> 71\u001b[0;31m         \u001b[0mres\u001b[0m \u001b[0;34m=\u001b[0m \u001b[0mself\u001b[0m\u001b[0;34m.\u001b[0m\u001b[0mnp_collate\u001b[0m\u001b[0;34m(\u001b[0m\u001b[0;34m[\u001b[0m\u001b[0mself\u001b[0m\u001b[0;34m.\u001b[0m\u001b[0mdataset\u001b[0m\u001b[0;34m[\u001b[0m\u001b[0mi\u001b[0m\u001b[0;34m]\u001b[0m \u001b[0;32mfor\u001b[0m \u001b[0mi\u001b[0m \u001b[0;32min\u001b[0m \u001b[0mindices\u001b[0m\u001b[0;34m]\u001b[0m\u001b[0;34m)\u001b[0m\u001b[0;34m\u001b[0m\u001b[0m\n\u001b[0m\u001b[1;32m     72\u001b[0m         \u001b[0;32mif\u001b[0m \u001b[0mself\u001b[0m\u001b[0;34m.\u001b[0m\u001b[0mtranspose\u001b[0m\u001b[0;34m:\u001b[0m   \u001b[0mres\u001b[0m\u001b[0;34m[\u001b[0m\u001b[0;36m0\u001b[0m\u001b[0;34m]\u001b[0m \u001b[0;34m=\u001b[0m \u001b[0mres\u001b[0m\u001b[0;34m[\u001b[0m\u001b[0;36m0\u001b[0m\u001b[0;34m]\u001b[0m\u001b[0;34m.\u001b[0m\u001b[0mT\u001b[0m\u001b[0;34m\u001b[0m\u001b[0m\n\u001b[1;32m     73\u001b[0m         \u001b[0;32mif\u001b[0m \u001b[0mself\u001b[0m\u001b[0;34m.\u001b[0m\u001b[0mtranspose_y\u001b[0m\u001b[0;34m:\u001b[0m \u001b[0mres\u001b[0m\u001b[0;34m[\u001b[0m\u001b[0;36m1\u001b[0m\u001b[0;34m]\u001b[0m \u001b[0;34m=\u001b[0m \u001b[0mres\u001b[0m\u001b[0;34m[\u001b[0m\u001b[0;36m1\u001b[0m\u001b[0;34m]\u001b[0m\u001b[0;34m.\u001b[0m\u001b[0mT\u001b[0m\u001b[0;34m\u001b[0m\u001b[0m\n",
      "\u001b[0;32m~/Documents/Skole/FastAi/fastai/dataset.py\u001b[0m in \u001b[0;36m__getitem__\u001b[0;34m(self, idx)\u001b[0m\n\u001b[1;32m    159\u001b[0m \u001b[0;34m\u001b[0m\u001b[0m\n\u001b[1;32m    160\u001b[0m     \u001b[0;32mdef\u001b[0m \u001b[0m__getitem__\u001b[0m\u001b[0;34m(\u001b[0m\u001b[0mself\u001b[0m\u001b[0;34m,\u001b[0m \u001b[0midx\u001b[0m\u001b[0;34m)\u001b[0m\u001b[0;34m:\u001b[0m\u001b[0;34m\u001b[0m\u001b[0m\n\u001b[0;32m--> 161\u001b[0;31m         \u001b[0mx\u001b[0m\u001b[0;34m,\u001b[0m\u001b[0my\u001b[0m \u001b[0;34m=\u001b[0m \u001b[0mself\u001b[0m\u001b[0;34m.\u001b[0m\u001b[0mget_x\u001b[0m\u001b[0;34m(\u001b[0m\u001b[0midx\u001b[0m\u001b[0;34m)\u001b[0m\u001b[0;34m,\u001b[0m\u001b[0mself\u001b[0m\u001b[0;34m.\u001b[0m\u001b[0mget_y\u001b[0m\u001b[0;34m(\u001b[0m\u001b[0midx\u001b[0m\u001b[0;34m)\u001b[0m\u001b[0;34m\u001b[0m\u001b[0m\n\u001b[0m\u001b[1;32m    162\u001b[0m         \u001b[0;32mreturn\u001b[0m \u001b[0mself\u001b[0m\u001b[0;34m.\u001b[0m\u001b[0mget\u001b[0m\u001b[0;34m(\u001b[0m\u001b[0mself\u001b[0m\u001b[0;34m.\u001b[0m\u001b[0mtransform\u001b[0m\u001b[0;34m,\u001b[0m \u001b[0mx\u001b[0m\u001b[0;34m,\u001b[0m \u001b[0my\u001b[0m\u001b[0;34m)\u001b[0m\u001b[0;34m\u001b[0m\u001b[0m\n\u001b[1;32m    163\u001b[0m \u001b[0;34m\u001b[0m\u001b[0m\n",
      "\u001b[0;32m~/Documents/Skole/FastAi/fastai/dataset.py\u001b[0m in \u001b[0;36mget_x\u001b[0;34m(self, i)\u001b[0m\n\u001b[1;32m    229\u001b[0m         \u001b[0msuper\u001b[0m\u001b[0;34m(\u001b[0m\u001b[0;34m)\u001b[0m\u001b[0;34m.\u001b[0m\u001b[0m__init__\u001b[0m\u001b[0;34m(\u001b[0m\u001b[0mtransform\u001b[0m\u001b[0;34m)\u001b[0m\u001b[0;34m\u001b[0m\u001b[0m\n\u001b[1;32m    230\u001b[0m     \u001b[0;32mdef\u001b[0m \u001b[0mget_sz\u001b[0m\u001b[0;34m(\u001b[0m\u001b[0mself\u001b[0m\u001b[0;34m)\u001b[0m\u001b[0;34m:\u001b[0m \u001b[0;32mreturn\u001b[0m \u001b[0mself\u001b[0m\u001b[0;34m.\u001b[0m\u001b[0mtransform\u001b[0m\u001b[0;34m.\u001b[0m\u001b[0msz\u001b[0m\u001b[0;34m\u001b[0m\u001b[0m\n\u001b[0;32m--> 231\u001b[0;31m     \u001b[0;32mdef\u001b[0m \u001b[0mget_x\u001b[0m\u001b[0;34m(\u001b[0m\u001b[0mself\u001b[0m\u001b[0;34m,\u001b[0m \u001b[0mi\u001b[0m\u001b[0;34m)\u001b[0m\u001b[0;34m:\u001b[0m \u001b[0;32mreturn\u001b[0m \u001b[0mopen_image\u001b[0m\u001b[0;34m(\u001b[0m\u001b[0mos\u001b[0m\u001b[0;34m.\u001b[0m\u001b[0mpath\u001b[0m\u001b[0;34m.\u001b[0m\u001b[0mjoin\u001b[0m\u001b[0;34m(\u001b[0m\u001b[0mself\u001b[0m\u001b[0;34m.\u001b[0m\u001b[0mpath\u001b[0m\u001b[0;34m,\u001b[0m \u001b[0mself\u001b[0m\u001b[0;34m.\u001b[0m\u001b[0mfnames\u001b[0m\u001b[0;34m[\u001b[0m\u001b[0mi\u001b[0m\u001b[0;34m]\u001b[0m\u001b[0;34m)\u001b[0m\u001b[0;34m)\u001b[0m\u001b[0;34m\u001b[0m\u001b[0m\n\u001b[0m\u001b[1;32m    232\u001b[0m     \u001b[0;32mdef\u001b[0m \u001b[0mget_n\u001b[0m\u001b[0;34m(\u001b[0m\u001b[0mself\u001b[0m\u001b[0;34m)\u001b[0m\u001b[0;34m:\u001b[0m \u001b[0;32mreturn\u001b[0m \u001b[0mlen\u001b[0m\u001b[0;34m(\u001b[0m\u001b[0mself\u001b[0m\u001b[0;34m.\u001b[0m\u001b[0mfnames\u001b[0m\u001b[0;34m)\u001b[0m\u001b[0;34m\u001b[0m\u001b[0m\n\u001b[1;32m    233\u001b[0m \u001b[0;34m\u001b[0m\u001b[0m\n",
      "\u001b[0;32m~/Documents/Skole/FastAi/fastai/dataset.py\u001b[0m in \u001b[0;36mopen_image\u001b[0;34m(fn)\u001b[0m\n\u001b[1;32m    222\u001b[0m             \u001b[0;32mreturn\u001b[0m \u001b[0mcv2\u001b[0m\u001b[0;34m.\u001b[0m\u001b[0mcvtColor\u001b[0m\u001b[0;34m(\u001b[0m\u001b[0mim\u001b[0m\u001b[0;34m,\u001b[0m \u001b[0mcv2\u001b[0m\u001b[0;34m.\u001b[0m\u001b[0mCOLOR_BGR2RGB\u001b[0m\u001b[0;34m)\u001b[0m\u001b[0;34m\u001b[0m\u001b[0m\n\u001b[1;32m    223\u001b[0m         \u001b[0;32mexcept\u001b[0m \u001b[0mException\u001b[0m \u001b[0;32mas\u001b[0m \u001b[0me\u001b[0m\u001b[0;34m:\u001b[0m\u001b[0;34m\u001b[0m\u001b[0m\n\u001b[0;32m--> 224\u001b[0;31m             \u001b[0;32mraise\u001b[0m \u001b[0mOSError\u001b[0m\u001b[0;34m(\u001b[0m\u001b[0;34m'Error handling image at: {}'\u001b[0m\u001b[0;34m.\u001b[0m\u001b[0mformat\u001b[0m\u001b[0;34m(\u001b[0m\u001b[0mfn\u001b[0m\u001b[0;34m)\u001b[0m\u001b[0;34m)\u001b[0m \u001b[0;32mfrom\u001b[0m \u001b[0me\u001b[0m\u001b[0;34m\u001b[0m\u001b[0m\n\u001b[0m\u001b[1;32m    225\u001b[0m \u001b[0;34m\u001b[0m\u001b[0m\n\u001b[1;32m    226\u001b[0m \u001b[0;32mclass\u001b[0m \u001b[0mFilesDataset\u001b[0m\u001b[0;34m(\u001b[0m\u001b[0mBaseDataset\u001b[0m\u001b[0;34m)\u001b[0m\u001b[0;34m:\u001b[0m\u001b[0;34m\u001b[0m\u001b[0m\n",
      "\u001b[0;31mOSError\u001b[0m: Error handling image at: data/train/Female_face/Female_face.16.jpg"
     ]
    }
   ],
   "source": [
    "learn.lr_find()"
   ]
  },
  {
   "cell_type": "markdown",
   "metadata": {},
   "source": [
    "## Problems because of non-valid image types\n",
    "\n",
    "> <div class=\"alert alert-block alert-info\">\n",
    "Can use module *imghdr* to verify image types\n",
    "</div>"
   ]
  },
  {
   "cell_type": "code",
   "execution_count": 17,
   "metadata": {},
   "outputs": [
    {
     "data": {
      "text/plain": [
       "'jpeg'"
      ]
     },
     "execution_count": 17,
     "metadata": {},
     "output_type": "execute_result"
    }
   ],
   "source": [
    "import imghdr\n",
    "imghdr.what(f'{PATH}{train_path}{class1_path}{files[0]}')"
   ]
  },
  {
   "cell_type": "markdown",
   "metadata": {},
   "source": [
    "### Need to loop through datasets to remove invalid images \n",
    "\n",
    "> <div class=\"alert alert-block alert-info\">\n",
    "But first, interesting to see how much data we will be losing\n",
    "</div>"
   ]
  },
  {
   "cell_type": "code",
   "execution_count": 18,
   "metadata": {},
   "outputs": [],
   "source": [
    "class1_train = PATH + train_path + class1_path\n",
    "class2_train = PATH + train_path + class2_path\n",
    "class1_valid = PATH + valid_path + class1_path\n",
    "class2_valid = PATH + valid_path + class2_path"
   ]
  },
  {
   "cell_type": "code",
   "execution_count": 19,
   "metadata": {},
   "outputs": [
    {
     "name": "stdout",
     "output_type": "stream",
     "text": [
      "Male_face training files:  80\n",
      "Female_face training files:  80\n",
      "Male_face validation files:  22\n",
      "Female_face validation files:  22\n"
     ]
    }
   ],
   "source": [
    "print(class1_path[:-1] + \" training files: \" , len(os.listdir(PATH + train_path + class1_path)))\n",
    "print(class2_path[:-1] + \" training files: \" , len(os.listdir(PATH + train_path + class2_path)))\n",
    "print(class1_path[:-1] + \" validation files: \" , len(os.listdir(PATH + valid_path + class1_path)))\n",
    "print(class2_path[:-1] + \" validation files: \" , len(os.listdir(PATH + valid_path + class2_path)))"
   ]
  },
  {
   "cell_type": "code",
   "execution_count": 20,
   "metadata": {},
   "outputs": [
    {
     "name": "stdout",
     "output_type": "stream",
     "text": [
      "Deleting Female_face.17.jpg in folder data/train/Female_face/\n",
      "Deleting Female_face.77.jpg in folder data/train/Female_face/\n",
      "Deleting Female_face.15.jpg in folder data/train/Female_face/\n",
      "Deleting Female_face.73.jpg in folder data/train/Female_face/\n",
      "Deleting Female_face.47.jpg in folder data/train/Female_face/\n",
      "Deleting Female_face.79.jpg in folder data/train/Female_face/\n",
      "Deleting Female_face.46.jpg in folder data/train/Female_face/\n",
      "Deleting Female_face.58.jpg in folder data/train/Female_face/\n",
      "Deleting Female_face.66.jpg in folder data/train/Female_face/\n",
      "Deleting Female_face.16.jpg in folder data/train/Female_face/\n",
      "Deleting Female_face.39.jpg in folder data/train/Female_face/\n",
      "Deleting Female_face.53.jpg in folder data/train/Female_face/\n",
      "Deleting Female_face.97.jpg in folder data/valid/Female_face/\n",
      "Deleting Female_face.85.jpg in folder data/valid/Female_face/\n",
      "Deleting Female_face.96.jpg in folder data/valid/Female_face/\n",
      "Deleting Female_face.10.jpg in folder data/valid/Female_face/\n",
      "Deleting Female_face.88.jpg in folder data/valid/Female_face/\n"
     ]
    }
   ],
   "source": [
    "file_paths = [class1_train, \n",
    "              class2_train, \n",
    "              class1_valid, \n",
    "              class2_valid]\n",
    "for path in file_paths:\n",
    "    for files in os.listdir(path):\n",
    "        if imghdr.what(path + files) != 'jpeg':\n",
    "            os.remove(path + files)\n",
    "            print(\"Deleting \" + files + \" in folder \" + path)"
   ]
  },
  {
   "cell_type": "code",
   "execution_count": 21,
   "metadata": {},
   "outputs": [
    {
     "name": "stdout",
     "output_type": "stream",
     "text": [
      "Male_face training files:  80\n",
      "Female_face training files:  68\n",
      "Male_face validation files:  22\n",
      "Female_face validation files:  17\n"
     ]
    }
   ],
   "source": [
    "print(class1_path[:-1] + \" training files: \" , len(os.listdir(PATH + train_path + class1_path)))\n",
    "print(class2_path[:-1] + \" training files: \" , len(os.listdir(PATH + train_path + class2_path)))\n",
    "print(class1_path[:-1] + \" validation files: \" , len(os.listdir(PATH + valid_path + class1_path)))\n",
    "print(class2_path[:-1] + \" validation files: \" , len(os.listdir(PATH + valid_path + class2_path)))"
   ]
  },
  {
   "cell_type": "markdown",
   "metadata": {},
   "source": [
    "## NOTE: May be possible to switch image types, so to minimize data loss "
   ]
  },
  {
   "cell_type": "markdown",
   "metadata": {},
   "source": [
    "## New data set, so new training"
   ]
  },
  {
   "cell_type": "code",
   "execution_count": 57,
   "metadata": {},
   "outputs": [],
   "source": [
    "tfms = tfms_from_model(arch, sz, aug_tfms=transforms_side_on, max_zoom=1.1)\n",
    "data = ImageClassifierData.from_paths(PATH, tfms=tfms, bs=bs, num_workers=4)\n",
    "learn = ConvLearner.pretrained(arch, data, ps=0.2)"
   ]
  },
  {
   "cell_type": "code",
   "execution_count": 58,
   "metadata": {},
   "outputs": [
    {
     "data": {
      "application/vnd.jupyter.widget-view+json": {
       "model_id": "17f2e39db62b4871b2b23bae6e09047f",
       "version_major": 2,
       "version_minor": 0
      },
      "text/html": [
       "<p>Failed to display Jupyter Widget of type <code>HBox</code>.</p>\n",
       "<p>\n",
       "  If you're reading this message in the Jupyter Notebook or JupyterLab Notebook, it may mean\n",
       "  that the widgets JavaScript is still loading. If this message persists, it\n",
       "  likely means that the widgets JavaScript library is either not installed or\n",
       "  not enabled. See the <a href=\"https://ipywidgets.readthedocs.io/en/stable/user_install.html\">Jupyter\n",
       "  Widgets Documentation</a> for setup instructions.\n",
       "</p>\n",
       "<p>\n",
       "  If you're reading this message in another frontend (for example, a static\n",
       "  rendering on GitHub or <a href=\"https://nbviewer.jupyter.org/\">NBViewer</a>),\n",
       "  it may mean that your frontend doesn't currently support widgets.\n",
       "</p>\n"
      ],
      "text/plain": [
       "HBox(children=(IntProgress(value=0, description='Epoch', max=1), HTML(value='')))"
      ]
     },
     "metadata": {},
     "output_type": "display_data"
    },
    {
     "name": "stdout",
     "output_type": "stream",
     "text": [
      "epoch      trn_loss   val_loss   accuracy                \n",
      "    0      0.794192   0.561959   0.921875  \n",
      "\n"
     ]
    }
   ],
   "source": [
    "learn.lr_find()"
   ]
  },
  {
   "cell_type": "code",
   "execution_count": 59,
   "metadata": {},
   "outputs": [
    {
     "data": {
      "image/png": "[encoded data removed]",
      "text/plain": [
       "<Figure size 432x288 with 1 Axes>"
      ]
     },
     "metadata": {},
     "output_type": "display_data"
    }
   ],
   "source": [
    "learn.sched.plot()"
   ]
  },
  {
   "cell_type": "markdown",
   "metadata": {},
   "source": [
    "## Not enough data - Will be added when eliminated 100-limit"
   ]
  },
  {
   "cell_type": "code",
   "execution_count": 60,
   "metadata": {},
   "outputs": [
    {
     "data": {
      "application/vnd.jupyter.widget-view+json": {
       "model_id": "ae538618b0a341e3b037a2ca0d85d15a",
       "version_major": 2,
       "version_minor": 0
      },
      "text/html": [
       "<p>Failed to display Jupyter Widget of type <code>HBox</code>.</p>\n",
       "<p>\n",
       "  If you're reading this message in the Jupyter Notebook or JupyterLab Notebook, it may mean\n",
       "  that the widgets JavaScript is still loading. If this message persists, it\n",
       "  likely means that the widgets JavaScript library is either not installed or\n",
       "  not enabled. See the <a href=\"https://ipywidgets.readthedocs.io/en/stable/user_install.html\">Jupyter\n",
       "  Widgets Documentation</a> for setup instructions.\n",
       "</p>\n",
       "<p>\n",
       "  If you're reading this message in another frontend (for example, a static\n",
       "  rendering on GitHub or <a href=\"https://nbviewer.jupyter.org/\">NBViewer</a>),\n",
       "  it may mean that your frontend doesn't currently support widgets.\n",
       "</p>\n"
      ],
      "text/plain": [
       "HBox(children=(IntProgress(value=0, description='Epoch', max=2), HTML(value='')))"
      ]
     },
     "metadata": {},
     "output_type": "display_data"
    },
    {
     "name": "stdout",
     "output_type": "stream",
     "text": [
      "epoch      trn_loss   val_loss   accuracy                \n",
      "    0      0.703118   0.950712   0.3125    \n",
      "    1      0.506638   0.543642   0.779018                \n",
      "\n"
     ]
    },
    {
     "data": {
      "text/plain": [
       "[0.5436419, 0.7790178656578064]"
      ]
     },
     "execution_count": 60,
     "metadata": {},
     "output_type": "execute_result"
    }
   ],
   "source": [
    "learn.fit(1e-2, 2, cycle_len=1)"
   ]
  },
  {
   "cell_type": "code",
   "execution_count": 61,
   "metadata": {},
   "outputs": [],
   "source": [
    "learn.unfreeze()"
   ]
  },
  {
   "cell_type": "code",
   "execution_count": 62,
   "metadata": {},
   "outputs": [],
   "source": [
    "lr = np.array([1e-4, 1e-3, 1e-2])"
   ]
  },
  {
   "cell_type": "code",
   "execution_count": 63,
   "metadata": {},
   "outputs": [
    {
     "data": {
      "application/vnd.jupyter.widget-view+json": {
       "model_id": "0620a8e6352c4934abda7a19fcf31401",
       "version_major": 2,
       "version_minor": 0
      },
      "text/html": [
       "<p>Failed to display Jupyter Widget of type <code>HBox</code>.</p>\n",
       "<p>\n",
       "  If you're reading this message in the Jupyter Notebook or JupyterLab Notebook, it may mean\n",
       "  that the widgets JavaScript is still loading. If this message persists, it\n",
       "  likely means that the widgets JavaScript library is either not installed or\n",
       "  not enabled. See the <a href=\"https://ipywidgets.readthedocs.io/en/stable/user_install.html\">Jupyter\n",
       "  Widgets Documentation</a> for setup instructions.\n",
       "</p>\n",
       "<p>\n",
       "  If you're reading this message in another frontend (for example, a static\n",
       "  rendering on GitHub or <a href=\"https://nbviewer.jupyter.org/\">NBViewer</a>),\n",
       "  it may mean that your frontend doesn't currently support widgets.\n",
       "</p>\n"
      ],
      "text/plain": [
       "HBox(children=(IntProgress(value=0, description='Epoch', max=7), HTML(value='')))"
      ]
     },
     "metadata": {},
     "output_type": "display_data"
    },
    {
     "name": "stdout",
     "output_type": "stream",
     "text": [
      "epoch      trn_loss   val_loss   accuracy                \n",
      "    0      0.406947   0.550911   0.723214  \n",
      "    1      0.338108   0.41334    0.850446                \n",
      "    2      0.278519   0.435243   0.850446                \n",
      "    3      0.232815   0.528135   0.794643                \n",
      "    4      0.19374    0.618249   0.810268                \n",
      "    5      0.161745   0.664048   0.794643                \n",
      "    6      0.136889   0.664547   0.794643                \n",
      "\n"
     ]
    },
    {
     "data": {
      "text/plain": [
       "[0.66454744, 0.7946428656578064]"
      ]
     },
     "execution_count": 63,
     "metadata": {},
     "output_type": "execute_result"
    }
   ],
   "source": [
    "learn.fit(lr, 3, cycle_len=1, cycle_mult=2)"
   ]
  },
  {
   "cell_type": "code",
   "execution_count": 64,
   "metadata": {},
   "outputs": [
    {
     "name": "stdout",
     "output_type": "stream",
     "text": [
      "                                             \r"
     ]
    },
    {
     "data": {
      "text/plain": [
       "0.8717948717948718"
      ]
     },
     "execution_count": 64,
     "metadata": {},
     "output_type": "execute_result"
    }
   ],
   "source": [
    "log_preds, y = learn.TTA()\n",
    "probs = np.mean(np.exp(log_preds), 0)\n",
    "\n",
    "accuracy_np(probs, y)"
   ]
  },
  {
   "cell_type": "markdown",
   "metadata": {},
   "source": [
    "## Overfitting\n",
    "\n",
    "### When *validation loss* >> *training* \n",
    "\n",
    "> <div class=\"alert alert-block alert-info\">\n",
    "Increase dropout, unfreeze and use differential learning rates"
   ]
  },
  {
   "cell_type": "code",
   "execution_count": 75,
   "metadata": {},
   "outputs": [
    {
     "data": {
      "application/vnd.jupyter.widget-view+json": {
       "model_id": "e9e58e502df24a4c8e34c2378b09f46b",
       "version_major": 2,
       "version_minor": 0
      },
      "text/html": [
       "<p>Failed to display Jupyter Widget of type <code>HBox</code>.</p>\n",
       "<p>\n",
       "  If you're reading this message in the Jupyter Notebook or JupyterLab Notebook, it may mean\n",
       "  that the widgets JavaScript is still loading. If this message persists, it\n",
       "  likely means that the widgets JavaScript library is either not installed or\n",
       "  not enabled. See the <a href=\"https://ipywidgets.readthedocs.io/en/stable/user_install.html\">Jupyter\n",
       "  Widgets Documentation</a> for setup instructions.\n",
       "</p>\n",
       "<p>\n",
       "  If you're reading this message in another frontend (for example, a static\n",
       "  rendering on GitHub or <a href=\"https://nbviewer.jupyter.org/\">NBViewer</a>),\n",
       "  it may mean that your frontend doesn't currently support widgets.\n",
       "</p>\n"
      ],
      "text/plain": [
       "HBox(children=(IntProgress(value=0, description='Epoch', max=7), HTML(value='')))"
      ]
     },
     "metadata": {},
     "output_type": "display_data"
    },
    {
     "name": "stdout",
     "output_type": "stream",
     "text": [
      "epoch      trn_loss   val_loss   accuracy                \n",
      "    0      0.765913   0.772991   0.502232  \n",
      "    1      0.601308   0.454604   0.881696                \n",
      "    2      0.48054    0.43097    0.912946                \n",
      "    3      0.418778   0.344445   0.912946                \n",
      "    4      0.354858   0.325415   0.912946                \n",
      "    5      0.328787   0.351999   0.912946                \n",
      "    6      0.304601   0.351952   0.912946                \n",
      "\n"
     ]
    },
    {
     "data": {
      "text/plain": [
       "[0.35195178, 0.9129464328289032]"
      ]
     },
     "execution_count": 75,
     "metadata": {},
     "output_type": "execute_result"
    }
   ],
   "source": [
    "learn = ConvLearner.pretrained(arch, data, ps=[0.2, 0.4, 0.7])\n",
    "learn.fit(1e-2, 3, cycle_len=1, cycle_mult=2)"
   ]
  },
  {
   "cell_type": "code",
   "execution_count": 76,
   "metadata": {},
   "outputs": [
    {
     "data": {
      "application/vnd.jupyter.widget-view+json": {
       "model_id": "03cc0b1895d649e2b7a85e05c485ddab",
       "version_major": 2,
       "version_minor": 0
      },
      "text/html": [
       "<p>Failed to display Jupyter Widget of type <code>HBox</code>.</p>\n",
       "<p>\n",
       "  If you're reading this message in the Jupyter Notebook or JupyterLab Notebook, it may mean\n",
       "  that the widgets JavaScript is still loading. If this message persists, it\n",
       "  likely means that the widgets JavaScript library is either not installed or\n",
       "  not enabled. See the <a href=\"https://ipywidgets.readthedocs.io/en/stable/user_install.html\">Jupyter\n",
       "  Widgets Documentation</a> for setup instructions.\n",
       "</p>\n",
       "<p>\n",
       "  If you're reading this message in another frontend (for example, a static\n",
       "  rendering on GitHub or <a href=\"https://nbviewer.jupyter.org/\">NBViewer</a>),\n",
       "  it may mean that your frontend doesn't currently support widgets.\n",
       "</p>\n"
      ],
      "text/plain": [
       "HBox(children=(IntProgress(value=0, description='Epoch', max=7), HTML(value='')))"
      ]
     },
     "metadata": {},
     "output_type": "display_data"
    },
    {
     "name": "stdout",
     "output_type": "stream",
     "text": [
      "epoch      trn_loss   val_loss   accuracy                \n",
      "    0      0.447023   0.462335   0.881696  \n",
      "    1      0.333076   0.552891   0.897321                \n",
      "    2      0.268554   0.503929   0.866071                \n",
      "    3      0.241319   0.515978   0.850446                \n",
      "    4      0.20772    0.514651   0.881696                \n",
      "    5      0.180685   0.560135   0.881696                \n",
      "    6      0.172515   0.563079   0.866071                \n",
      "\n"
     ]
    },
    {
     "data": {
      "text/plain": [
       "[0.5630786, 0.8660714328289032]"
      ]
     },
     "execution_count": 76,
     "metadata": {},
     "output_type": "execute_result"
    }
   ],
   "source": [
    "learn.unfreeze()\n",
    "learn.fit(lr, 3, cycle_len=1, cycle_mult=2)"
   ]
  },
  {
   "cell_type": "code",
   "execution_count": 88,
   "metadata": {},
   "outputs": [
    {
     "data": {
      "application/vnd.jupyter.widget-view+json": {
       "model_id": "10c15ae2237d449797756a6c77bb7d3e",
       "version_major": 2,
       "version_minor": 0
      },
      "text/html": [
       "<p>Failed to display Jupyter Widget of type <code>HBox</code>.</p>\n",
       "<p>\n",
       "  If you're reading this message in the Jupyter Notebook or JupyterLab Notebook, it may mean\n",
       "  that the widgets JavaScript is still loading. If this message persists, it\n",
       "  likely means that the widgets JavaScript library is either not installed or\n",
       "  not enabled. See the <a href=\"https://ipywidgets.readthedocs.io/en/stable/user_install.html\">Jupyter\n",
       "  Widgets Documentation</a> for setup instructions.\n",
       "</p>\n",
       "<p>\n",
       "  If you're reading this message in another frontend (for example, a static\n",
       "  rendering on GitHub or <a href=\"https://nbviewer.jupyter.org/\">NBViewer</a>),\n",
       "  it may mean that your frontend doesn't currently support widgets.\n",
       "</p>\n"
      ],
      "text/plain": [
       "HBox(children=(IntProgress(value=0, description='Epoch', max=7), HTML(value='')))"
      ]
     },
     "metadata": {},
     "output_type": "display_data"
    },
    {
     "name": "stdout",
     "output_type": "stream",
     "text": [
      "epoch      trn_loss   val_loss   accuracy                \n",
      "    0      0.857537   0.674244   0.582589  \n",
      "    1      0.665631   0.507587   0.810268                \n",
      "    2      0.576272   0.438909   0.810268                \n",
      "    3      0.485231   0.397007   0.825893                \n",
      "    4      0.420971   0.356619   0.912946                \n",
      "    5      0.358489   0.33905    0.912946                \n",
      "    6      0.322631   0.336737   0.912946                \n",
      "\n"
     ]
    },
    {
     "data": {
      "text/plain": [
       "[0.3367365, 0.9129464328289032]"
      ]
     },
     "execution_count": 88,
     "metadata": {},
     "output_type": "execute_result"
    }
   ],
   "source": [
    "ps = [0.2, 0.4, 0.7]\n",
    "learn = ConvLearner.pretrained(arch, data, ps=ps)\n",
    "learn.fit(1e-2, 3, cycle_len=1, cycle_mult=2)"
   ]
  },
  {
   "cell_type": "code",
   "execution_count": 89,
   "metadata": {},
   "outputs": [
    {
     "data": {
      "application/vnd.jupyter.widget-view+json": {
       "model_id": "7b298898e8f847eda5579fef626cd6d7",
       "version_major": 2,
       "version_minor": 0
      },
      "text/html": [
       "<p>Failed to display Jupyter Widget of type <code>HBox</code>.</p>\n",
       "<p>\n",
       "  If you're reading this message in the Jupyter Notebook or JupyterLab Notebook, it may mean\n",
       "  that the widgets JavaScript is still loading. If this message persists, it\n",
       "  likely means that the widgets JavaScript library is either not installed or\n",
       "  not enabled. See the <a href=\"https://ipywidgets.readthedocs.io/en/stable/user_install.html\">Jupyter\n",
       "  Widgets Documentation</a> for setup instructions.\n",
       "</p>\n",
       "<p>\n",
       "  If you're reading this message in another frontend (for example, a static\n",
       "  rendering on GitHub or <a href=\"https://nbviewer.jupyter.org/\">NBViewer</a>),\n",
       "  it may mean that your frontend doesn't currently support widgets.\n",
       "</p>\n"
      ],
      "text/plain": [
       "HBox(children=(IntProgress(value=0, description='Epoch', max=7), HTML(value='')))"
      ]
     },
     "metadata": {},
     "output_type": "display_data"
    },
    {
     "name": "stdout",
     "output_type": "stream",
     "text": [
      "epoch      trn_loss   val_loss   accuracy                \n",
      "    0      0.418203   0.410679   0.881696  \n",
      "    1      0.340261   0.498043   0.866071                \n",
      "    2      0.322062   0.469353   0.866071                \n",
      "    3      0.287454   0.457455   0.866071                \n",
      "    4      0.257225   0.497951   0.866071                \n",
      "    5      0.221175   0.510906   0.866071                \n",
      "    6      0.20601    0.523374   0.866071                \n",
      "\n"
     ]
    },
    {
     "data": {
      "text/plain": [
       "[0.52337444, 0.8660714328289032]"
      ]
     },
     "execution_count": 89,
     "metadata": {},
     "output_type": "execute_result"
    }
   ],
   "source": [
    "lr = [1e-6, 1e-4, 1e-2]\n",
    "learn.unfreeze()\n",
    "learn.fit(lr, 3, cycle_len=1, cycle_mult=2)"
   ]
  },
  {
   "cell_type": "code",
   "execution_count": 90,
   "metadata": {},
   "outputs": [
    {
     "name": "stdout",
     "output_type": "stream",
     "text": [
      "                                             \r"
     ]
    },
    {
     "data": {
      "text/plain": [
       "0.8974358974358975"
      ]
     },
     "execution_count": 90,
     "metadata": {},
     "output_type": "execute_result"
    }
   ],
   "source": [
    "log_preds, y = learn.TTA()\n",
    "probs = np.mean(np.exp(log_preds), 0)\n",
    "\n",
    "accuracy_np(probs, y)"
   ]
  },
  {
   "cell_type": "markdown",
   "metadata": {},
   "source": [
    "### Analyzing Results"
   ]
  },
  {
   "cell_type": "code",
   "execution_count": 91,
   "metadata": {},
   "outputs": [],
   "source": [
    "preds = np.argmax(probs, axis=1)\n",
    "probs = probs[:,1]\n",
    "\n",
    "from sklearn.metrics import confusion_matrix\n",
    "cm = confusion_matrix(y, preds)"
   ]
  },
  {
   "cell_type": "code",
   "execution_count": 92,
   "metadata": {},
   "outputs": [
    {
     "name": "stdout",
     "output_type": "stream",
     "text": [
      "[[16  1]\n",
      " [ 3 19]]\n"
     ]
    },
    {
     "data": {
      "image/png": "[encoded data removed]",
      "text/plain": [
       "<Figure size 432x288 with 2 Axes>"
      ]
     },
     "metadata": {},
     "output_type": "display_data"
    }
   ],
   "source": [
    "plot_confusion_matrix(cm, data.classes)"
   ]
  },
  {
   "cell_type": "markdown",
   "metadata": {},
   "source": [
    "## Hard to get an improved result with very limited amounts of data - will (hopefully) improve when 100 images-limit is eliminated "
   ]
  },
  {
   "cell_type": "code",
   "execution_count": null,
   "metadata": {},
   "outputs": [],
   "source": []
  }
 ],
 "metadata": {
  "kernelspec": {
   "display_name": "Python 3",
   "language": "python",
   "name": "python3"
  },
  "language_info": {
   "codemirror_mode": {
    "name": "ipython",
    "version": 3
   },
   "file_extension": ".py",
   "mimetype": "text/x-python",
   "name": "python",
   "nbconvert_exporter": "python",
   "pygments_lexer": "ipython3",
   "version": "3.6.4"
  }
 },
 "nbformat": 4,
 "nbformat_minor": 2
}
