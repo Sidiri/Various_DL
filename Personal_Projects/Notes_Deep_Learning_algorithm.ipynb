{
 "cells": [
  {
   "cell_type": "markdown",
   "metadata": {},
   "source": [
    "# Standard training algorithm"
   ]
  },
  {
   "cell_type": "markdown",
   "metadata": {},
   "source": [
    "## NOTE: Importing and definition of PATHS are not considered"
   ]
  },
  {
   "cell_type": "markdown",
   "metadata": {},
   "source": [
    "1. Enable data augmentation, and precompute=True\n",
    "1. Use `lr_find()` to find highest learning rate where loss is still clearly improving\n",
    "1. Train last layer from precomputed activations for 1-2 epochs\n",
    "1. Train last layer with data augmentation (i.e. precompute=False) for 2-3 epochs with cycle_len=1\n",
    "1. Unfreeze all layers\n",
    "1. Set earlier layers to 3x-10x lower learning rate than next higher layer\n",
    "1. Use `lr_find()` again\n",
    "1. Train full network with cycle_mult=2 until over-fitting"
   ]
  },
  {
   "cell_type": "markdown",
   "metadata": {},
   "source": [
    "## 1. Defining model, image size and batch size:\n",
    "> ### Example\n",
    "> <div class=\"alert alert-block alert-info\">\n",
    "arch = resnet50 <br>\n",
    "sz = 299 <br>\n",
    "bs = 34 <br>\n",
    "</div>\n",
    "\n",
    "> **model** = arch : *arch = resnet50*\n",
    "\n",
    "> **image size** = sz : *sz = 299* <br>\n",
    "> **NOTE** One of two standards for ImageNet (224)\n",
    "\n",
    "> **batch size** = bs : *bs = 64* <br>\n",
    "> **NOTE** If Cuda-out-of-memory error - change bs to 32"
   ]
  },
  {
   "cell_type": "markdown",
   "metadata": {},
   "source": [
    "## 2. Transformation-, Data- and Learning-object\n",
    "\n",
    "> ### Defining the transformation object \n",
    "\n",
    "> <div class=\"alert alert-block alert-info\">\n",
    "tfms = tfms_from_model(arch, sz, aug_tfms=RandomFlip(), max_zoom=1.1)\n",
    "</div>\n",
    "\n",
    "> ### Defining the data object\n",
    "\n",
    "> <div class=\"alert alert-block alert-info\">\n",
    "data = ImageClassifierData.from_paths(PATH, tfms=tfms, bs=bs, num_workers=4)\n",
    "</div>\n",
    "\n",
    "> ### Defining the learn object \n",
    "\n",
    "> <div class=\"alert alert-block alert-info\">\n",
    "learn = ConvLearner.pretrained(arch, data, ps=ps)\n",
    "</div>\n",
    "\n",
    "> ### Example\n",
    "\n",
    "> <div class=\"alert alert-block alert-info\">\n",
    "tfms = tfms_from_model(arch, sz, aug_tfms=RandomFlip(), max_zoom=1.1) <br>\n",
    "data = ImageClassifierData.from_paths(PATH, tfms=tfms, bs=bs, num_workers=4) <br>\n",
    "learn = ConvLearner.pretrained(arch, data, ps=0.4) <br>\n",
    "</div>"
   ]
  },
  {
   "cell_type": "code",
   "execution_count": null,
   "metadata": {},
   "outputs": [],
   "source": []
  }
 ],
 "metadata": {
  "kernelspec": {
   "display_name": "fastai",
   "language": "python",
   "name": "fastai"
  },
  "language_info": {
   "codemirror_mode": {
    "name": "ipython",
    "version": 3
   },
   "file_extension": ".py",
   "mimetype": "text/x-python",
   "name": "python",
   "nbconvert_exporter": "python",
   "pygments_lexer": "ipython3",
   "version": "3.6.5"
  }
 },
 "nbformat": 4,
 "nbformat_minor": 2
}
