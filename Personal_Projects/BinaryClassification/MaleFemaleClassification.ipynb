{
 "cells": [
  {
   "cell_type": "code",
   "execution_count": 1,
   "metadata": {},
   "outputs": [],
   "source": [
    "# Automatic reloading and inline plotting\n",
    "%reload_ext autoreload\n",
    "%autoreload 2\n",
    "%matplotlib inline"
   ]
  },
  {
   "cell_type": "code",
   "execution_count": 2,
   "metadata": {},
   "outputs": [
    {
     "name": "stdout",
     "output_type": "stream",
     "text": [
      "['', '/home/sindre/anaconda3/envs/fastai/lib/python36.zip', '/home/sindre/anaconda3/envs/fastai/lib/python3.6', '/home/sindre/anaconda3/envs/fastai/lib/python3.6/lib-dynload', '/home/sindre/anaconda3/envs/fastai/lib/python3.6/site-packages', '/home/sindre/anaconda3/envs/fastai/lib/python3.6/site-packages/IPython/extensions', '/home/sindre/.ipython', '../../FastAi']\n"
     ]
    }
   ],
   "source": [
    "import sys\n",
    "sys.path.append(\"../../FastAi\")\n",
    "#sys.path.remove('/opt/ros/kinetic/lib/python2.7/dist-packages')\n",
    "print(sys.path)"
   ]
  },
  {
   "cell_type": "code",
   "execution_count": 3,
   "metadata": {},
   "outputs": [],
   "source": [
    "from fastai.imports import *\n",
    "\n",
    "from fastai.transforms import *\n",
    "from fastai.conv_learner import *\n",
    "from fastai.model import *\n",
    "from fastai.dataset import *\n",
    "from fastai.sgdr import *\n",
    "from fastai.plots import *\n",
    "\n",
    "import os"
   ]
  },
  {
   "cell_type": "markdown",
   "metadata": {},
   "source": [
    "# Downloading the images\n",
    "\n",
    "Downloading the images using a program from https://github.com/hardikvasa/google-images-download and running it through bash scripting locally in the notebook. More possible configurations, such as multiple searchwords, different combinations, etc., but this is enough for now. \n",
    "\n",
    "To run this method:\n",
    "> Using pip\n",
    "> <div class=\"alert alert-block alert-info\">\n",
    "> \\$ pip install google_images_download\n",
    "</div> <br>\n",
    "> Manually using CLI\n",
    "> <div class=\"alert alert-block alert-info\">\n",
    "> \\$ git clone https://github.com/hardikvasa/google-images-download.git <br>\n",
    "> \\$ cd google-images-download && sudo python setup.py install\n",
    "> </div> <br>  \n",
    "> Manually using UI\n",
    "> <div class=\"alert alert-block alert-info\">\n",
    "> Go to the repo on github ==> Click on *Clone or Download* ==> Click on *Download ZIP* and save it on your local disk. </div>\n",
    "\n",
    "<div class=\"alert alert-block alert-warning\">\n",
    "**NOTE** To download > 100 images, please see GitHub \n",
    "</div>"
   ]
  },
  {
   "cell_type": "markdown",
   "metadata": {},
   "source": [
    "### The specified searchwords will be the classes"
   ]
  },
  {
   "cell_type": "markdown",
   "metadata": {},
   "source": [
    "### Storing the data in such a way that it matches standard PyTorch folder setup\n",
    "> <div class=\"alert alert-block alert-info\">\n",
    "*data/train/className* <br />\n",
    "*data/valid/className*\n",
    "</div>"
   ]
  },
  {
   "cell_type": "markdown",
   "metadata": {},
   "source": [
    "### The specified searchwords will be the class names"
   ]
  },
  {
   "cell_type": "code",
   "execution_count": 4,
   "metadata": {},
   "outputs": [],
   "source": [
    "def download_pictures(searchword, form=\"jpg\", lim=100, directory=\"data/\"):\n",
    "    if not os.path.isdir(directory):\n",
    "        !mkdir $directory\n",
    "    ! googleimagesdownload --keywords $searchword --format $form --limit $lim --output_directory $directory --chromedriver \"../../../../Downloads/chromedriver\" \n",
    "    src_path = directory + searchword\n",
    "    dst_train_path = directory + \"train/\"\n",
    "    dst_valid_path = directory + \"valid/\"\n",
    "    if not os.path.isdir(dst_train_path and dst_valid_path):\n",
    "        ! mkdir $dst_train_path\n",
    "        ! mkdir $dst_valid_path\n",
    "    if not os.path.isdir(dst_train_path + searchword and dst_valid_path + searchword):\n",
    "        train_search_folder = dst_train_path + searchword\n",
    "        valid_search_folder = dst_valid_path + searchword\n",
    "        ! mkdir $train_search_folder\n",
    "        ! mkdir $valid_search_folder\n",
    "    counter = 0\n",
    "    number_of_files = len(os.listdir(src_path))\n",
    "    train_ratio = number_of_files*0.7 \n",
    "    for file in os.listdir(src_path):\n",
    "        src = src_path + \"/\" + file\n",
    "        dst_end = searchword + \"/\" + searchword + \".\" + str(counter) + \".\" + form\n",
    "        if(counter <= train_ratio):\n",
    "            dst = dst_train_path + dst_end\n",
    "        else:\n",
    "            dst = dst_valid_path + dst_end\n",
    "        os.rename(src, dst)\n",
    "        counter = counter + 1\n",
    "    delete_dir = directory + searchword\n",
    "    ! rm -rf $delete_dir"
   ]
  },
  {
   "cell_type": "markdown",
   "metadata": {},
   "source": [
    "### Specifying the desired classes to classify"
   ]
  },
  {
   "cell_type": "code",
   "execution_count": 5,
   "metadata": {},
   "outputs": [],
   "source": [
    "class1_name = \"Female_face\"\n",
    "class2_name = \"Male_face\""
   ]
  },
  {
   "cell_type": "code",
   "execution_count": 6,
   "metadata": {},
   "outputs": [],
   "source": [
    "%%capture capt\n",
    "download_pictures(class1_name, lim=1500);\n",
    "download_pictures(class2_name, lim=1500);"
   ]
  },
  {
   "cell_type": "code",
   "execution_count": 7,
   "metadata": {},
   "outputs": [
    {
     "name": "stdout",
     "output_type": "stream",
     "text": [
      "\r\n",
      "Item no.: 1 --> Item name = Female_face\r\n",
      "Evaluating...\r\n",
      "Getting you a lot of images. This may take a few moments...\r\n",
      "Reached end of Page.\r\n",
      "Starting Download...\r\n",
      "Completed Image ====> 1. archetypal-female-_3249633c.jpg\r\n",
      "Completed Image ====> 2. 4e7b76f7d680884a05b131a599164cff--unique-faces-model-face.jpg\r\n",
      "Completed Image ====> 3. stock-photo-beauty-face-of-the-young-beautiful-woman-isolated-on-white-gorgeous-female-portrait-with-slicked-723534274.jpg\r\n",
      "Completed Image ====> 4. close-up-beautiful-female-face-21789058.jpg\r\n",
      "Completed Image ====> 5. 9aa0c4d51c6be64845bacbe26a738544.jpg\r\n",
      "Completed Image ====> 6. 9354-close-up-female-face.jpg\r\n",
      "Completed Image ====> 7. stock-photo-beauty-portrait-of-female-face-with-natural-clean-skin-564737872.jpg\r\n",
      "Completed Image ====> 8. f5a0626a80fe6026c0ac65cdc2d8ede2--photography-portraits-photography-people.jpg\r\n",
      "Completed Image ====> 9. closeup-beautiful-female-face-isolated-23885901.jpg\r\n",
      "Completed Image ====> 10. 300.jpg\r\n",
      "Completed Image ====> 11. this-survey-shows-us-how-different-men-and-women-view-the-perfect-female-face-.jpg\r\n",
      "Completed Image ====> 12. female-portrait3.jpg\r\n",
      "Completed Image ====> 13. 35a9f5a09270ba8017dc0d0a60fe70a1--minimalist-makeup-face-makeup.jpg\r\n",
      "Completed Image ====> 14. 9886-close-up-female-face.jpg\r\n",
      "Completed Image ====> 15. ad_212876871.jpg\r\n",
      "Completed Image ====> 16. depositphotos_3392147-stock-photo-3-views-of-the-female.jpg\r\n",
      "Completed Image ====> 17. 6171901.jpg\r\n",
      "Completed Image ====> 18. face-7.jpg\r\n",
      "Completed Image ====> 19. beauty-%c2%a9-olga-ekaterincheva-36627826-200x300.jpg\r\n",
      "Completed Image ====> 20. 8tlm6.jpg\r\n",
      "Completed Image ====> 21. 8782fc8220561fe4a7dddb07aa15525a.jpg\r\n",
      "Completed Image ====> 22. model-face-beautiful-black-and-white-407035.jpeg\r\n",
      "Completed Image ====> 23. hqdefault.jpg\r\n",
      "Completed Image ====> 24. 4768545-black-and-white-photo-of-sexy-beautiful-female-face.jpg\r\n",
      "Completed Image ====> 25. eye9cn0.jpg\r\n",
      "Completed Image ====> 26. 6c5ccd4a295309fa9315d8753917d05e--zbrush-models-face-sketch.jpg\r\n",
      "Completed Image ====> 27. beauty-female-face-two-hands-isolated-white-34330241.jpg\r\n",
      "Completed Image ====> 28. 12198460-7190705-2-1469020521-650-2-1488295420-650-30c2f9a23b-1488874292.jpg\r\n",
      "Completed Image ====> 29. female_face_study_5_by_oniraa-d36zxvt.png\r\n",
      "Completed Image ====> 30. ideal-beauty2.jpg\r\n",
      "Completed Image ====> 31. should-women-shave-face.jpg\r\n",
      "Completed Image ====> 32. 37074623-beautiful-woman-face-perfect-makeup-beauty-fashion-eyelashes-cosmetic-eyeshadow.jpg\r\n",
      "Completed Image ====> 33. gallery_2847_194_27918.jpg\r\n",
      "Completed Image ====> 34. natalie-portman-recording-artists-and-groups-photo-u300?w=650&q=50&fm=jpg&fit=crop&crop=faces.jpg\r\n",
      "Completed Image ====> 35. dreams.metroeve_face-dreams-meaning.jpg\r\n",
      "Completed Image ====> 36. dzzbx.jpg\r\n",
      "Completed Image ====> 37. article-2521921-1a08dc9200000578-547_636x382.jpg\r\n",
      "Completed Image ====> 38. maxresdefault.jpg\r\n",
      "Completed Image ====> 39. stock-photo-beauty-portrait-of-female-face-654082795.jpg\r\n",
      "Completed Image ====> 40. attachment.php\r\n",
      "Completed Image ====> 41. beautiful-woman-portrait-face-close-up-studio-gray-background-picture-id507790176?b=1&k=6&m=507790176&s=612x612&w=0&h=x5jupqm-z0y_jlskd-h5ykl1ojwlnwfccjiq7zjlitg=.jpg\r\n",
      "Completed Image ====> 42. 100-most-beautiful-female-faces-2013.jpg\r\n",
      "Completed Image ====> 43. beautiful-faces_3249636k.jpg\r\n",
      "Completed Image ====> 44. b88oeqo.jpg\r\n",
      "Completed Image ====> 45. 2a611d612fe22e2870394224210c310b--brown-auburn-hair-people-with-green-eyes.jpg\r\n",
      "Completed Image ====> 46. female.jpg\r\n",
      "Completed Image ====> 47. female-face-pure-healthy-skin-light-make-up-16669183.jpg\r\n",
      "Completed Image ====> 48. pexels-photo-531126.jpeg\r\n",
      "Completed Image ====> 49. how-to-get-rid-of-hair-on-chin.jpg\r\n",
      "Completed Image ====> 50. 10401-close-up-female-face.jpg\r\n",
      "Completed Image ====> 51. 348b9e87f3614cf1a1ae423695263168.jpg\r\n",
      "Completed Image ====> 52. stock-photo-beauty-portrait-of-female-face-with-natural-skin-519563191.jpg\r\n",
      "Completed Image ====> 53. main-qimg-8626230a004e76ddee41ff64eb6b0576-c.jpg\r\n",
      "Completed Image ====> 54. faces-without-makeup-misc-i-present-to-youthe-most-aesthetic-female-face-without.jpg\r\n",
      "Completed Image ====> 55. woman-with-hands-on-her-neck-and-looking-down_23-2147647715.jpg\r\n",
      "Completed Image ====> 56. 080317-square-face-haircuts-aldridge-embed.jpg\r\n",
      "Completed Image ====> 57. 40420375-beautiful-female-face-with-pure-skin-and-natural-make-up-spa-girl-skincare-healthcare-isolated-over-.jpg\r\n",
      "Completed Image ====> 58. beautymask.jpg\r\n",
      "Completed Image ====> 59. face%2520shape.jpg\r\n",
      "Completed Image ====> 60. dc5ccad5bd921a27a657ecfada3f00de--live-life-anti-aging.jpg\r\n",
      "Completed Image ====> 61. perfect_female_face_by_princehackberry-d7nws5d.jpg\r\n",
      "Completed Image ====> 62. 4.-emma-stone.jpg\r\n",
      "Completed Image ====> 63. scarlett-johansson-jpg\r\n",
      "Completed Image ====> 64. shavinggettycreative.jpg\r\n",
      "Completed Image ====> 65. the-25-best-famous-faces-ideas-on-pinterest-epic-hair-the-25-best-famous-faces-ideas-on-pinterest-epic-hair-beautiful-people-movie-and-hair-movie.jpg\r\n",
      "Completed Image ====> 66. 012617-face-shape-selena.jpg\r\n",
      "Completed Image ====> 67. girl-face-pencil-sketches-female-face-pencil-sketch-drawing-of-sketch.jpg\r\n",
      "Completed Image ====> 68. 19.-taylor-hill.jpg\r\n",
      "Completed Image ====> 69. face-705818.jpg\r\n",
      "Completed Image ====> 70. the-young-female-face.-antiaging-and-thread-lifting-concept-521232246_3500x2630.jpeg\r\n",
      "Completed Image ====> 71. 1987_step27_4be3af3cb5e4e.jpg\r\n",
      "Completed Image ====> 72. leftorright.jpg\r\n",
      "Completed Image ====> 73. 364d4fcf00000578-3691691-image-m-7_1468576198822.jpg\r\n",
      "Completed Image ====> 74. 58fe478d7522ca1b008b5d4e-750-750.jpg\r\n",
      "Completed Image ====> 75. person-1095009_960_720.jpg\r\n",
      "Completed Image ====> 76. female_face_profile_stock_by_enchantedgal_stock.jpg\r\n",
      "Completed Image ====> 77. yia4pjg.jpg\r\n",
      "Completed Image ====> 78. 10805-close-up-female-face.jpg\r\n",
      "Completed Image ====> 79. most-attractive-face-shape-in-women-olivia-wilde-minunexplofe76eb.jpg\r\n",
      "Completed Image ====> 80. dnf-female-face-render.jpg\r\n",
      "Completed Image ====> 81. rts1ctde.jpg\r\n",
      "Completed Image ====> 82. jen.jpg\r\n",
      "Completed Image ====> 83. female-portrait2.jpg\r\n",
      "Completed Image ====> 84. science_makeup.jpg\r\n",
      "Completed Image ====> 85. 101112_ten241.jpg\r\n",
      "Completed Image ====> 86. asian-female-2017-17.jpg\r\n",
      "Completed Image ====> 87. liza-soberano-2-cnnph.jpg\r\n",
      "Completed Image ====> 88. cs42172407.jpg\r\n",
      "Completed Image ====> 89. how-to-draw-a-female-face-step-8_2.jpg\r\n",
      "Completed Image ====> 90. 4956463-female-face-with-an-unnatural-smile-.jpg\r\n",
      "Completed Image ====> 91. 171122131121-lumpen-agency-3.jpg\r\n",
      "Completed Image ====> 92. sugar-face.jpg\r\n",
      "Completed Image ====> 93. 180413-man-kills-horse-feature.jpg\r\n",
      "Completed Image ====> 94. hanne-odiele-next-gen-2017-1.jpg\r\n",
      "Completed Image ====> 95. ad_212876845.jpg\r\n",
      "Completed Image ====> 96. screen_shot_2018_02_13_at_9.22.43_am.png\r\n",
      "Completed Image ====> 97. maxresdefault.jpg\r\n",
      "Completed Image ====> 98. asian-female-face-mannequin-kathy-fornal.jpg\r\n",
      "Completed Image ====> 99. article-2521921-120926e6000005dc-211_310x446.jpg\r\n",
      "Completed Image ====> 100. final.jpg\r\n",
      "Completed Image ====> 101. screen_shot_2018_02_13_at_9.22.43_am.png\r\n",
      "Completed Image ====> 102. pexels-photo-762020.jpeg\r\n",
      "Completed Image ====> 103. asian-female-face-mannequin-kathy-fornal.jpg\r\n",
      "Completed Image ====> 104. final.jpg\r\n",
      "Completed Image ====> 105. shakila-zareen.jpg\r\n",
      "Completed Image ====> 106. female_face_reference_sheet_1_by_montoya1983-dabe3qn.jpg\r\n",
      "Completed Image ====> 107. s-l1000.jpg\r\n",
      "Completed Image ====> 108. drawing-a-womans-face-original-marker-drawing-my-favorite-artist-pinterest-markers-download.jpg\r\n",
      "Completed Image ====> 109. stone_face_female_by_vinanti-d5gnv1p.jpg\r\n",
      "Completed Image ====> 110. woman-face.jpg\r\n",
      "Completed Image ====> 111. ec14502fa3f78fdf76b339a2207994fe.jpg\r\n",
      "Completed Image ====> 112. 3d_femaleheadtextured.jpg\r\n",
      "Completed Image ====> 113. face_shine_glow.jpg\r\n",
      "Completed Image ====> 114. 4956463-female-face-with-an-unnatural-smile-.jpg\r\n",
      "Completed Image ====> 115. beautiful-female-face-profile-long-hair-art-portrait-31453370.jpg\r\n",
      "Completed Image ====> 116. s-l300.jpg\r\n",
      "Completed Image ====> 117. jocelyn-wildenstein.jpg\r\n",
      "Completed Image ====> 118. best-25-woman-face-ideas-on-pinterest-girl-face-female-face-black-wight-irakli-nadar-2016-figurative-realism-art-beautiful-female.jpg\r\n",
      "Completed Image ====> 119. 25-trending-female-faces-ideas-on-pinterest-female-face-this-is-wha-jordin-looks-like-at-the-start-of-the-story-maybe-a-bit.jpg\r\n",
      "Completed Image ====> 120. female-face-shapes-woman-face-types-chart-vector-icon-illustration-vector-id614860934.jpg\r\n",
      "Completed Image ====> 121. hair_contouring_-_flattering_hairstyles_for_different_face_shapes_-_thumb.jpg\r\n",
      "Completed Image ====> 122. maxresdefault.jpg\r\n",
      "Completed Image ====> 123. 4-short-wavy-bob-for-a-round-face.jpg\r\n",
      "Completed Image ====> 124. viral%2520diy%2520freckle%2520tattoos.jpeg\r\n",
      "Completed Image ====> 125. 55c21a581d00002f00143e72.jpeg\r\n",
      "Completed Image ====> 126. juliet-forster-700x455.jpg\r\n",
      "Completed Image ====> 127. 11470929.jpg\r\n",
      "Completed Image ====> 128. lizbeauty.jpg\r\n",
      "Completed Image ====> 129. procedure-female-nose-surgery-silkwood-medical.jpg\r\n",
      "Completed Image ====> 130. ashley-greene-diamond-face-bangs.jpg\r\n",
      "Completed Image ====> 131. liza3.jpg\r\n",
      "Completed Image ====> 132. close-up-of-female-face-with-covered-stock-photograph_csp16673098.jpg\r\n",
      "Completed Image ====> 133. femaleface3.jpg\r\n",
      "Completed Image ====> 134. female-lower-face-a.jpg\r\n",
      "Completed Image ====> 135. drawing-realistic-people-penci-art-drawings-female-faces-artsy-pinterest-female.jpg\r\n",
      "Completed Image ====> 136. face-tattoo-46-650x650.jpg\r\n",
      "Completed Image ====> 137. aishwarya_rai_face_of_an_angel_wallpaper_aishwarya_rai_female_celebrities_2996.jpg\r\n",
      "Completed Image ====> 138. img_88574.jpg\r\n",
      "Completed Image ====> 139. female-head-5-3d-model-obj-stl.jpg\r\n",
      "Completed Image ====> 140. candylipz-teen-face-1003x1024.jpg\r\n",
      "Completed Image ====> 141. 364d4fcf00000578-3691691-image-m-7_1468576198822.jpg\r\n",
      "Completed Image ====> 142. 6.-liza-soberano.jpg\r\n",
      "Completed Image ====> 143. erika-lindner-photo-u2?w=650&q=50&fm=jpg&fit=crop&crop=faces.jpg\r\n",
      "Completed Image ====> 144. hairstyles-for-long-faces-sm.jpg\r\n",
      "Completed Image ====> 145. femaleface7.jpg\r\n",
      "Completed Image ====> 146. versatile-textured-pixie-short-round-face.jpg\r\n",
      "Completed Image ====> 147. p05f925s.jpg\r\n",
      "Completed Image ====> 148. sei_842629.jpg\r\n",
      "Completed Image ====> 149. mts_mishnumber1-202881-face6.jpg\r\n",
      "Completed Image ====> 150. b3266f2f-589c-49a3-9127-66c4ab3983de.png\r\n",
      "Completed Image ====> 151. jessica_alba.jpg\r\n",
      "Completed Image ====> 152. how-to-draw-a-female-face-step-5.jpg\r\n",
      "Completed Image ====> 153. bigstock_beauty_female_face_of_a_beauty_6120279.jpg\r\n",
      "Completed Image ====> 154. 11714-close-up-female-face.jpg\r\n",
      "Completed Image ====> 155. 8-beauty-benefits-of-vodka-for-flawless-complexion_1.jpg\r\n",
      "Completed Image ====> 156. latest?cb=20141003173539.jpg\r\n",
      "Completed Image ====> 157. face-new-golden-ratio-36-displacement.jpg\r\n",
      "Completed Image ====> 158. leftorright.jpg\r\n",
      "Completed Image ====> 159. celebrity-actor-faces-mix-morph-pedro-berg-johnsen-thatnordicguy-2.jpg\r\n",
      "Completed Image ====> 160. 62200587-beauty-woman-face-closeup-portrait-of-beautiful-happy-girl-with-perfect-smile-and-white-teeth-cheerf.jpg\r\n",
      "Completed Image ====> 161. lucy-hale-sunglasses-1489785499.jpg\r\n",
      "Completed Image ====> 162. 5334707_stock-photo-innocent-beautiful-woman-face.jpg\r\n",
      "Completed Image ====> 163. 240_f_101724466_do7aybo19r39ptvx6qqimjwzudphxrr1.jpg\r\n",
      "Completed Image ====> 164. 26.jpg\r\n",
      "Completed Image ====> 165. 1487085630-naomi-campbell.jpg\r\n",
      "Completed Image ====> 166. female-face-shapes-vector-id525358448?s=170667a&w=1007.jpg\r\n",
      "Completed Image ====> 167. 1080.png\r\n",
      "Completed Image ====> 168. 7f7f61cb9200979af912599b449bf6d6--angular-face-son-m%c3%b4i.jpg\r\n",
      "Completed Image ====> 169. 012617-face-shape-selena.jpg\r\n",
      "Completed Image ====> 170. short-hairstyle-with-flip-for-longer-face-shape.jpg\r\n",
      "Completed Image ====> 171. 23ba1cbda68eb72dda82191cbbad12b3_pictures-woman-face-drawing-drawings-art-gallery-woman-face-drawing_736-1090.jpeg\r\n",
      "Completed Image ====> 172. hairstyles-for-small-faces-15.jpg\r\n",
      "Completed Image ====> 173. messy-updo.jpg\r\n",
      "Completed Image ====> 174. feature-6.jpg\r\n",
      "Completed Image ====> 175. preview-12198760-650x341-98-1488874292.jpg\r\n",
      "Completed Image ====> 176. 860-header-zits-22086765641_017871896a_h.jpg\r\n",
      "Completed Image ====> 177. 69e84e7aaeaa6ef5_shutterstock_206204140.jpg\r\n",
      "Completed Image ====> 178. article-2323976-19c2f997000005dc-612_1024x615_large.jpg\r\n",
      "Completed Image ====> 179. best-styles-for-your-face-shape.jpg\r\n",
      "Completed Image ====> 180. ansikt-tar-p%c3%a5-huden-1024x683.jpg\r\n",
      "Completed Image ====> 181. redvelvetirene.jpg\r\n",
      "Completed Image ====> 182. 103146-1-003.jpg\r\n",
      "Completed Image ====> 183. elly1.jpg\r\n",
      "Completed Image ====> 184. photo-1438761681033-6461ffad8d80?ixlib=rb-0.3.5&q=80&fm=jpg&crop=entropy&cs=tinysrgb&w=1080&fit=max&ixid=eyjhchbfawqiojeymdd9&s=06e80e6824834cd6d9e261ca9324ab85.jpg\r\n",
      "Completed Image ====> 185. hairstyles-for-big-faces5.jpg\r\n",
      "Completed Image ====> 186. o-female-sexuality-facebook.jpg\r\n",
      "Completed Image ====> 187. woman-face-close-up-beauty-portrait-female-model-poses-white-background-31153730.jpg\r\n",
      "Completed Image ====> 188. stock-photo-attractive-female-face-with-perfect-skin-425533759.jpg\r\n",
      "Completed Image ====> 189. chinese-face-reading-health-diagnosis.jpg\r\n",
      "Completed Image ====> 190. mole-meanings-on-face-female-218x150.jpg\r\n",
      "Completed Image ====> 191. original-grid-image-8153-1416862973-17.jpg\r\n",
      "Completed Image ====> 192. 164270670-face-wallpapers.jpg\r\n",
      "Completed Image ====> 193. should-women-shave-face.jpg\r\n",
      "Completed Image ====> 194. allison-williams-face.jpg\r\n",
      "Completed Image ====> 195. girl_eyes_face_close-up_69495.jpg\r\n",
      "Completed Image ====> 196. keystonef4.jpg\r\n",
      "Completed Image ====> 197. 06-signs-disease-face-complexion.jpg\r\n",
      "Completed Image ====> 198. power-of-makeup-selfies-half-face-trend-fb__700.jpg\r\n",
      "Completed Image ====> 199. photo-1517611682873-f735f9c0de28?ixlib=rb-0.3.5&s=6f758736091a7ec6796824c9aa888da4&w=1000&q=80.jpg\r\n",
      "Completed Image ====> 200. image?url=https%3a%2f%2fcdn-image.realsimple.com%2fsites%2fdefault%2ffiles%2fstyles%2fportrait_435x518%2fpublic%2fwoman-no-makeup.jpg%3fitok%3dab5lqibo&w=700&q=85.jpg\r\n",
      "Completed Image ====> 201. image_icjvnox2j9gaxt89.0.jpg\r\n",
      "Completed Image ====> 202. femail-face-pencil.jpg\r\n",
      "Completed Image ====> 203. jessica-alba-oval-fit.jpg\r\n",
      "Completed Image ====> 204. maxresdefault.jpg\r\n",
      "Completed Image ====> 205. skyrimfemnpc-full-1408554259201.jpg\r\n",
      "Completed Image ====> 206. 080317-square-face-haircuts-hudgens-embed.jpg\r\n",
      "Completed Image ====> 207. amanda-schmitt-person-of-year-2017-time-magazine-2.jpg\r\n",
      "Completed Image ====> 208. 2162_eyebrows-for-square-face-shape_shutterstock_148055564.jpg\r\n",
      "Completed Image ====> 209. 1280_michelledockery_features_getty.jpg\r\n",
      "Completed Image ====> 210. gallery-beautiful-faces-of-women-drawings-art-gallery-207-best-female-face-images-on-pinterest-female-faces-faces-and.jpg\r\n",
      "Completed Image ====> 211. 12231-close-up-female-face.jpg\r\n",
      "Completed Image ====> 212. short-hairstyles-for-fat-faces-15.jpg\r\n",
      "Completed Image ====> 213. aid770570-v4-728px-read-a-woman%27s-eyes-step-8.jpg\r\n",
      "Completed Image ====> 214. 21mag-femaleanger1-facebookjumbo.jpg\r\n",
      "Completed Image ====> 215. 1120-laura-richards.jpg\r\n",
      "Completed Image ====> 216. 18iz8g3kfg45jjpg\r\n",
      "Completed Image ====> 217. ansikt-%c3%b8yne-1024x683.jpg\r\n",
      "Completed Image ====> 218. best-brow-shape-round-face-1.jpg\r\n",
      "Completed Image ====> 219. thumnail-how-to-draw-female-face-from-the-side-324x235.jpg\r\n",
      "Completed Image ====> 220. article-1332688-0c3b041f000005dc-786_634x429.jpg\r\n",
      "Completed Image ====> 221. woman-face-wearandcheer.com_1-copy-1.jpg\r\n",
      "Completed Image ====> 222. srxxyio.jpg\r\n",
      "Completed Image ====> 223. 3b8422ebf60c3fab98875859a8dd5614--unique-faces-face-shapes.jpg\r\n",
      "Completed Image ====> 224. female-planes-head-artists-reference-cast-face-anatomyskull_energy-manifestation-by-kimon-nicolaides-refer-on-__jessica_fe_sad_-jpg\r\n",
      "Completed Image ====> 225. fake2.jpg\r\n",
      "Completed Image ====> 226. 9d40aebf0f927d9bd3d32ece159302a9.jpg\r\n",
      "Completed Image ====> 227. 171122131214-lumpen-agency-4.jpg\r\n",
      "Completed Image ====> 228. 35bef81aaa5f462fb536fa3154662de3_portrait-of-a-girl-andrey-belichenko-on-artstation-at-a101-female-face-portrait-drawing_688-1000.jpeg\r\n",
      "Completed Image ====> 229. bearded-woman-600x456.jpg\r\n",
      "Completed Image ====> 230. 00-warm-weather-face-oils.jpg\r\n",
      "Completed Image ====> 231. 180115_r31298.jpg\r\n",
      "Completed Image ====> 232. original-24688-1403716127-3.jpg\r\n",
      "Completed Image ====> 233. sixty-and-me_7-anti-aging-tricks-that-every-woman-over-50-should-use-740x416.jpg\r\n",
      "Completed Image ====> 234. 0cfa99517d8e2fb2d1b6472455676e1d--face-reference-female-faces.jpg\r\n",
      "Completed Image ====> 235. ad212876860amer-heard-face.jpg\r\n",
      "Completed Image ====> 236. article-201671977261826778000.jpg\r\n",
      "Completed Image ====> 237. 323982494.jpg\r\n",
      "Completed Image ====> 238. 6-unusual-signs-of-dehydration-722x406.jpg\r\n",
      "Completed Image ====> 239. 879bfba0.jpg\r\n",
      "Completed Image ====> 240. 442415_1280x720.jpg\r\n",
      "Completed Image ====> 241. how-to-figure-out-your-face-shape-79015-1513284330020-main.700x0c.jpg\r\n",
      "Completed Image ====> 242. acne-face-map.jpg\r\n",
      "Completed Image ====> 243. gma_chang_080812_ms.jpg\r\n",
      "Completed Image ====> 244. female-portrait-face-person-people-human-1.jpg\r\n",
      "Completed Image ====> 245. zooey-deschanel5.jpg\r\n",
      "Completed Image ====> 246. 5fcf4cc3-51aa-4346-a12a-f6aa35568959.jpg\r\n",
      "Completed Image ====> 247. hairstyles-for-big-faces3.jpg\r\n",
      "Completed Image ====> 248. 8476778-1x1-940x940.jpg\r\n",
      "Completed Image ====> 249. 208786-3c031496-ec8a-11e3-873b-5e8c286cce93.jpg\r\n",
      "Completed Image ====> 250. 3956_trinity_200.jpg\r\n",
      "Completed Image ====> 251. pink-female-face-for-happy-women-s-day_1017-12425.jpg\r\n",
      "Completed Image ====> 252. woman-05.jpg\r\n",
      "Completed Image ====> 253. mjvyjm-apap5m4ofdncjs8g.jpg\r\n",
      "Completed Image ====> 254. face%20shape.jpg\r\n",
      "Completed Image ====> 255. bsx5djn.jpg\r\n",
      "Completed Image ====> 256. 1527663018655_d7acb5e7500fe804d93fb120b172b027.jpeg\r\n",
      "Completed Image ====> 257. hqdefault.jpg\r\n",
      "Completed Image ====> 258. best-25-female-face-ideas-on-pinterest-faces-female-faces-and-17-photos-that-prove-freckles-are-beautiful.jpg\r\n",
      "Completed Image ====> 259. beautiful-woman-with-makeup-picture-id638372570?s=612x612.jpg\r\n",
      "Completed Image ====> 260. 620-stella-moreno.imgcache.revc417fa3346371502e307fd554452b76c.web.jpg\r\n",
      "Completed Image ====> 261. 732x549_thumbnail_white-spots-on-face.jpg\r\n",
      "Completed Image ====> 262. stav-strashko-photo-u2?w=650&q=50&fm=jpg&fit=crop&crop=faces.jpg\r\n",
      "Completed Image ====> 263. model-skincare-secrets-194213-1497385866554-main.640x0c.jpg\r\n",
      "Completed Image ====> 264. beauty-woman-face-portrait-beautiful-260nw-544908709.jpg\r\n",
      "Completed Image ====> 265. pay-newslink8671832_79068.jpg\r\n",
      "Completed Image ====> 266. 103146-1-001.jpg\r\n",
      "Completed Image ====> 267. celebrity-actor-faces-mix-morph-pedro-berg-johnsen-thatnordicguy-6.jpg\r\n",
      "Completed Image ====> 268. 57800f2288e4a77c708b67ad-750-563.jpg\r\n",
      "Completed Image ====> 269. best-short-hairstyles-for-round-faces_13.jpg\r\n",
      "Completed Image ====> 270. use-a-face-mask-everyday-568x426.jpg\r\n",
      "Completed Image ====> 271. most-hair-concept-according-to-beautiful-women-portrait-references-pinterest-woman-face-and-eye.jpg\r\n",
      "Completed Image ====> 272. 550px-nowatermark-draw-a-girl%27s-face-step-8-version-2.jpg\r\n",
      "Completed Image ====> 273. flat_eyebrow.jpg\r\n",
      "Completed Image ====> 274. c59b4fabdb4fb3ee88819c03d0ba97f3.jpg\r\n",
      "URLError on an image...trying next one... Error: <urlopen error [SSL: CERTIFICATE_VERIFY_FAILED] certificate verify failed (_ssl.c:833)>\r\n",
      "Completed Image ====> 275. woman-putting-cream-on-her-face-isolated-on-white-background.jpg\r\n",
      "Completed Image ====> 276. 012617-face-shape-olivia.jpg\r\n",
      "Completed Image ====> 277. original.jpg\r\n",
      "Completed Image ====> 278. 3471-female_applying_skin_product_face-732x549-thumbnail.jpg\r\n",
      "Completed Image ====> 279. woman_face_by_shantalla-d4wmoys.jpg\r\n",
      "Completed Image ====> 280. 151204113955-winnie-harlow-headshot-2.jpg\r\n",
      "Completed Image ====> 281. beautiful-faces-jolie-twain-hurley-colgate.jpg\r\n",
      "Completed Image ====> 282. 54f7d360-ec6d-11e7-8d3e-3515408466a8_1280x720_052603.jpg\r\n",
      "HTTPError on an image...trying next one... Error: HTTP Error 404: Not Found\r\n",
      "Completed Image ====> 283. thumbnail-how-to-draw-a-female-face-324x235-2.jpg\r\n",
      "Completed Image ====> 284. summer-makeup-looks-258852-1527270166016-main.700x0c.jpg\r\n",
      "Completed Image ====> 285. kim-kardashian-1-4.jpg\r\n",
      "Completed Image ====> 286. hairstyle-for-men-with-big-face-haircut-for-high-forehead-female-hairstyles-for-guy-with-big-forehead-best-haircut-for-oval-face-male-hair-on-forehead-male-687x687.jpg\r\n",
      "Completed Image ====> 287. babygirlface_header.jpg\r\n",
      "Completed Image ====> 288. 15.jpg\r\n",
      "Completed Image ====> 289. hairstyles-for-big-faces4.jpg\r\n",
      "Completed Image ====> 290. the-side-part-2.jpg\r\n",
      "Completed Image ====> 291. maxresdefault.jpg\r\n",
      "Completed Image ====> 292. depositphotos_4363574-stock-photo-attractive-red-haired-female-with.jpg\r\n",
      "Completed Image ====> 293. rajee-botched-825x580.jpg\r\n",
      "Completed Image ====> 294. bella-hadid-oval-fit.jpg\r\n",
      "Completed Image ====> 295. lateral-view-of-the-female-face-stock-illustrations__3d103010.jpg\r\n",
      "Completed Image ====> 296. female-face-shapes-woman-face-types-chart-vector-icon-illustration-vector-id614860934.jpg\r\n",
      "Completed Image ====> 297. alternate-female-face-textures-3.jpg\r\n",
      "Completed Image ====> 298. close-up-portrait-of-a-female-face-with-stock-photography__rhay1010230.jpg\r\n",
      "Completed Image ====> 299. brian-c-hailes-female-face-profile-1280.jpg\r\n",
      "Completed Image ====> 300. female-face-with-ponytail-hairstyle-in-watercolor-silhouette-vector-id883478716.jpg\r\n",
      "Completed Image ====> 301. cover-face-con-01.jpg\r\n",
      "Completed Image ====> 302. 160234595.jpg\r\n",
      "Completed Image ====> 303. stock-photo-beauty-portrait-of-female-face-519563167.jpg\r\n",
      "Completed Image ====> 304. mature-female-face-covered-in-dry-mud-picture-id107741350?s=170667a.jpg\r\n",
      "Completed Image ====> 305. the-female-face-of-farming-the-backbone-of-the-rural-economy.jpg\r\n",
      "Completed Image ====> 306. female-face-avatar-round-flat-icon-with-women-vector-11333823.jpg\r\n",
      "Completed Image ====> 307. drawing-of-a-female-face-life-drawing-sad-face-femaleoxfordcoma-on-deviantart.jpg\r\n",
      "Completed Image ====> 308. red-apple-with-winking-female-face-download-royalty-free-vector-file-eps-18110.jpg\r\n",
      "Completed Image ====> 309. stock-photo-beauty-portrait-of-female-face-with-natural-skin-521859244.jpg\r\n",
      "Completed Image ====> 310. valkyr-female-face-and-body-textures-2.jpg\r\n",
      "Completed Image ====> 311. female-face-pencil-drawing-beautiful-female-face-pencil-sketch-kids-and-adult-drawing-art.jpg\r\n",
      "Completed Image ====> 312. femaleface2.jpg\r\n",
      "Completed Image ====> 313. reference.jpg\r\n",
      "Completed Image ====> 314. lb_s2_04_image_001.jpg\r\n",
      "Completed Image ====> 315. best-female-face-pencil-sketch-girl-face-in-pencil-sketch-17-best-ideas-about-girl-face-drawing-1.jpg\r\n",
      "Completed Image ====> 316. partial-view-of-female-face-picture-idimsis544-002.jpg\r\n",
      "Completed Image ====> 317. female-face-pencil-drawing-images-girl-face-pencil-sketch-ideas-1000-images-about-anime-on-pinterest.jpg\r\n",
      "Completed Image ====> 318. stock-vector-happy-women-s-day-greeting-card-with-female-face-vector-388402843.jpg\r\n",
      "Completed Image ====> 319. drawn-barbie-female-face-18.jpg\r\n",
      "Completed Image ====> 320. pop-art-female-face.jpg\r\n",
      "Completed Image ====> 321. faceside112.jpg\r\n",
      "Completed Image ====> 322. young-explorer-female-face-fo4-2.jpg\r\n",
      "Completed Image ====> 323. basic-pencil-sketch-face-side-basic-pencil-sketch-face-side-how-to-draw-a-female-face-front-2-300x210.jpg\r\n",
      "Completed Image ====> 324. how-to-draw-a-female-face-step-1.jpg\r\n",
      "Completed Image ====> 325. pretty-scared-female-face-expression-box-smiley_qyne-z_thumb.jpg\r\n",
      "Completed Image ====> 326. brown-eyes-female-face-with-open-and-close-eyes-download-royalty-free-vector-file-eps-347910.jpg\r\n",
      "Completed Image ====> 327. female-face-expression-box-smiley-vector_7jsmbf_sb_pm.jpg\r\n",
      "Completed Image ====> 328. 3841-0-1449343257.jpg\r\n",
      "Completed Image ====> 329. female-face-shapes-woman-face-types-chart-vector-icon-illustration-vector-id614860902.jpg\r\n",
      "Completed Image ====> 330. s_face_1_600x.jpg\r\n",
      "Completed Image ====> 331. maxresdefault.jpg\r\n",
      "Completed Image ====> 332. blue-eyes-female-face-download-royalty-free-vector-file-eps-348006.jpg\r\n",
      "Completed Image ====> 333. how-to-draw-girl-face-side-profile-drawn-profile-female-face-pencil-and-in-color-drawn-profile.jpg\r\n",
      "Completed Image ====> 334. storyblocks-filler-injection-for-female-face-plastic-aesthetic-facial-surgery-and-in-clinic-beauty-woman-giving-injections-in-cosmetology-room_ssby_xufz_sb_pm.jpg\r\n",
      "Completed Image ====> 335. young-explorer-female-face-fo4-7.jpg\r\n",
      "Completed Image ====> 336. female-face-homage-to-picasso.jpg\r\n",
      "Completed Image ====> 337. maxresdefault.jpg\r\n",
      "IOError on an image...trying next one... Error: timed out\r\n",
      "Completed Image ====> 338. 51syja%2bf%2bul._us500_pisitb-sticker-arrow-big,topright,35,-73_ou01_.jpg\r\n",
      "Completed Image ====> 339. article-2521921-1a0694b200000578-525_964x508.jpg\r\n",
      "Completed Image ====> 340. the-female-face-face-2-ishma-alvi-bluethumb-art-55f9.jpg\r\n",
      "Completed Image ====> 341. 19697018-natural-mature-beauty-female-face-close-up.jpg\r\n",
      "Completed Image ====> 342. exemplary-stimuli-for-a-female-face-the-unmanipulated-baseline-version-is-displayed-on_q320.jpg\r\n",
      "Completed Image ====> 343. the-female-face-face-4-ishma-alvi-bluethumb-art-2359.jpg\r\n",
      "Completed Image ====> 344. cheerful-female-face-smiley_qk29hz_sb_pm.jpg\r\n",
      "Completed Image ====> 345. clean-happy-women-s-day-card-design-with-female-face-vector.jpg\r\n",
      "Completed Image ====> 346. 500_f_142363171_s2hygeh9mcvzwrnblnyjvuswleqrmtav.jpg\r\n",
      "Completed Image ====> 347. graphicstock-beauty-portrait-of-young-female-face-with-net-anti-aging-skincare-reflexology-concept_hamiel6qz-_sb_pm.jpg\r\n",
      "Completed Image ====> 348. how-to-draw-a-female-face-step-8_2.jpg\r\n",
      "Completed Image ====> 349. inv.1141_-_trat._fundo__cazev._-1-791x1024.jpg\r\n",
      "Completed Image ====> 350. female-face-homage-to-picasso.jpg\r\n",
      "Completed Image ====> 351. head-study-of-female-face-blonde-1898.jpg\r\n",
      "Completed Image ====> 352. dzyr9da.jpg\r\n",
      "Completed Image ====> 353. young-model-woman-with-skin-problem-female-face-divided-into-two-one-picture-id687927830?s=170667a&w=1007.jpg\r\n",
      "Completed Image ====> 354. the-female-face-face-1-ishma-alvi-bluethumb-art-074b.jpg\r\n",
      "Completed Image ====> 355. maxresdefault.jpg\r\n",
      "Completed Image ====> 356. 193165723.jpg\r\n",
      "Completed Image ====> 357. female+face.jpg\r\n",
      "Completed Image ====> 358. 552-0-1447535856.jpg\r\n",
      "Completed Image ====> 359. vector-pink-female-face-for-happy-women-s-day.jpg\r\n",
      "Completed Image ====> 360. yastrid-female-face-hyaluronic-acid-filler-1ml.jpg\r\n",
      "Completed Image ====> 361. female-face-pack-stock-image_gg61111443.jpg\r\n",
      "Completed Image ====> 362. female_face_and_nails_art_powerpoint_templates_and_powerpoint_backgrounds_0311_title.jpg\r\n",
      "Completed Image ====> 363. beautiful-female-face-3d-model_d.jpg\r\n",
      "Completed Image ====> 364. funny-female-face-kissing-lips-vector_xjdg-z_sb_pm.jpg\r\n",
      "Completed Image ====> 365. female_face_multilayer_background_vector_574461.jpg\r\n",
      "Completed Image ====> 366. male-female-face-icon-vector-id900731240.jpg\r\n",
      "Completed Image ====> 367. -c2-017-hot-sale-full-head-female-face-kig.jpg\r\n",
      "Completed Image ====> 368. freevector-female-face-design.jpg\r\n",
      "Completed Image ====> 369. draw-anime-female-face-and-shoulder.300x140.jpg\r\n",
      "Completed Image ====> 370. girl-in-wreath-female-face-watercolor-painting-illustration-id832273500.jpg\r\n",
      "Completed Image ====> 371. scared-female-face-stock-photo-3354106.jpg\r\n",
      "Completed Image ====> 372. forearm-tattoo-black-best-black-ink-female-face-and-bug-metamorphosis-forearm-tattoo-of-forearm-tattoo-black.jpg\r\n",
      "Completed Image ====> 373. examples-of-a-female-face-image-presented-with-varying-facial-expressions-from-left-to_q320.jpg\r\n",
      "Completed Image ====> 374. female-face-made-of-glasshomage-to-picasso.jpg\r\n",
      "Completed Image ====> 375. putting-a-female-face-on-a-male-mascot.jpg\r\n",
      "Completed Image ====> 376. 49766-1-1389431531.jpg\r\n",
      "Completed Image ====> 377. balpoint-drawing-female-face-with-glasses-download-royalty-free-vector-file-eps-347828.jpg\r\n",
      "Completed Image ====> 378. madeline_prindle_jl_f15_femalefacestudy_sized.jpg\r\n",
      "Completed Image ====> 379. mqdefault.jpg\r\n",
      "Completed Image ====> 380. .jpg\r\n",
      "Completed Image ====> 381. basic-pencil-sketch-face-side-basic-pencil-sketch-face-side-how-to-draw-a-female-face-front.jpg\r\n",
      "Completed Image ====> 382. maxresdefault.jpg\r\n",
      "Completed Image ====> 383. ?interpolation=lanczos-none&output-format=jpeg&output-quality=95&fit=inside%7c637%3a358&composite-to=*,*%7c637%3a358&background-color=black.jpg\r\n",
      "Completed Image ====> 384. farming-first-female-face-of-farming_brochure-1-1.jpg\r\n",
      "Completed Image ====> 385. woman-3404242_960_720.jpg\r\n",
      "Completed Image ====> 386. 9f2079a5bc10f1c94d98ab31f1c39c0a_3dmaker-drawing-face-body-help-female-face-drawing-reference_1024-1408.jpeg\r\n",
      "Completed Image ====> 387. female-face-line-art.jpg\r\n",
      "Completed Image ====> 388. 51ou4ym38il._sx425_.jpg\r\n",
      "Completed Image ====> 389. 3-views-of-the-female-face-stock-photo-c-bibacomua-3392147-3-views-of-the-female-face-stock-photo-3392147.jpg\r\n",
      "Completed Image ====> 390. female-face-mask-costume-sexy-lace-party.jpg\r\n",
      "Completed Image ====> 391. male-female-face-and-symbol-with-heart-vector-id452740521.jpg\r\n",
      "Completed Image ====> 392. stock-vector-illustration-on-a-white-background-outline-of-the-human-female-face-for-makeup-607032713.jpg\r\n",
      "Completed Image ====> 393. vector-female-face-creative-design-for-woman-s-day.jpg\r\n",
      "Completed Image ====> 394. muscle-structure-of-the-face-female-face-muscles-anatomy-stock-illustration-image-68807547.jpg\r\n",
      "Completed Image ====> 395. 38788-1-1355574649.jpg\r\n",
      "Completed Image ====> 396. 942496.jpg\r\n",
      "Completed Image ====> 397. s-l300.jpg\r\n",
      "Completed Image ====> 398. drawn-expression-female-face-14.jpg\r\n",
      "Completed Image ====> 399. balpoint-drawing-female-face-with-glasses-download-royalty-free-vector-file-eps-347828.jpg\r\n",
      "Completed Image ====> 400. 1713489-female-face-with-long-beauty-hair-wind-blows-on-hairs.jpg\r\n",
      "Completed Image ====> 401. b54fe65a0486f42823552600092ca807_female-face-comic-emotions-drawing-drawing-of-sketch-female-face-expressions-drawing_1600-1195.jpeg\r\n",
      "Completed Image ====> 402. male-and-female-face-avatars_23-2147522282.jpg\r\n",
      "Completed Image ====> 403. beautiful-wallpaper-chabert-lacey-background-female-face-162648.jpg\r\n",
      "Completed Image ====> 404. 530wm.jpg\r\n",
      "Completed Image ====> 405. draw-female-face-with-hair.1280x600.jpg\r\n",
      "Completed Image ====> 406. drawing-a-female-face-face-drawing-tutorial-female-face-drawing-practice-by-jezzy-1.jpg\r\n",
      "Completed Image ====> 407. portrait-african-women-dark-skin-female-face-with-hair-afro-and-metal-vector-id917040124.jpg\r\n",
      "Completed Image ====> 408. a_female_face_expressing_admiration._engraving_by_m._engelbr_wellcome_v0009346.jpg\r\n",
      "Completed Image ====> 409. japanese-female-face-cgi-google-search-the-female-face-pertaining-to-girl-in-field-hd-wallpaper-female-korean-artist-hairstyle.jpg\r\n",
      "Completed Image ====> 410. art-sketching-of-abstract-female-face-and-shoulders-download-royalty-free-vector-file-eps-153674.jpg\r\n",
      "Completed Image ====> 411. silya-ziana-the-female-face-of-the-hirak-receives-royal-pardon.jpg\r\n",
      "Completed Image ====> 412. a8d86405c4db08993017e6bd1fe2c03c_how-to-draw-female-face-with-pencil-girl-face-profile-drawing-female-face-profile-drawing_1024-640.jpeg\r\n",
      "Completed Image ====> 413. 3841-5-1448932760.jpg\r\n",
      "Completed Image ====> 414. female-face-anatomy-the-art-of-face-sculpting-in-zbrush-with-ryan-kingslien-cg-elves.jpg\r\n",
      "Completed Image ====> 415. drawn-people-female-face-12.jpg\r\n",
      "Completed Image ====> 416. how-to-draw-a-female-face-from-the-side-view-step-2.jpg\r\n",
      "Completed Image ====> 417. drawn-expression-female-face-1.jpg\r\n",
      "Completed Image ====> 418. face-drawing-outline-female-face-profile-outline-related-keywords-face-drawing-outline-how-to-draw-a-girl39s-face-face-drawings-female-face-drawing-and.jpg\r\n",
      "Completed Image ====> 419. female_face_mask_%28mblo%29%2c_early-mid_1900s%2c_guinea_coast%2c_ivory_coast%2c_baule_people%2c_wood_-_cleveland_museum_of_art_-_dsc08718.jpg\r\n",
      "Completed Image ====> 420. female_face_mask_%28gambanda%29%2c_early_1900s%2c_central_africa%2c_democratic_republic_of_the_congo%2c_pende_people%2c_wood%2c_fiber_-_cleveland_museum_of_art_-_dsc08700.jpg\r\n",
      "Completed Image ====> 421. female-face.jpg\r\n",
      "Completed Image ====> 422. 567164-anushka-sharma.jpg\r\n",
      "Completed Image ====> 423. aa84.jpg\r\n",
      "Completed Image ====> 424. how-to-draw-a-female-face-from-the-side-view-step-by-step.jpg\r\n",
      "Completed Image ====> 425. 01-pavlichenko-snajper.jpg\r\n",
      "Completed Image ====> 426. beautiful-makeup-woman-face-looking-down-portrait-of-beautiful-beautiful-makeup-woman-face-looking-down-portrait-of-beautiful-natural-woman-on-white-background-looking.jpg\r\n",
      "Completed Image ====> 427. happy-women-s-day-greeting-design-with-female-face-vector.jpg\r\n",
      "Completed Image ====> 428. 1357e762c8829af.jpg\r\n",
      "Completed Image ====> 429. female-face.jpg\r\n",
      "Completed Image ====> 430. female_face_multilayer_background_vector_574460.jpg\r\n",
      "Completed Image ====> 431. female-face-lift-before-and-after-by-dr-randy-b.-miller-md-miami-plastic-surgeon.jpg\r\n",
      "Completed Image ====> 432. th-female-face-morphs-for-gene.jpg\r\n",
      "Completed Image ====> 433. fragment-of-female-face-lips-closeup_bmmwje8g__s0003.jpg\r\n",
      "Completed Image ====> 434. girl-face-drawing-easy-easy-girl-face-drawing-draw-a-girls-face-female-face-drawing.jpg\r\n",
      "Completed Image ====> 435. latest?cb=20110620233953&path-prefix=en.jpg\r\n",
      "Completed Image ====> 436. portrait-african-women-dark-skin-female-face-with-hair-afro-ethnic-vector-id942384306.jpg\r\n",
      "Completed Image ====> 437. carrie-underwood-celebrity-female-face-beauty-hairstyle-228242.jpg\r\n",
      "Completed Image ====> 438. 3398287-female-face-in-a-heart-with-empty-pink-copy-space.jpg\r\n",
      "Completed Image ====> 439. 6982826082_53c9de5e4b_b_news_featured.jpg\r\n",
      "URLError on an image...trying next one... Error: <urlopen error [SSL: CERTIFICATE_VERIFY_FAILED] certificate verify failed (_ssl.c:833)>\r\n",
      "Completed Image ====> 440. a_female_face_expressing_admiration._etching_in_the_crayon_m_wellcome_v0009332.jpg\r\n",
      "Completed Image ====> 441. female-face-shaving.jpg\r\n",
      "Completed Image ====> 442. -c2-017-hot-sale-full-head-female-face-kig.jpg\r\n",
      "Completed Image ====> 443. how-to-draw-and-paint-a-face-845x527.jpg\r\n",
      "Completed Image ====> 444. how-to-draw-a-female-face-step-by-step-draw-central-how-to-draw-a-female-face-step-by-step.jpg\r\n",
      "Completed Image ====> 445. french-alabaster-vase-with-neoclassical-decorations-of-fruit-and-female-face-from-20th-century.jpg\r\n",
      "Completed Image ====> 446. 22380-0-1483258553.jpg\r\n",
      "IOError on an image...trying next one... Error: timed out\r\n",
      "HTTPError on an image...trying next one... Error: HTTP Error 403: Forbidden\r\n",
      "Completed Image ====> 447. face-lady-woman-portrait-girl-female-face-woman-2319467.jpg\r\n",
      "Completed Image ====> 448. 500_f_199342157_cipzopvcykaucuvapmo2qzn6rkit5kdx.jpg\r\n",
      "Completed Image ====> 449. calm-girl-with-clean-face-and-long-hair-looking-down-isolated-calm-girl-with-clean-face-and-long-hair-looking-down-isolated-on-white-background-stock-photo.jpg\r\n",
      "Completed Image ====> 450. close-up-of-female-face-with-covered-pictures__k16673098.jpg\r\n",
      "Completed Image ====> 451. drawn-barbie-female-face-15.jpg\r\n",
      "Completed Image ====> 452. fragment-of-female-face-lips-closeup_sgbeqjlig__s0009.jpg\r\n",
      "Completed Image ====> 453. cute-female-face-pen-and-ink-sketch-clip-art__k1590952.jpg\r\n",
      "Completed Image ====> 454. llustration-of-movement-mapping-result-of-female-face-point-cloud-top-row-expression_q320.jpg\r\n",
      "Completed Image ====> 455. 2582728-perfect-smile-with-white-healthy-teeth-closeup-on-beautiful-female-face-dental-care-concept.jpg\r\n",
      "Completed Image ====> 456. girlface_tutorial006c.jpg\r\n",
      "Completed Image ====> 457. average-female-face-for-laos.jpg\r\n",
      "Completed Image ====> 458. female-face-vector-id165637941.jpg\r\n",
      "Completed Image ====> 459. s-l300.jpg\r\n",
      "Completed Image ====> 460. fragment-of-female-face-lips-closeup_bfezzjl8e__s0003.jpg\r\n",
      "Completed Image ====> 461. stock-photo-double-exposure-of-laughing-people-with-great-teeth-and-female-face-closeup-healthy-beautiful-599314292-1150x844.jpg\r\n",
      "URLError on an image...trying next one... Error: <urlopen error timed out>\r\n",
      "Completed Image ====> 462. 500_f_148308878_kk7vcrx95duhz3plkhvpi9rmqifsllrw.jpg\r\n",
      "Completed Image ====> 463. 721153.jpg\r\n",
      "Completed Image ====> 464. portrait-1673037_960_720.jpg\r\n",
      "Completed Image ====> 465. female-face-drawing-outline-25.jpg\r\n",
      "Completed Image ====> 466. 48860c35258a14d12b8dceef8b9058aa_female-face-drawing-reference-clipartxtras-female-face-drawing-reference_574-350.jpeg\r\n",
      "Completed Image ====> 467. -c2-018-full-head-female-face-anime-kig-mask.jpg\r\n",
      "Completed Image ====> 468. female-face-profile-drawing-63.jpg\r\n",
      "Completed Image ====> 469. 2016-unique-handmade-kig-latex-female-face.jpg\r\n",
      "Completed Image ====> 470. female-face-drawing-images-20.jpg\r\n",
      "Completed Image ====> 471. 8f8b6ff9c905a8cbd2818438dd5ee163_best-25-profile-woman-ideas-on-pinterest-face-profile-drawing-female-face-profile-drawing_500-760.jpeg\r\n",
      "Completed Image ====> 472. colletes-thysanellae%2c-female%2c-face_2012-04-02-13.14.01-zs-pmax_%287725303126%29.jpg\r\n",
      "Completed Image ====> 473. 961633.jpg\r\n",
      "Completed Image ====> 474. drawn-head-female-face-3.jpg\r\n",
      "Completed Image ====> 475. e0c1f95edf342f8d1282b886c16b426a_female-face-drawing-reference-clipartxtras-female-face-drawing-reference_731-1024.jpeg\r\n",
      "Completed Image ====> 476. 500_f_195879487_1axkgnqern4crass5wfywduj44dhbw6s.jpg\r\n",
      "Completed Image ====> 477. 2568653-isolated-vector-sun-with-human-female-face-background-gor-text.jpg\r\n",
      "Completed Image ====> 478. 56192578-comic-cartoon-female-face-with-surprised-expression.jpg\r\n",
      "Completed Image ====> 479. chris-anderson-011-female-face-hair-style-3.jpg\r\n",
      "Completed Image ====> 480. female-face-drawing-images-ab8d6c9f138f6e5426f3b19215e8cff1-girl-face-drawing-face-drawings.jpg\r\n",
      "Completed Image ====> 481. cute-female-face-pen-and-ink-sketch-drawing__k1611953.jpg\r\n",
      "Completed Image ====> 482. file-20170911-1380-1f88e6m.jpg\r\n",
      "Completed Image ====> 483. female_face_multilayer_background_vector_574459.jpg\r\n",
      "Completed Image ====> 484. beautiful-female-face-illustrated-stock-illustration-1602010.jpg\r\n",
      "Completed Image ====> 485. focused_124541076-cow-smelling-female-face.jpg\r\n",
      "Completed Image ====> 486. -c2-018-full-head-female-face-anime-kig-mask.jpg\r\n",
      "Completed Image ====> 487. young-explorer-female-face-fo4.jpg\r\n",
      "Completed Image ====> 488. female-face.jpg\r\n",
      "Completed Image ====> 489. sketch-clipart-female-face-2.jpg\r\n",
      "Completed Image ====> 490. 130517573tender1510313665.jpg\r\n",
      "Completed Image ====> 491. beautiful-female-face-paint-art-men-s-t-shirt.jpg\r\n",
      "Completed Image ====> 492. abstract-black-and-white-female-face-download-royalty-free-vector-file-eps-197096.jpg\r\n",
      "Completed Image ====> 493. how-to-draw-a-female-face-step-2.jpg\r\n",
      "Completed Image ====> 494. 130504831-288-k841032.jpg\r\n",
      "Completed Image ====> 495. female-face-design-logo-c80abe2c2d-seeklogo.com.jpg\r\n",
      "Completed Image ====> 496. draw-female-face-profile.1280x600.jpg\r\n",
      "Completed Image ====> 497. women-face-sketch-outline-photos-female-face-line-drawing-drawing-art-gallery-300x210.jpg\r\n",
      "Completed Image ====> 498. female-face-anatomy-1000-images-about-face-anatomy-on-pinterest-human-anatomy.jpg\r\n",
      "Completed Image ====> 499. young-explorer-female-face-fo4-3.jpg\r\n",
      "Completed Image ====> 500. human-people-person-clothing-lingerie-underwear-female-face-portrait-w.jpg\r\n",
      "Completed Image ====> 501. simple-side-face-sketch-how-to-draw-the-female-face-side-profile-tutorial-by.jpg\r\n",
      "Completed Image ====> 502. jayda-fransen.jpg\r\n",
      "Completed Image ====> 503. 51166-1-1375132060.jpg\r\n",
      "Completed Image ====> 504. male-female-face-make-dna-strand-clipart__k19385340.jpg\r\n",
      "Completed Image ====> 505. how-to-draw-a-female-face-step-4.jpg\r\n",
      "Completed Image ====> 506. 15518003024_878fdd7b9e_b.jpg\r\n",
      "HTTPError on an image...trying next one... Error: HTTP Error 403: Forbidden\r\n",
      "Completed Image ====> 507. female-face-anatomy-1000-images-about-facial-anatomy-and-expressions-on-pinterest.jpg\r\n",
      "Completed Image ====> 508. the_face_of_a_woman_in_ecstasy_%28left%29%3b_a_female_face_express_wellcome_v0009383.jpg\r\n",
      "Completed Image ====> 509. sketch-clipart-female-face-9.jpg\r\n",
      "Completed Image ====> 510. happy-female-face-in-santa-hat-and-clapperboard_1262-7230.jpg\r\n",
      "Completed Image ====> 511. face-closeup-isolated-stock-images-royalty-free-images-vectors-beauty-portrait-of-young-woman-looking-down-isolated-on-background-closeup-face-of-a-beautiful.jpg\r\n",
      "Completed Image ====> 512. female-face-silhouette-clipart-cliparthut-free-clipart-d3lzkx-clipart.jpg\r\n",
      "URLError on an image...trying next one... Error: <urlopen error [SSL: CERTIFICATE_VERIFY_FAILED] certificate verify failed (_ssl.c:833)>\r\n",
      "Completed Image ====> 513. 79213883-352-k164263.jpg\r\n",
      "Completed Image ====> 514. how-to-draw-female-face-by-drawing-academy-17-3-drawing.jpg\r\n",
      "Completed Image ====> 515. girlface_tutorial006f.jpg\r\n",
      "Completed Image ====> 516. beautiful-female-face-pencil-sketch-pencil-sketches-of-women-faces-pencil-sketches-of-women-photo.jpg\r\n",
      "Completed Image ====> 517. ow-ltr003-female-face-arm-tattoo-coverup-01.jpg\r\n",
      "Completed Image ====> 518. sculpture_artwork_paola_grizi_border_line_1.jpg\r\n",
      "Completed Image ====> 519. 81d82bd5538e2d9fb7b2b457be990419.jpg\r\n",
      "Completed Image ====> 520. face-drawing-images-best-of-female-face-drawing-stock-vector-shutterstock-of-face-drawing-images.jpg\r\n",
      "Completed Image ====> 521. woman-face-sketch-outline-female-face-sketch-stock-vector-image-of-black-fashion-26592648-300x210.jpg\r\n",
      "Completed Image ====> 522. 8cabk7q6i.jpg\r\n",
      "Completed Image ====> 523. drawn-profile-female-face-15.jpg\r\n",
      "Completed Image ====> 524. cosmetic-injection-in-the-female-face-vector-outline-illustration-vector-id483779244?s=170667a&w=1007.jpg\r\n",
      "Completed Image ====> 525. f1-british-gp-2008-female-face-of-the-british-grand-prix-and-miss-england-gemma-garrett-wi.jpg\r\n",
      "Completed Image ====> 526. hand-drawn-beautiful-female-face-with-ram-horns-download-royalty-free-vector-file-eps-241465.jpg\r\n",
      "Completed Image ====> 527. drawn-profile-female-face-4.jpg\r\n",
      "Completed Image ====> 528. female-face-beauty-clip-art-3-thumb3033714.jpg\r\n",
      "Completed Image ====> 529. 6156-0-1487440464.jpg\r\n",
      "Completed Image ====> 530. beautiful-female-face-pencil-sketch-portrait-drawing-of-a-beautiful-girl-e296barealistic-pencil-drawing.jpg\r\n",
      "Completed Image ====> 531. female-face-sketching.jpg\r\n",
      "Completed Image ====> 532. face-drawing-images-fresh-female-face-outline-of-face-drawing-images.jpg\r\n",
      "Completed Image ====> 533. 4648462767_1c984fe2ca_b.jpg\r\n",
      "Completed Image ====> 534. woman-face-sketch-outline-women-face-sketch-outline-female-face-sketch-royalty-free-stock-300x210.jpg\r\n",
      "Completed Image ====> 535. female-face-drawing-54.jpg\r\n",
      "Completed Image ====> 536. pop-art-female-face-sexy-surprised-young-african-woman-with-open-mouth-and-afro-hairstyle-and-speech-bubble-art-retro-comic-style.jpg\r\n",
      "Completed Image ====> 537. 500_f_165907541_gnt80sllmecqud58fopnchjtpf0dsuxp.jpg\r\n",
      "Completed Image ====> 538. female%2bface.jpg\r\n",
      "Completed Image ====> 539. how-to-draw-a-female-face-step-5.jpg\r\n",
      "Completed Image ====> 540. 530wm.jpg\r\n",
      "Completed Image ====> 541. female-face-drawing-template-58.png\r\n",
      "Completed Image ====> 542. wonder-woman-coloring-sheet-page-google-search-female-face-pages.jpg\r\n",
      "Completed Image ====> 543. cartoon-female-face-10241555351.jpg\r\n",
      "Completed Image ====> 544. 3473741-female-face-head-in-a-white-love-heart-vector.jpg\r\n",
      "Completed Image ====> 545. woman-face-sketch-outline-woman-face-sketch-outline-face-drawing-outline-female-face-sketch-300x210.jpg\r\n",
      "Completed Image ====> 546. abstract-colorful-female-face-download-royalty-free-vector-file-eps-198190.jpg\r\n",
      "Completed Image ====> 547. .jpg\r\n",
      "Completed Image ====> 548. how-to-draw-a-female-face-from-the-side-view-step-11.jpg\r\n",
      "Completed Image ====> 549. silhouette_female_face_background_574489.jpg\r\n",
      "Completed Image ====> 550. nathan-oliveira-female-face.jpg\r\n",
      "Completed Image ====> 551. comic-book-video-tutorials-how-to-draw-female-face-three-quarter-view.jpg\r\n",
      "Completed Image ====> 552. sample-asian-and-african-female-face-images-used-in-the-present-study.png\r\n",
      "Completed Image ====> 553. lb_s2_05_image_0021.jpg\r\n",
      "Completed Image ====> 554. i-pinimg-com_the-best-planes-characters-ideas-face-structu-on-female-face-wip-first-ever-sculp.jpg\r\n",
      "Completed Image ====> 555. female-face-outline-2.jpg\r\n",
      "Completed Image ====> 556. the-25-best-female-face-drawing-ideas-on-pinterest-how-to-draw-brandy-model-sheet-frank-cho-drawing-your-character-multiple-times-from-different-angles-helps.jpg\r\n",
      "Completed Image ====> 557. female-face-outline-3.jpg\r\n",
      "Completed Image ====> 558. article-2521921-1bdbbfc0000005dc-514_310x446.jpg\r\n",
      "Completed Image ====> 559. b16242639414ae09dbefa0ac7a451e58_drawn-shapes-head-pencil-and-in-color-drawn-shapes-head-female-face-shapes-drawing_383-398.jpeg\r\n",
      "Completed Image ====> 560. 17241818-abstract-female-face-with-floral-accessories.jpg\r\n",
      "Completed Image ====> 561. abstract-female-face-stock-illustration-1663946.jpg\r\n",
      "Completed Image ====> 562. samples-of-asian-male-and-female-face-with-various-poses-and-scales-from-the-feret-image_q320.jpg\r\n",
      "Completed Image ====> 563. 01554109.jpg\r\n",
      "Completed Image ====> 564. 03ec4c873bf2f3c424ccaaec268c4164_how-to-draw-a-female-face-in-8-steps-rapidfireart-simple-female-face-drawing_324-235.jpeg\r\n",
      "Completed Image ====> 565. the-cake-decorating-co-female-face-base-mould-by-rhu-strand-p6769-11590_image.jpg\r\n",
      "Completed Image ====> 566. 33238362-cartoon-shocked-female-face.jpg\r\n",
      "Completed Image ====> 567. unique-hairstyles-to-suit-face-shape-female-face-in-hole-hairstyles-software-hairstyles-for-round-face.jpg\r\n",
      "Completed Image ====> 568. 2457348-closeup-on-beautiful-female-face-eating-fruits-health-care-and-diet-concept.jpg\r\n",
      "Completed Image ====> 569. vector-single-sketch-female-face-women-hairstyle-vector-id473043356?s=170667a&w=1007.jpg\r\n",
      "Completed Image ====> 570. silhouette_of_female_face.jpg\r\n",
      "Completed Image ====> 571. cartoon-female-face-4501555351.jpg\r\n",
      "Completed Image ====> 572. young-explorer-female-face-fo4-1.jpg\r\n",
      "Completed Image ====> 573. female-face-of-farming-intro1-300x305.jpg\r\n",
      "Completed Image ====> 574. 300px-fallout4femaleface7.jpg\r\n",
      "Completed Image ====> 575. 13038632-beauty-female-face-logo.jpg\r\n",
      "Completed Image ====> 576. abstract-female-face.jpg\r\n",
      "Completed Image ====> 577. 51166-2-1375130938.jpg\r\n",
      "Completed Image ====> 578. abstract-female-face-vector-eps-24436.jpg\r\n",
      "Completed Image ====> 579. 3d-mural-art-japanese-female-face-wall-hanging-with-frame-250x250.jpg\r\n",
      "Completed Image ====> 580. 105128624-352-k584108.jpg\r\n",
      "Completed Image ====> 581. vector-single-sketch-female-face-women-hairstyle-vector-id473043376?s=170667a&w=1007.jpg\r\n",
      "Completed Image ====> 582. face_shlp6.jpg\r\n",
      "Completed Image ====> 583. drawn-profile-female-face-13.jpg\r\n",
      "Completed Image ====> 584. 5dac7a88097765db6bbc0736a52d3feb_facial-expressions-practice-1-by-raeri-chan-on-deviantart-female-face-expressions-drawing_800-1000.jpeg\r\n",
      "Completed Image ====> 585. how-to-draw-a-female-face-in-8-steps-rapidfireart-how-to-draw-female-faces-experiment-rfa.jpg\r\n",
      "Completed Image ====> 586. the-cake-decorating-co-male-and-female-face-base-mould-by-rhu-strand-p9543-22661_image.jpg\r\n",
      "Completed Image ====> 587. new-face-silicone-face-mask-silicone-female-face-facial-mask.jpg\r\n",
      "URLError on an image...trying next one... Error: <urlopen error [SSL: CERTIFICATE_VERIFY_FAILED] certificate verify failed (_ssl.c:833)>\r\n",
      "Completed Image ====> 588. abstract-female-face-download-royalty-free-vector-file-eps-197754.jpg\r\n",
      "Completed Image ====> 589. male-vs-female-face-recognition_q320.jpg\r\n",
      "Completed Image ====> 590. extatosoma.tiaratum.female.face.jpg\r\n",
      "Completed Image ====> 591. 24eee5d5ecd0ee9c5b22b495cf4bd20d_student-in-k-sad-contect-tbsojin12gmailcom-expression-female-face-expressions-drawing_1280-1229.jpeg\r\n",
      "Completed Image ====> 592. david-burnham-smith-vase-with-female-face.jpg\r\n",
      "Completed Image ====> 593. 6iro4kp4t.jpg\r\n",
      "Completed Image ====> 594. 43715756-cartoon-surprised-female-face.jpg\r\n",
      "Completed Image ====> 595. 5-1-halictus-glabrescens-lectotype-female-face-2-halictillus-verissimus-nsp_q320.jpg\r\n",
      "Completed Image ====> 596. female-face-thumb.jpg\r\n",
      "Completed Image ====> 597. face-drawing-images-thumbnail-how-to-draw-male-female-face-3-quarter-view-324x235-218x150.jpg\r\n",
      "Completed Image ====> 598. best-25-female-face-drawing-ideas-on-pinterest-pencil-sketching-face-drawing-tutorial-female-head-face.jpg\r\n",
      "Completed Image ====> 599. how-to-draw-a-female-face-from-the-side-view-step-8.jpg\r\n",
      "Completed Image ====> 600. ed972f08d7a28291703ded7f28abbdba.jpg\r\n",
      "Completed Image ====> 601. 33083244-cartoon-happy-female-face.jpg\r\n",
      "Completed Image ====> 602. about-head-on-pinterest-oblong-how-to-draw-tutorials-images-female-face-anatomy-for-artists-about_female-face-anatomy-for-artists-i-on-rose-liagridonis-operations-dir.jpg\r\n",
      "Completed Image ====> 603. how-to-draw-a-female-face-1-rfa.jpg\r\n",
      "Completed Image ====> 604. 9158735-cartoon-female-face.jpg\r\n",
      "Completed Image ====> 605. 101982940-352-k42089.jpg\r\n",
      "Completed Image ====> 606. dei-female-face-vase-white-d943321f_l.jpg\r\n",
      "Completed Image ====> 607. 20170111-naia-ofw-airport-2.jpg\r\n",
      "URLError on an image...trying next one... Error: <urlopen error [SSL: CERTIFICATE_VERIFY_FAILED] certificate verify failed (_ssl.c:833)>\r\n",
      "Completed Image ====> 608. andrena_wilkella%2c_female%2c_face_2012-08-09-15.28.53_zs_pmax_%288005027378%29.jpg\r\n",
      "Completed Image ====> 609. female-face-wall-painting-inside-cave-17-detail-5th-6th-c-ajanta-caves-india,2258134.jpg\r\n",
      "Completed Image ====> 610. pop-art-female-face-sexy-surprised-young-african-woman-with-open-mouth-and-afro-hairstyle-and-speech-bubble-art-retro-comic-style.jpg\r\n",
      "HTTPError on an image...trying next one... Error: HTTP Error 403: Forbidden\r\n",
      "Completed Image ====> 611. female-face-of-farming-007.jpg\r\n",
      "Completed Image ====> 612. s402-2.jpg\r\n",
      "Completed Image ====> 613. mosaic-674582_960_720.jpg\r\n",
      "Completed Image ====> 614. childs-drawing-of-a-happy-female-face-clipart__k14838643.jpg\r\n",
      "Completed Image ====> 615. 4483348-pumpkin-with-female-face-in-straw-hat.jpg\r\n",
      "Completed Image ====> 616. face-massage-head-massage-hands-stock-illustrations__k11439580.jpg\r\n",
      "Completed Image ====> 617. 80123707-352-k965870.jpg\r\n",
      "Completed Image ====> 618. drawn-profile-female-face-6.jpg\r\n",
      "Completed Image ====> 619. tawil-male-and-female-face-2-inch.jpg\r\n",
      "Completed Image ====> 620. how-to-draw-a-female-face-from-the-side-view-step-7.jpg\r\n",
      "Completed Image ====> 621. female-face-vector-image.jpg\r\n",
      "Completed Image ====> 622. female_face_and_nails_art_powerpoint_templates_and_powerpoint_backgrounds_0311_print.jpg\r\n",
      "Completed Image ====> 623. s-l300.jpg\r\n",
      "Completed Image ====> 624. childs-drawing-of-a-happy-female-face-clipart__k15539795.jpg\r\n",
      "Completed Image ====> 625. how-to-draw-female-face-anime-drawing-anime-girl-faces-drawing-art-skethes.jpg\r\n",
      "HTTPError on an image...trying next one... Error: HTTP Error 520: Origin Error\r\n",
      "Completed Image ====> 626. male-and-female-face-wc-toilet-sign-vector-id495054022?s=170667a&w=1007.jpg\r\n",
      "Completed Image ====> 627. architectural_slab_with_gavaksha_relief_with_female_face_-_circa_5th_century_ce_-_govind_dev_mandir_-_vrindaban_-_accn_51-3607_-_government_museum_-_mathura_2013-02-23_5491.jpg\r\n",
      "Completed Image ====> 628. 16647045-sketch-girl-with-short-hair-line-graphic-portrait-charcoal-drawing-female-face-young-lady-with-flower-in-hair-vector-illustration.jpg\r\n",
      "Completed Image ====> 629. ?interpolation=lanczos-none&output-format=jpeg&output-quality=95&fit=inside%7c268%3a268&composite-to=*,*%7c268%3a268&background-color=black.jpg\r\n",
      "Completed Image ====> 630. watercolor-portrait-painting-pain-woman-female-face-art-drip-color-emotion-eyes.jpg\r\n",
      "Completed Image ====> 631. s-l300.jpg\r\n",
      "Completed Image ====> 632. female_face_and_nails_art_powerpoint_templates_and_powerpoint_backgrounds_0311_text.jpg\r\n",
      "Completed Image ====> 633. 160727642.jpg\r\n",
      "Completed Image ====> 634. tga-9019-1-3-15-1_9.jpg\r\n",
      "HTTPError on an image...trying next one... Error: HTTP Error 403: Forbidden\r\n",
      "Completed Image ====> 635. 6515168939_eb44fcf93d_b.jpg\r\n",
      "Completed Image ====> 636. 8czrb9rji.jpg\r\n",
      "HTTPError on an image...trying next one... Error: HTTP Error 403: Forbidden\r\n",
      "Completed Image ====> 637. -c2-019-full-head-female-face-anime-kig-mask.jpg\r\n",
      "HTTPError on an image...trying next one... Error: HTTP Error 403: Forbidden\r\n",
      "HTTPError on an image...trying next one... Error: HTTP Error 403: Forbidden\r\n",
      "Completed Image ====> 638. a-female-face-peeks-from-between-nautilus-shells-in-this-fantasy-uv-tattoo-on-glowrious-george.jpg\r\n",
      "Completed Image ====> 639. 507662-bs1.jpg\r\n",
      "Completed Image ====> 640. 5427482_stock-vector-beauty-female-face-logo.jpg\r\n",
      "Completed Image ====> 641. femalefaceheader.jpg\r\n",
      "Completed Image ====> 642. a-female-face-illustrator-vector-material-60819.jpg\r\n",
      "Completed Image ====> 643. -c2-019-full-head-female-face-anime-kig-mask.jpg\r\n",
      "Completed Image ====> 644. learn-manga-how-to-draw-the-female-head-side-by-naschi-on-deviantart_side-profile-of-the-female-face-images-on-glutes-stock-images-royalty-free-vectors.jpg\r\n",
      "Completed Image ====> 645. childs-drawing-of-a-happy-female-face-clip-art__k15539799.jpg\r\n",
      "Completed Image ====> 646. 33141896-cartoon-surprised-female-face.jpg\r\n",
      "Completed Image ====> 647. 15916117922_7580cdb1bb_b.jpg\r\n",
      "Completed Image ====> 648. s-l300.jpg\r\n",
      "HTTPError on an image...trying next one... Error: HTTP Error 403: Forbidden\r\n",
      "Completed Image ====> 649. best-25-female-face-drawing-ideas-on-pinterest-pencil-sketching-step-by-step-tutorial-for-drawing-a-face.jpg\r\n",
      "Completed Image ====> 650. full122683_97698d3f9d7c183070687c1317fd7749.jpg\r\n",
      "Completed Image ====> 651. female-face-clip-art_t.jpg\r\n",
      "Completed Image ====> 652. female%2bface%2beye%2bsteps%2528wm%2529.jpg\r\n",
      "HTTPError on an image...trying next one... Error: HTTP Error 403: Forbidden\r\n",
      "Completed Image ====> 653. 15857424.jpg\r\n",
      "Completed Image ====> 654. tips-for-drawing-faces-thumbnail-how-to-draw-a-female-face-324x235-2.jpg\r\n",
      "Completed Image ====> 655. realistic-full-girls-to-draw-realism-face-gorl-realistic-female-face-drawings-how-to-draw-a.jpg\r\n",
      "Completed Image ====> 656. drawing-the-side-view-of-a-face-drawing-realistic-female-face-side-view-youtube.jpg\r\n",
      "Completed Image ====> 657. 2619065-perfect-smile-with-white-healthy-teeth-closeup-on-beautiful-female-face-dental-care-concept.jpg\r\n",
      "Completed Image ====> 658. female-face-sketch-tumblr-sketch-girl-face-tumblr-drawing-of-sketch.jpg\r\n",
      "Completed Image ====> 659. how-to-draw-a-female-face-2_1.jpg\r\n",
      "Completed Image ====> 660. 205746.jpg\r\n",
      "Completed Image ====> 661. female_face_study_stick_kit_learn_to_carve_faces_with_harold_enlow__3.jpg\r\n",
      "Completed Image ====> 662. young-explorer-female-face-fo4-6.jpg\r\n",
      "Completed Image ====> 663. 80760773-352-k639506.jpg\r\n",
      "Completed Image ====> 664. young-female-face-texture-4.jpg\r\n",
      "Completed Image ====> 665. 500_f_118454291_ipmgirrlwarrcyb14pku91v0pru3r3fz.jpg\r\n",
      "Completed Image ====> 666. 3841-3-1448932760.jpg\r\n",
      "Completed Image ====> 667. valkyr-female-face-and-body-textures-1.jpg\r\n",
      "Completed Image ====> 668. 51gcfa5pgxl._us500_pisitb-sticker-arrow-big,topright,35,-73_ou01_.jpg\r\n",
      "Completed Image ====> 669. how-to-draw-female-face-anime-7-how-to-draw-anime-girl-faces.gif\r\n",
      "Completed Image ====> 670. valkyr-female-face-and-body-textures-7.jpg\r\n",
      "Completed Image ====> 671. valkyr-female-face-and-body-textures-4.jpg\r\n",
      "Completed Image ====> 672. female-face-covered-in-dirt-picture-id554598821.jpg\r\n",
      "Completed Image ====> 673. 38788-5-1292661867.jpg\r\n",
      "Completed Image ====> 674. valkyr-female-face-and-body-textures-5.jpg\r\n",
      "Completed Image ====> 675. alternate-female-face-textures-2.jpg\r\n",
      "Completed Image ====> 676. valkyr-female-face-and-body-textures-8.jpg\r\n",
      "Completed Image ====> 677. drawn-chick-female-face-3.jpg\r\n",
      "Completed Image ====> 678. drawn-chick-female-face-20.jpg\r\n",
      "Completed Image ====> 679. female-face-drawing-images-face-drawing-of-a-girl-step-by-step.jpg\r\n",
      "Completed Image ====> 680. drawn-women-pencil-sketch-17.jpg\r\n",
      "\r\n",
      "\r\n",
      "Unfortunately all 1500 could not be downloaded because some images were not downloadable. 680 is all we got for this search filter!\r\n",
      "\r\n",
      "Errors: 19\r\n",
      "\r\n",
      "\r\n",
      "Everything downloaded!\r\n",
      "Total time taken: 361.88654613494873 Seconds\r\n",
      "\r\n",
      "Item no.: 1 --> Item name = Male_face\r\n",
      "Evaluating...\r\n",
      "Getting you a lot of images. This may take a few moments...\r\n",
      "Reached end of Page.\r\n",
      "Starting Download...\r\n",
      "Completed Image ====> 1. b826ccd4cbbb2853515c89fa9731da16--mens-short-hairstyles--short-natural-hairstyles.jpg\r\n",
      "Completed Image ====> 2. pexels-photo-614810.jpeg\r\n",
      "Completed Image ====> 3. 5237c58f-4104-456d-b6d9-c2570d823d5f.jpg\r\n",
      "Completed Image ====> 4. male-treatments.jpg\r\n",
      "Completed Image ====> 5. archetypal-male-face-of-beauty-embargoed-to-00.01hrs-30.03.15.jpg\r\n",
      "Completed Image ====> 6. hqdefault.jpg\r\n",
      "Completed Image ====> 7. 1*m56emho8gjsdwl0ynijena.jpeg\r\n",
      "Completed Image ====> 8. 51bde472.jpg\r\n",
      "Completed Image ====> 9. texturingxyz_male02_photo_grande.jpg\r\n",
      "Completed Image ====> 10. back-and-side-square-500x707.jpg\r\n",
      "Completed Image ====> 11. c0418f5967b642a1f01864409fb2f86a.jpg\r\n",
      "Completed Image ====> 12. 2407435e25abfd8807a23b2b7ee0edbe--male-faces-book-boyfriends.jpg\r\n",
      "Completed Image ====> 13. male-hair-styles-for-long-narrow-faces-1.jpeg\r\n",
      "Completed Image ====> 14. male_face_lift-200x300.jpg\r\n",
      "Completed Image ====> 15. 2y1ev11.jpg\r\n",
      "Completed Image ====> 16. black-african-man.jpg\r\n",
      "Completed Image ====> 17. baf410418f04393105cb971bf31448d2--brandon-knight-male-faces.jpg\r\n",
      "Completed Image ====> 18. prod-lost-in-space-anniversary-party.jpg\r\n",
      "Completed Image ====> 19. 2441432829_97415c06a3.jpg\r\n",
      "Completed Image ====> 20. 0fbf7a96c3cbd1842479c18f9f62907a--male-model-photos-male-models.jpg\r\n",
      "Completed Image ====> 21. 9db1e2f8d3ae5b69b3911c9c1a30c9b5.jpg\r\n",
      "Completed Image ====> 22. texturingxyz_male12_albedo_grande.jpg\r\n",
      "Completed Image ====> 23. sebastian-stan-high-volume-spiky-hairstyle-for-round-face-by-s_bukley-500x750.jpg\r\n",
      "Completed Image ====> 24. ff979fc66dcb9cfb401cf2d5ccbdf295--golden-eyes-male-faces.jpg\r\n",
      "Completed Image ====> 25. women_20men_20testosterone_20health_20attractiveness.jpg\r\n",
      "Completed Image ====> 26. remove-male-shine-after.jpg\r\n",
      "Completed Image ====> 27. 19124695-a-handsome-male-model-with-the-skin-his-face-peeling-.jpg\r\n",
      "Completed Image ====> 28. male-face-21616185.jpg\r\n",
      "Completed Image ====> 29. male_face_close_up_by_domromnic-d32g8q6.jpg\r\n",
      "Completed Image ====> 30. man-945482_960_720.jpg\r\n",
      "Completed Image ====> 31. texturingxyz_male03_photo_grande.jpg\r\n",
      "Completed Image ====> 32. 7-best-hairstyles-for-men-with-oblong-face-shape.jpg\r\n",
      "Completed Image ====> 33. bradley-cooper-face-long-haired-actor-male-blond-hair-733669.jpg\r\n",
      "Completed Image ====> 34. _91774730_landscape-1476212039-1476197178-covergirl-james-charles-copy-1.jpg\r\n",
      "Completed Image ====> 35. 3519d8a5b21d8b5d91d179367883f8fc.jpg\r\n",
      "Completed Image ====> 36. image.jpg\r\n",
      "Completed Image ====> 37. 271fd1ce00000578-0-image-a-104_1427688066158.jpg\r\n",
      "Completed Image ====> 38. tonerstop.jpg\r\n",
      "Completed Image ====> 39. male_face_sketch_by_oka_toka-d8wmnlb.jpg\r\n",
      "Completed Image ====> 40. hqdefault.jpg\r\n",
      "Completed Image ====> 41. d846a423ce2f9ec6ebd0d1a3795d9646.jpg\r\n",
      "Completed Image ====> 42. male.jpg\r\n",
      "Completed Image ====> 43. male_face_study_by_victter_le_fou-d8pr98g.jpg\r\n",
      "Completed Image ====> 44. 5pt9cwhj-900.jpg\r\n",
      "Completed Image ====> 45. procedure-male-silkwood-medical-sydney.jpg\r\n",
      "Completed Image ====> 46. ej-composite-georgeharryfacev2.jpg\r\n",
      "Completed Image ====> 47. 1280-micheal-ealy-triangle.jpg\r\n",
      "Completed Image ====> 48. prod-idris-elba.jpg\r\n",
      "Completed Image ====> 49. male-model-face-dr-barry-eppley-indianapolis.jpg\r\n",
      "Completed Image ====> 50. nose-reshaping.jpg\r\n",
      "Completed Image ====> 51. 9e4401374853163c7b953abe24ba4ba2--face-reference-drawing-reference.jpg\r\n",
      "Completed Image ====> 52. models-hairstyle.jpg\r\n",
      "Completed Image ====> 53. male-african-face.jpg\r\n",
      "Completed Image ====> 54. male_faces_by_staino.jpg\r\n",
      "Completed Image ====> 55. find-the-right-hairstyle-for-me-hair-styler-app-for-women-face-shape-hairstyle-male-triangle-shaped-face-mens-hairstyles-what-hairstyle-is-right-for-me-687x758.jpg\r\n",
      "Completed Image ====> 56. article-1332688-0c3b041f000005dc-786_634x429.jpg\r\n",
      "Completed Image ====> 57. man-face-skin-care-ageing-800.jpg\r\n",
      "Completed Image ====> 58. male%20androgyne.jpg\r\n",
      "Completed Image ====> 59. smiling-mature-man-picture-id689435274?s=612x612.jpg\r\n",
      "Completed Image ====> 60. prod-okja-new-york-premiere1.jpg\r\n",
      "Completed Image ====> 61. 1368573131_big-male-1.jpg\r\n",
      "Completed Image ====> 62. male_model_front_1nutaxdx6f-largethumb_f097e549.jpg\r\n",
      "Completed Image ====> 63. study__male_face_by_ardariel-d57lf26.jpg\r\n",
      "Completed Image ====> 64. 95339787d31bac1a3a244867939a61cc--male-models-hot-male-model.jpg\r\n",
      "Completed Image ====> 65. masc_121m_rdax_450x600.jpg\r\n",
      "Completed Image ====> 66. image002-2.jpg\r\n",
      "Completed Image ====> 67. newly-fashion-trends-eye-glasses-for-guys.jpg\r\n",
      "Completed Image ====> 68. masc_149m_rdax_450x600.jpg\r\n",
      "Completed Image ====> 69. male-acne-980x653.jpg\r\n",
      "Completed Image ====> 70. man-852762_960_720.jpg\r\n",
      "Completed Image ====> 71. revrhino72frontalafter.jpg\r\n",
      "Completed Image ====> 72. main-qimg-38df44803140d982cde85fe24c102262-c.jpg\r\n",
      "Completed Image ====> 73. basemesh_3dheadscan_chris_bridgewater_011.jpg\r\n",
      "Completed Image ====> 74. 160121-02-069_bw.jpg\r\n",
      "Completed Image ====> 75. house-md-famous-face-male-265639.jpg\r\n",
      "Completed Image ====> 76. brad-pitt-announced-as-th-001.jpg\r\n",
      "Completed Image ====> 77. male_face_lift.jpg\r\n",
      "Completed Image ====> 78. makeup-brand-guy-face-maybelline-manny-gutierrez-10.jpg\r\n",
      "Completed Image ====> 79. human_male_face_study_by_marrilliams.jpg\r\n",
      "Completed Image ====> 80. johnny-depp-headshot.jpg\r\n",
      "Completed Image ====> 81. chin-implants.jpg\r\n",
      "Completed Image ====> 82. 5aafb1e65e0ecedd284576666579ca62.jpg\r\n",
      "Completed Image ====> 83. 2e3b8fad00000578-3309048-jake_after_he_has_applied_his_contouring_technique-a-21_1447003307857.jpg\r\n",
      "Completed Image ====> 84. goodwp.com_26686.jpg\r\n",
      "Completed Image ====> 85. mens-diamond-face-shape-haircut-e1406568059529.jpg\r\n",
      "Completed Image ====> 86. touseled_wavy_messy_spring_summer_2015_long_top_style_hairstyle_mens_side_1.jpg\r\n",
      "Completed Image ====> 87. become-5.jpg\r\n",
      "Completed Image ====> 88. man-2785071_960_720.jpg\r\n",
      "Completed Image ====> 89. close-up-of-serious-mans-face-picture-id129300764?s=612x612.jpg\r\n",
      "Completed Image ====> 90. male_face_by_nemanja_s-d6qledk.jpg\r\n",
      "Completed Image ====> 91. %ec%9d%b4%ec%a7%84%ec%98%81%ed%94%84%eb%a1%9c%ed%95%84600_900_3.jpg\r\n",
      "Completed Image ====> 92. tumblr_mu703nfzov1s5mugdo1_500.jpg\r\n",
      "Completed Image ====> 93. master.jpg\r\n",
      "Completed Image ====> 94. am_face_lipo_3.jpg\r\n",
      "Completed Image ====> 95. 46413-1-1338238974.jpg\r\n",
      "Completed Image ====> 96. 171122131418-lumpen-agency-6-custom-54.jpg\r\n",
      "Completed Image ====> 97. male_face_close_up_stages_by_domromnic-d32gbp9.jpg\r\n",
      "Completed Image ====> 98. masc_average_male_rdax_450x600.jpg\r\n",
      "Completed Image ====> 99. elle-ericreads-fenty-beauty-before-after-1521217733.jpg\r\n",
      "Completed Image ====> 100. classic-wet-look-246x300.jpg\r\n",
      "Completed Image ====> 101. 5334771.jpg\r\n",
      "Completed Image ====> 102. portrait-of-man-beside-old-version-of-himself-picture-id170955887?s=612x612.jpg\r\n",
      "Completed Image ====> 103. maxresdefault.jpg\r\n",
      "Completed Image ====> 104. uv_nu1k1n11iji_hfahxxdl72ejkfbmt4t8yenimkbvvk0ktmf0xjctabnaljim9.jpg\r\n",
      "Completed Image ====> 105. makeup-brand-guy-face-maybelline-manny-gutierrez-8.jpg\r\n",
      "Completed Image ====> 106. main-qimg-b8cf81a6fb2afc54c200c90db5358a02-c.jpg\r\n",
      "Completed Image ====> 107. jordan-stephens-hp-gq-7mar18_b.jpg\r\n",
      "Completed Image ====> 108. shutterstock_29970076.jpg\r\n",
      "Completed Image ====> 109. tumblr_mhrthlblj31qfcv5ro1_1280.jpg\r\n",
      "Completed Image ====> 110. ij6vzjv.jpg\r\n",
      "Completed Image ====> 111. 141.jpg\r\n",
      "Completed Image ====> 112. teaserbox_2456476017.jpg\r\n",
      "Completed Image ====> 113. short-haircuts-for-oval-faced-men.jpg\r\n",
      "Completed Image ====> 114. 57636dfb52bcd029008c9cda-750-750.jpg\r\n",
      "Completed Image ====> 115. man.jpg\r\n",
      "Completed Image ====> 116. _93292143_instagram2.jpg\r\n",
      "Completed Image ====> 117. face_exercises_for_men.jpg\r\n",
      "Completed Image ====> 118. 03683d5d8ee6b8af08e5252392902939--face-reference-male-faces.jpg\r\n",
      "Completed Image ====> 119. men-hairstyle-for-oval-faces.jpg\r\n",
      "Completed Image ====> 120. facial-care-for-men.jpeg\r\n",
      "Completed Image ====> 121. article-2521921-1a0694b200000578-970_964x511.jpg\r\n",
      "Completed Image ====> 122. lucas-mcculley-main-today-180226_18c190b8200465d5abf5e062657fb279.focal-760x380.jpg\r\n",
      "Completed Image ====> 123. portrait-of-a-mature-man-picture-id687783547?s=612x612.jpg\r\n",
      "Completed Image ====> 124. screen_shot_2018_02_13_at_9.22.43_am.png\r\n",
      "Completed Image ====> 125. 717309-sexy-handsome-male-model-face-and-chest.jpg\r\n",
      "Completed Image ====> 126. article-1380265-0bc3b01200000578-301_1024x615_large.jpg\r\n",
      "Completed Image ====> 127. disapprove-boy-1-513x718.jpg\r\n",
      "Completed Image ====> 128. stunning-oval-face-hairstyles-male-fade-haircut-pic-of-for-ideas-and-inspiration.jpg\r\n",
      "Completed Image ====> 129. tumblr_mml2p4cewd1sqzyflo1_500.jpg\r\n",
      "Completed Image ====> 130. best-oval-face-haircuts.jpg\r\n",
      "Completed Image ====> 131. mg_5863.jpg\r\n",
      "Completed Image ====> 132. 1460978894-29.jpg\r\n",
      "Completed Image ====> 133. harrynew1.jpg\r\n",
      "Completed Image ====> 134. model-blog-03.jpg\r\n",
      "Completed Image ====> 135. male-face-5.jpg\r\n",
      "Completed Image ====> 136. kieran_price__n_front_n8fzd0zsgw-largethumb_92f63555.jpg\r\n",
      "Completed Image ====> 137. http%3a%2f%2fcdn.cnn.com%2fcnnnext%2fdam%2fassets%2f171122131323-lumpen-agency-5.jpg\r\n",
      "Completed Image ====> 138. 500_f_143880671_uynm2ze8j4hrxrtnsvhhq2xze9qrwm6h.jpg\r\n",
      "Completed Image ====> 139. covergirl-1.jpg\r\n",
      "Completed Image ====> 140. ht-cv-er-161101_12x5_992.jpg\r\n",
      "Completed Image ====> 141. 1a004a38d82bf7a0642796292db1cd10.jpg\r\n",
      "Completed Image ====> 142. attachment.php\r\n",
      "Completed Image ====> 143. 58838.jpeg\r\n",
      "Completed Image ====> 144. forensicteam.jpg\r\n",
      "Completed Image ====> 145. 1.jpg\r\n",
      "Completed Image ====> 146. haircuts-for-round-faces-men.jpg\r\n",
      "Completed Image ====> 147. short-hair-with-spikes-221x300.jpg\r\n",
      "Completed Image ====> 148. maxresdefault.jpg\r\n",
      "Completed Image ====> 149. tyson_1.jpg\r\n",
      "Completed Image ====> 150. ahr0cdovl3d3dy5saxzlc2npzw5jzs5jb20vaw1hz2vzl2kvmdawlza5ny82mdavb3jpz2luywwvc2ljay1tyw4uanbn.jpg\r\n",
      "Completed Image ====> 151. main-qimg-283678297cf92ad6a7cdc11f89e6c617.jpg\r\n",
      "Completed Image ====> 152. 9ae823539b435b1368c9fe4861422bbd08aabe01_hq.jpg\r\n",
      "Completed Image ====> 153. urbanlite_men_teaser.jpg\r\n",
      "Completed Image ====> 154. headshot-scarf.jpg\r\n",
      "Completed Image ====> 155. man-shaving-537x390.jpg\r\n",
      "Completed Image ====> 156. m_men02_0101.jpg\r\n",
      "Completed Image ====> 157. american-crew-201202.jpg\r\n",
      "Completed Image ====> 158. beard-tgj.03.jpg\r\n",
      "Completed Image ====> 159. 7v45zqp.jpg\r\n",
      "Completed Image ====> 160. hairstyles-for-different-face-shapes-male-hairstyles-for-different-face-shapes-for-male-which-hairstyle-suits-your-face-hair-for-face-shape-male-970x545.jpg\r\n",
      "Completed Image ====> 161. mens-hairstyle-round-shape-example-500x344.jpg\r\n",
      "Completed Image ====> 162. forensically-reconstructed-head-with-kind-permission-of-rab-wilson.jpg\r\n",
      "Completed Image ====> 163. the-perfect-haircut-for-your-head-shape-1096168-twobyone.jpg\r\n",
      "Completed Image ====> 164. photo.jpg\r\n",
      "Completed Image ====> 165. 1200px-bellspalsy.jpg\r\n",
      "Completed Image ====> 166. collins-pennie-bio-640x361.jpg\r\n",
      "Completed Image ====> 167. dunkirk-new-york-premiere.jpg\r\n",
      "Completed Image ====> 168. mens-hairstyles-for-long-faces.jpg\r\n",
      "Completed Image ====> 169. avopix-62329042.jpg\r\n",
      "Completed Image ====> 170. black-men-haircuts-line-up-haircut.jpg\r\n",
      "Completed Image ====> 171. justin-timberlake-u227?w=650&q=50&fm=jpg&fit=crop&crop=faces.jpg\r\n",
      "Completed Image ====> 172. main-qimg-272df88b27e1bc5cb18f00a7b8de6011-c.jpg\r\n",
      "Completed Image ====> 173. maxresdefault.jpg\r\n",
      "Completed Image ====> 174. 1.jpg\r\n",
      "Completed Image ====> 175. 1rcioxdkmhed0po3wboo_gesichtermix1.jpg\r\n",
      "Completed Image ====> 176. 43.jpg\r\n",
      "Completed Image ====> 177. induction-male-haircut.jpg\r\n",
      "Completed Image ====> 178. dark-deep-side-part.jpg\r\n",
      "Completed Image ====> 179. symmetry3.jpg\r\n",
      "Completed Image ====> 180. 14533547_1786786128265687_3674148087103750144_n.jpg\r\n",
      "Completed Image ====> 181. katz-photo-white-background-2013.jpg\r\n",
      "Completed Image ====> 182. 1-20021366nas_0490_t_resized.jpg\r\n",
      "Completed Image ====> 183. 8476778-1x1-940x940.jpg\r\n",
      "Completed Image ====> 184. 238e74f200000578-0-image-10_1417106670658.jpg\r\n",
      "Completed Image ====> 185. ap17045844169345-c.jpg\r\n",
      "Completed Image ====> 186. hqdefault.jpg\r\n",
      "Completed Image ====> 187. goatee-styles-for-different-face-shapes.jpg\r\n",
      "Completed Image ====> 188. choose-hairstyle-for-my-face-male-hairstyles-by-unixcode-and-also-famous-hair-coloring.jpg\r\n",
      "Completed Image ====> 189. men-eyeglass-frames-eyeglass-frames-for-oval-face-shape.jpg\r\n",
      "Completed Image ====> 190. 31414963364_08c19c5868_o.jpg\r\n",
      "Completed Image ====> 191. 31277404.jpg\r\n",
      "Completed Image ====> 192. aid2853726-v4-728px-be-one-of-the-best-looking-guys-in-school-step-3bullet2.jpg\r\n",
      "Completed Image ====> 193. how-to-determine-your-face-shape-round-face.jpg\r\n",
      "Completed Image ====> 194. 1eafa5e4ff780d59fc33321760d6d29e60394436_hq.jpg\r\n",
      "Completed Image ====> 195. 595f7e7e2100003400fc5c25.jpeg\r\n",
      "Completed Image ====> 196. short-hairstyles-for-round-faces-men.jpg\r\n",
      "Completed Image ====> 197. 1118full-clement-chabernaud-588x826.jpg\r\n",
      "Completed Image ====> 198. jason_goldman.jpg\r\n",
      "Completed Image ====> 199. 3d-male-head-half-profile_male-body-anatomy-study-character-artis-on-human-anatomy-fundamentals-advanced-facial-features.jpg\r\n",
      "Completed Image ====> 200. ed-norton-breil.jpg\r\n",
      "Completed Image ====> 201. 39994806031_f7e8d5a555_b.jpg\r\n",
      "Completed Image ====> 202. beckham-hair-trends-for-men-beckham-and-male-face-david-haircuts-choice-image-haircut-ideas-women-man-david-undercut-hairstyle-men-david.jpg\r\n",
      "Completed Image ====> 203. 6318422062_d6c436f769_z.jpg\r\n",
      "Completed Image ====> 204. cq5dam.web.1280.1280.jpeg\r\n",
      "Completed Image ====> 205. male-face-young-man-part-of-face-over-white-background-stock-images_csp0987515.jpg\r\n",
      "Completed Image ====> 206. 5488006-2of6-200x266.jpg\r\n",
      "Completed Image ====> 207. muscle-structure-of-male-face-anatomy-of-human-face-and-neck-muscles-anatomy-references-for.jpg\r\n",
      "Completed Image ====> 208. d-male-face-muscles-anatomy-side-views-illustration-71088461.jpg\r\n",
      "Completed Image ====> 209. 635-ges147_lg.jpg\r\n",
      "Completed Image ====> 210. happy-smiling-joy-man-satisfied-positive-earring-man-male-face-portrait-1560x1040.jpg\r\n",
      "Completed Image ====> 211. drawn-scar-male-face-10.jpg\r\n",
      "Completed Image ====> 212. front.jpg\r\n",
      "Completed Image ====> 213. side-pose-of-male-face-stock-image-1135870.jpg\r\n",
      "Completed Image ====> 214. closeup-of-male-face-with-sad-eyes-dg8g8t.jpg\r\n",
      "Completed Image ====> 215. 58149_10201045591640657_800376444_n.jpg\r\n",
      "Completed Image ====> 216. depositphotos_122621564-stock-photo-male-face-with-focus-on.jpg\r\n",
      "Completed Image ====> 217. maxresdefault.jpg\r\n",
      "Completed Image ====> 218. videoblocks-a-fixed-view-of-a-man-from-a-close-distance-male-eyes-look-at-the-same-point-half-turned-portrate-male-face-extreme-close-up_bzxsfn-8xg_thumbnail-small01.jpg\r\n",
      "Completed Image ====> 219. examples-of-the-morphed-happy-male-face-stimuli-and-angry-female-face-stimuli-ranging_q320.jpg\r\n",
      "Completed Image ====> 220. cq5dam.web.1280.1280.jpeg\r\n",
      "Completed Image ====> 221. fae-330x447.jpg\r\n",
      "Completed Image ====> 222. person-804816_960_720.jpg\r\n",
      "Completed Image ====> 223. cool-face-drawings-boy-drawn-photos-male-face-pencil-and-in-color-drawn-photos-male-face.jpg\r\n",
      "Completed Image ====> 224. muscle-structure-of-male-face-tag-human-anatomy-muscles-of-the-face-images-archives-human.jpg\r\n",
      "Completed Image ====> 225. young-man-avatar-character-male-face-portrait-vector-17716688.jpg\r\n",
      "Completed Image ====> 226. marcrogoff-1.jpg\r\n",
      "Completed Image ====> 227. wooden-shaving-brush-bowl-beard-razor-shave-cream-soap-cup-for-shave-brush-male-face-cleaning.jpg\r\n",
      "Completed Image ====> 228. male-face-muscles-anatomy.jpg\r\n",
      "Completed Image ====> 229. close-up-of-male-face-smiling_e1gv9jce4__s0000.jpg\r\n",
      "Completed Image ====> 230. close-up-of-adult-male-face-covered-in-dust-picture-id113173972.jpg\r\n",
      "Completed Image ====> 231. cam00333.jpg\r\n",
      "Completed Image ====> 232. new-york-male-face-lift-surgery.jpg\r\n",
      "Completed Image ====> 233. lasik-contact-lens-eye-diseases-concept-close-up-of-male-face-eyes-kfp9y8.jpg\r\n",
      "Completed Image ====> 234. depositphotos_166282328-stock-photo-male-face-with-scared-eyes.jpg\r\n",
      "Completed Image ====> 235. maxresdefault.jpg\r\n",
      "Completed Image ====> 236. male-face-profile-drawing-20.jpg\r\n",
      "Completed Image ====> 237. 1c1b72acd564b2e3bbbba16c6ee7c2a7_male-profile-drawing-at-getdrawingscom-free-for-personal-use-male-face-profile-drawing_320-389.jpeg\r\n",
      "Completed Image ====> 238. perfect_male_face__3047936c.jpg\r\n",
      "Completed Image ====> 239. blackmaleface.jpg\r\n",
      "Completed Image ====> 240. hqdefault.jpg\r\n",
      "Completed Image ====> 241. tumblr_p7py8iahhv1xn4mu2o2_1280.jpg\r\n",
      "Completed Image ====> 242. drawing-how-to-draw-a-male-face-tutorial-together-with-how-to-drawing-how-to-draw-a-male-face-tutorial-together-with-how-to-draw-a-male-face-easy-with-how-to-draw-a-male-face-youtube-how-to-draw-a-male-face.jpg\r\n",
      "Completed Image ====> 243. sweet-revolutions-by-domy-male-face-torso-and-arms-moulds-set-of-2-p6989-8160_image.jpg\r\n",
      "Completed Image ====> 244. hand-applying-makeup-on-man-side-view-of-male-face-visagist-working-with-a-model-actor-before-shooting_htsec-nrx_thumbnail-small01.jpg\r\n",
      "Completed Image ====> 245. drawn-portrait-male-face-11.jpg\r\n",
      "Completed Image ====> 246. handsome-male-face-stock-image_csp53422162.jpg\r\n",
      "Completed Image ====> 247. pojfetgsg0.jpg\r\n",
      "Completed Image ====> 248. draw-differences-between-male-and-female-faces.1280x600.jpg\r\n",
      "Completed Image ====> 249. male-face-avatar-logo-template-pictogram-vector-11333827.jpg\r\n",
      "Completed Image ====> 250. httpswwwgooglecomsearchqnoses-ref-anatomy-face-httpswwwgooglecomsearchqnoses-reference-imagesface.jpg\r\n",
      "Completed Image ====> 251. 01.jpg\r\n",
      "Completed Image ====> 252. 2220.jpg\r\n",
      "Completed Image ====> 253. pencil-sketches-of-male-pyrite-club-images-male-face-sketches-pencil.jpg\r\n",
      "Completed Image ====> 254. 956963e16d33eac961b89ef7d6612e2e.jpg\r\n",
      "Completed Image ====> 255. pin-by-paul-phillips-on-interesting-facesexpressions-pinterest-human-faces-human-head-face-reference-reference-images-character-reference-male-face-3d-face-interesting-faces-face-shapes.jpg\r\n",
      "Completed Image ====> 256. happy-male-face-smile-character-funny-vector-15696173.jpg\r\n",
      "Completed Image ====> 257. 6aaf80d338906791c44dcb3330086641_profile-sketch-by-moonshadow111-on-deviantart-male-face-profile-drawing_737-1024.jpeg\r\n",
      "Completed Image ====> 258. pexels-photo-859265.jpeg\r\n",
      "Completed Image ====> 259. mad-mean-big-white-male-face-mouth-open-e1481313359572.jpg\r\n",
      "Completed Image ====> 260. fb_img_1485810744604.jpg\r\n",
      "Completed Image ====> 261. vector-illustration-of-handsome-brunet-male-face-positive-face-vector-id933411290.jpg\r\n",
      "Completed Image ====> 262. male-face-paint-ideas-best-25-mens-halloween-makeup-ideas-on-pinterest-men-skeleton.jpg\r\n",
      "Completed Image ====> 263. image-people-guy-man-pop-male-face-museum-2326484.jpg\r\n",
      "Completed Image ====> 264. 49716-1-1389537808.jpg\r\n",
      "Completed Image ====> 265. male-face-baby-wonder-1358725.jpg\r\n",
      "Completed Image ====> 266. male-face-with-spectacles-on-eyesight-stock-photo_csp48290545.jpg\r\n",
      "Completed Image ====> 267. hqdefault.jpg\r\n",
      "Completed Image ====> 268. lateral-view-of-the-male-face-clip-art__3d103012.jpg\r\n",
      "Completed Image ====> 269. 1947328-male-face-with-eyes-closed-women-s-hands.jpg\r\n",
      "Completed Image ====> 270. 59b25093n3224888d.jpg\r\n",
      "Completed Image ====> 271. male-face-picture_csp0010641.jpg\r\n",
      "Completed Image ====> 272. 116241059-288-k288073.jpg\r\n",
      "Completed Image ====> 273. close-up-of-a-male-face-picture-id75403589.jpg\r\n",
      "Completed Image ====> 274. ff11-humem3.jpg\r\n",
      "Completed Image ====> 275. carved-wood-face-indian-turban-2.jpg\r\n",
      "Completed Image ====> 276. triangular-timberlake-56a60ffb3df78cf7728b28d8.jpg\r\n",
      "Completed Image ====> 277. solid-black-ink-lines-male-face-tattoo-ideas.jpg\r\n",
      "Completed Image ====> 278. facial-treatment-for-men-in-beauty-clinic-close-up-of-male-face-with-m7kct3.jpg\r\n",
      "Completed Image ====> 279. 4764497-male-face-through-the-hole-in-paper.jpg\r\n",
      "Completed Image ====> 280. 14bcbee52d312b9f688807281747.jpg\r\n",
      "Completed Image ====> 281. x-ray-male-face-3d-model-rigged-ma-mb-mel.jpg\r\n",
      "URLError on an image...trying next one... Error: <urlopen error [SSL: CERTIFICATE_VERIFY_FAILED] certificate verify failed (_ssl.c:833)>\r\n",
      "Completed Image ====> 282. hip-hop-jabbawockeez-blank-male-face-mask.jpg\r\n",
      "Completed Image ====> 283. lion-male-face-roaring-men-s-premium-t-shirt.jpg\r\n",
      "Completed Image ====> 284. close-up-of-a-male-face-picture-id75403723?s=170667a.jpg\r\n",
      "Completed Image ====> 285. 5-asian-male-face-morphs-for.jpg\r\n",
      "Completed Image ====> 286. wide-bowl-rim-men-s-shaving-bowl-mug-stainless-steel-barber-male-face-cleaning-soap-mug.jpg\r\n",
      "Completed Image ====> 287. male-face-detail-of-a-stele-of-saturn-roman-city-of-timgad-algeria-picture-id475592081.jpg\r\n",
      "Completed Image ====> 288. male-youth.jpg\r\n",
      "Completed Image ====> 289. drawn-portrait-male-face-17.jpg\r\n",
      "Completed Image ====> 290. closeup-of-hands-of-barber-pressing-hot-towel-on-male-face-to-soften-up-his-beard-before-shaving_rmvmkseo__s0000.jpg\r\n",
      "Completed Image ====> 291. p576595771-11.jpg\r\n",
      "Completed Image ====> 292. man-person-beard-young-man-deep-look-male-face-man-profile-835356.jpg\r\n",
      "Completed Image ====> 293. how-rhinoplasty-can-improve-the-male-face.jpg\r\n",
      "Completed Image ====> 294. taos-halloween-horrible-scary-disgusted-deformed-old-male-face-mask-helloween-cosplay-party-costume-dress-up.jpg\r\n",
      "Completed Image ====> 295. male_face-dribbble.jpg\r\n",
      "Completed Image ====> 296. male-face-contouring_image-51.jpg\r\n",
      "Completed Image ====> 297. george-clooney-is-the-most-attractive-man-according-to-this-david-beckham-is-the-fifth-most-handsome-man.jpg\r\n",
      "Completed Image ====> 298. male-face-with-cucumber-treatment-picture-id157379705.jpg\r\n",
      "Completed Image ====> 299. male-face-2.jpg\r\n",
      "Completed Image ====> 300. basemesh_3d_jacques_07.jpg\r\n",
      "Completed Image ====> 301. videoblocks-sleeping-adult-man-open-his-eyes-extreme-close-up-view-human-eyes-fast-open-up-rem-rapid-eye-movement-see-dreams-sleep-and-wake-up-rapidly-caucasian-male-face-close-open-eyes-ophthalmology_rsjowh_xz_thumbnail-small01.jpg\r\n",
      "Completed Image ====> 302. male_face-dribbble2.jpg\r\n",
      "Completed Image ====> 303. lasik-contact-lens-eye-diseases-concept-close-up-of-male-face-eyes-m8h7hr.jpg\r\n",
      "Completed Image ====> 304. eyebrow-face-eye-part-macro-male-1951415.jpg\r\n",
      "Completed Image ====> 305. male-face-template-to-have-proper-hair-on-custom-golden-ratio.jpg\r\n",
      "Completed Image ====> 306. 1318526.jpg\r\n",
      "Completed Image ====> 307. maxresdefault.jpg\r\n",
      "Completed Image ====> 308. how-to-draw-realistic-faces-male.jpg\r\n",
      "Completed Image ====> 309. portrait-931729_960_720.jpg\r\n",
      "Completed Image ====> 310. how-to-sketch-a-face-how-to-draw-hair-male-sharenoesis-art-how-to-sketch-a-face-how-to-draw-hair-male-sharenoesis.jpg\r\n",
      "Completed Image ====> 311. learn-how-to-draw-a-face-in-8-easy-steps-beginners-rapidfireart-new-simple-method-to-draw-malefemale-faces.jpg\r\n",
      "Completed Image ====> 312. male-face-bandage-carton-hole-1131477.jpg\r\n",
      "HTTPError on an image...trying next one... Error: HTTP Error 403: Forbidden\r\n",
      "Completed Image ====> 313. s-l300.jpg\r\n",
      "Completed Image ====> 314. young-male-face-texture-fallout4-1.jpg\r\n",
      "Completed Image ====> 315. person-1111703_960_720.jpg\r\n",
      "Completed Image ====> 316. full-frontal-view-of-young-male-face-stock-illustration__pdb04006.jpg\r\n",
      "Completed Image ====> 317. male-face-drawing-easy-25-gorgeous-drawings-of-men-ideas-on-pinterest-shading-drawing.jpg\r\n",
      "Completed Image ====> 318. 19211078-male-face-profile-close-up-pop-art.jpg\r\n",
      "Completed Image ====> 319. awesome_male_face_shot_man_nice_nordic_model-xrn.jpg\r\n",
      "Completed Image ====> 320. young-male-face-expression-set-illustration_csp47382627.jpg\r\n",
      "Completed Image ====> 321. depressed-young-man-remembering-break-up-sad-male-face-problems-nightlife_syltryrwhg_thumbnail-small01.jpg\r\n",
      "Completed Image ====> 322. a_male_face_with_head_bowed%2c_expressing_veneration._engravin_wellcome_v0009348.jpg\r\n",
      "Completed Image ====> 323. male-face-drawing-easy-how-to-draw-a-face-of-a-man-pen-portrait-youtube.jpg\r\n",
      "Completed Image ====> 324. 101216-news-james-charles-new-male-face-of-covergirl.jpg\r\n",
      "Completed Image ====> 325. g3mfbmk1_pop02-daz3d.jpg\r\n",
      "Completed Image ====> 326. double-exposure-photo-concept-with-male-face-profile-and-dark-green-eh35da.jpg\r\n",
      "Completed Image ====> 327. male-face-shapes.jpg\r\n",
      "Completed Image ====> 328. handsome-male-face-make-up-and-eye-shadow_rxppnh5b__s0000.jpg\r\n",
      "Completed Image ====> 329. 300px-fallout4maleface6.jpg\r\n",
      "Completed Image ====> 330. boy-2407597_960_720.jpg\r\n",
      "Completed Image ====> 331. male-face.jpg\r\n",
      "Completed Image ====> 332. carved-wood-face-indian-turban-front.jpg\r\n",
      "Completed Image ====> 333. cwta3ua2-900.jpg\r\n",
      "Completed Image ====> 334. 1170x600xmale_rejouvination.jpg\r\n",
      "Completed Image ====> 335. young-man-male-face-portrait-spring-teen-boy-2301660.jpg\r\n",
      "Completed Image ====> 336. 0exne6g.jpg\r\n",
      "Completed Image ====> 337. sunglasses-on-male-face-side-view-picture-id927605146.jpg\r\n",
      "Completed Image ====> 338. s-l640.jpg\r\n",
      "Completed Image ====> 339. vector-illustration-of-handsome-brunet-male-face-positive-face-vector-id808679092.jpg\r\n",
      "Completed Image ====> 340. s-l300.jpg\r\n",
      "Completed Image ====> 341. person-802502_960_720.jpg\r\n",
      "Completed Image ====> 342. man-avatar-front-view-male-face-silhouette-vector-16270346.jpg\r\n",
      "Completed Image ====> 343. 38301-2-1373737198.jpg\r\n",
      "Completed Image ====> 344. htb1fay0qxxxxxcvxpxxq6xxfxxxa.jpg\r\n",
      "Completed Image ====> 345. canva-male-face-mabtbubfsmg.jpg\r\n",
      "Completed Image ====> 346. male-face-muscles-anatomy-drawing_csp35340204.jpg\r\n",
      "Completed Image ====> 347. maxresdefault.jpg\r\n",
      "Completed Image ====> 348. male-face-anatomy-stock-illustrations_csp8944977.jpg\r\n",
      "Completed Image ====> 349. customizable-male-face_23-2147527846.jpg\r\n",
      "Completed Image ====> 350. 1pc-men-s-shaving-razor-stand-holder-male-face-hair-shaver-stands-aluminum-alloy-safety-razor.jpg\r\n",
      "Completed Image ====> 351. younger-male-face-texture-2.jpg\r\n",
      "Completed Image ====> 352. 55559-3-1404385254.jpg\r\n",
      "HTTPError on an image...trying next one... Error: HTTP Error 403: Forbidden\r\n",
      "Completed Image ====> 353. male-face-with-side-part-hairstyle-in-colorful-silhouette-vector-id882337458.jpg\r\n",
      "Completed Image ====> 354. 2230-a374b-picture_photo-new-male-face-for-l-oreal-paris-men-expert.jpg\r\n",
      "Completed Image ====> 355. hip-hop-jabbawockeez-blank-male-face-mask.jpg\r\n",
      "Completed Image ====> 356. 18898432-illustration-with-an-african-male-face-view-of-human-head-stipple-effect-vector-art-dot-design-pointillism-style-face-scanning.jpg\r\n",
      "Completed Image ====> 357. 6bbd6e07-3a64-4fec-815a-89c5f764aa41.jpg\r\n",
      "Completed Image ====> 358. drawn-scar-male-face-17.jpg\r\n",
      "Completed Image ====> 359. a-rendered-right-front-and-left-average-control-male-face-visual-comparison-to-female_q320.jpg\r\n",
      "Completed Image ====> 360. people-person-portrait-male-face-student-man-3309614.jpg\r\n",
      "Completed Image ====> 361. close-up-of-microcurrent-treatment-male-face-cosmetology-procedure-k26ryy.jpg\r\n",
      "Completed Image ====> 362. 55559-2-1404385254.jpg\r\n",
      "Completed Image ====> 363. male-face-monochromatycznosc-people-portrait-one-3358261.jpg\r\n",
      "HTTPError on an image...trying next one... Error: HTTP Error 403: Forbidden\r\n",
      "Completed Image ====> 364. 1034412_stock-photo-male-face.jpg\r\n",
      "Completed Image ====> 365. male-face-gestures-stock-video_csp52999962.jpg\r\n",
      "Completed Image ====> 366. sketch-of-a-face-sketch-2015-male-face-2-t0ofie-on-deviantart-sketch-of-a-face-sketch-2015-male-face-2-t0ofie-on-deviantart.jpg\r\n",
      "Completed Image ====> 367. 3d-silhouette-of-a-male-face-with-a-brain-inside-ctfedj.jpg\r\n",
      "HTTPError on an image...trying next one... Error: HTTP Error 403: Forbidden\r\n",
      "Completed Image ====> 368. 49716-1-1389545372.jpg\r\n",
      "Completed Image ====> 369. male-face-with-stubble-beard-and-side-parted-hairstyle-in-colorful-vector-id882337298.jpg\r\n",
      "Completed Image ====> 370. nilgai_or_blue_bull_%28boselaphus_tragocamelus%29_male_face_from_keoladeo_national_park_jeg3295.jpg\r\n",
      "Completed Image ====> 371. 996c6b1fcbadf2d3bcc80f6e7b276eec2aebc2ed.jpg\r\n",
      "Completed Image ====> 372. drawn-scar-male-face-9.jpg\r\n",
      "Completed Image ====> 373. s-l300.jpg\r\n",
      "Completed Image ====> 374. man-avatar-front-view-male-face-silhouette-vector-id690813834.jpg\r\n",
      "Completed Image ====> 375. square-crop-portrait-of-half-lit-male-face-picture-id98562147.jpg\r\n",
      "Completed Image ====> 376. badger-hair-shaving-brush-chrome-plated-handle-male-face-beard-shaving-brush-cleaning-care-men-s.jpg\r\n",
      "Completed Image ====> 377. 1-pc-stainless-steel-shaving-bowl-barber-beard-razor-cup-for-shave-brush-male-face-cleaning.jpg\r\n",
      "Completed Image ====> 378. 500_f_201461797_dvkgxafud9xihpt9jxszt6pzm7kpctcf.jpg\r\n",
      "Completed Image ====> 379. male-face-with-high-fade-haircut-and-stubble-beard-in-colorful-vector-id882337858.jpg\r\n",
      "Completed Image ====> 380. texturingxyz_male02_contactsheet_grande.jpg\r\n",
      "Completed Image ====> 381. hip-hop-jabbawockeez-blank-male-face-mask.jpg\r\n",
      "Completed Image ====> 382. wooden-shaving-bowl-large-capacity-barber-male-face-beard-cleaning-soap-bowl-for-men-s-shaving.jpg\r\n",
      "Completed Image ====> 383. 91836350-352-k846785.jpg\r\n",
      "Completed Image ====> 384. 4649474-male-face-through-the-hole-in-paper.jpg\r\n",
      "Completed Image ====> 385. vector-illustration-of-handsome-brunet-male-face-positive-face-vector-id844120412.jpg\r\n",
      "Completed Image ====> 386. 47761368-close-up-of-a-male-face-with-beard-showing-tongue.jpg\r\n",
      "Completed Image ====> 387. 5488006-1of6-200x266.jpg\r\n",
      "Completed Image ====> 388. maxresdefault.jpg\r\n",
      "Completed Image ====> 389. 631f52cb90ce02a9f93901bf3b1c68f4_draw-a-face-online-32-best-how-to-draw-a-male-and-female-face-male-face-drawing-reference_604-500.jpeg\r\n",
      "Completed Image ====> 390. when-she-sails-11x14-colored-pencil-male-face-by-veronica-winters.jpg\r\n",
      "Completed Image ====> 391. f12x486.jpg\r\n",
      "Completed Image ====> 392. man-405478_960_720.jpg\r\n",
      "Completed Image ====> 393. crazy-male-face.jpg\r\n",
      "Completed Image ====> 394. bjfg9kb9v8rfxkx9.jpg\r\n",
      "Completed Image ====> 395. handsome-person-young-man-caucasian-guy-male-face-1272106.jpg\r\n",
      "Completed Image ====> 396. pencil-drawing-for-male-face-pencil-drawing-for-male-face-wallpapers-beautiful-men-face-drawing.jpg\r\n",
      "Completed Image ====> 397. a125ceb2aec433f7564968b85e44dec1.jpg\r\n",
      "Completed Image ====> 398. man-stress-male-face-1024x683.jpg\r\n",
      "Completed Image ====> 399. latest?cb=20120411203242.jpg\r\n",
      "Completed Image ====> 400. 28347159-male-face-makeup-art.jpg\r\n",
      "Completed Image ====> 401. img_0245.jpg\r\n",
      "Completed Image ====> 402. 5f44ae3075d868ec55ed7d5d040064626594b87f.jpg\r\n",
      "Completed Image ====> 403. stainless-steel-men-s-shaving-bowl-mug-wide-bowl-rim-barber-male-face-cleaning-soap-mug.jpg\r\n",
      "Completed Image ====> 404. stainless-steel-shaving-bowl-male-face-cleaning-soap-mug-tool-barber-beard-razor-cup-men-s.jpg\r\n",
      "Completed Image ====> 405. man-avatar-profile-view-male-face-silhouette-vector-16270338.jpg\r\n",
      "HTTPError on an image...trying next one... Error: HTTP Error 403: Forbidden\r\n",
      "Completed Image ====> 406. 55559-4-1404385255.jpg\r\n",
      "Completed Image ====> 407. april-brown-male-face-infected.jpg\r\n",
      "Completed Image ====> 408. fat-winking-male-face-man-head-download-royalty-free-vector-file-eps-382605.jpg\r\n",
      "Completed Image ====> 409. w5306-1-cebe-w0wz.jpg\r\n",
      "Completed Image ====> 410. quartz-electronic-watch-old-classic-old-male-face-watches-digital-watch-list-shanghai-diamond-ladies-watch.jpg\r\n",
      "Completed Image ====> 411. 112807830-352-k122569.jpg\r\n",
      "Completed Image ====> 412. 6037-1-1241119321.jpg\r\n",
      "Completed Image ====> 413. maleface-01.jpg\r\n",
      "Completed Image ====> 414. collage3_wlovvj.jpg\r\n",
      "Completed Image ====> 415. gorilla_male_face_2.jpg\r\n",
      "Completed Image ====> 416. male%20facelift%20patient%203%20before%20and%20after.jpg\r\n",
      "Completed Image ====> 417. human-male-face-made-of-several-pictures__k6655638.jpg\r\n",
      "Completed Image ====> 418. tga-9715-1-128-1_10.jpg\r\n",
      "Completed Image ====> 419. crossed-skeleton-keys-male-face-tattoos.jpg\r\n",
      "Completed Image ====> 420. image.php\r\n",
      "Completed Image ====> 421. graphic-content-how-to-draw-mellowhigh-in-8-steps-myspace.jpg\r\n",
      "Completed Image ====> 422. male-face-stress-balls-image.jpg\r\n",
      "IOError on an image...trying next one... Error: [Errno 36] File name too long: 'data//Male_face/423. secondlife-sl-secondlifemarketplace-secondlifemodel-male-malemodel-man-maleface-model-mesh-men-modern-meztiso-menultd-m-photography-photoeffects-professionalphotographer-poses-photo-philipines-philippines-pilipinas-power-highdefinitionphoto-handsome-highdefinition-hair-headshot-663250.jpg'\r\n",
      "Completed Image ====> 423. male-face-topper-directions.jpg\r\n",
      "Completed Image ====> 424. s-l300.jpg\r\n",
      "Completed Image ====> 425. 500_f_182964716_gatyou1nwfhyycszqxsyob4xt9hb1lxy.jpg\r\n",
      "Completed Image ====> 426. 1_4-male-face-and-skeleton_preview.jpg\r\n",
      "HTTPError on an image...trying next one... Error: HTTP Error 403: Forbidden\r\n",
      "Completed Image ====> 427. male-face-mannequins.jpg\r\n",
      "Completed Image ====> 428. 2124.jpg\r\n",
      "Completed Image ====> 429. male_face_with_a_caduceus_-_google_art_project.jpg\r\n",
      "Completed Image ====> 430. 1515509793_ywmhirq.jpg\r\n",
      "Completed Image ====> 431. male-face-paint-ideas-best-25-wolf-face-paint-ideas-on-pinterest-wolf-makeup-lion.jpg\r\n",
      "Completed Image ====> 432. 9309517-male-face-of-a-lion-man-in-dark.jpg\r\n",
      "Completed Image ====> 433. old-3102577_960_720.jpg\r\n",
      "Completed Image ====> 434. 3798bc6da719606c3b61e90b99bd2fbe3f26a562v2_hq.jpg\r\n",
      "Completed Image ====> 435. handsome-vision-man-two-face-confidence-male-face-635837.jpg\r\n",
      "Completed Image ====> 436. carved-wood-face-indian-turban-side3.jpg\r\n",
      "Completed Image ====> 437. s-l300.jpg\r\n",
      "Completed Image ====> 438. the-25-best-ideas-about-male-face-shapes-on-pinterest-drawing-how-to-buy-the-perfect-glasses-for-your-face-shape.jpg\r\n",
      "Completed Image ====> 439. storyblocks-surprised-embarrassed-male-face-young-man-looking-with-shocked-face-expression-on-blue-background_sn_-wd2mz_sb_pm.jpg\r\n",
      "Completed Image ====> 440. pexels-photo-874158.jpeg\r\n",
      "Completed Image ====> 441. ut8j51axobxxxagofbx5.jpg\r\n",
      "Completed Image ====> 442. 1369377067_66651.jpg\r\n",
      "Completed Image ====> 443. 6270750776_5e8d88bfa6_b.jpg\r\n",
      "Completed Image ====> 444. 500_f_75726397_lj6grezcbfnyd0v0xyzbedzqckrkeckg.jpg\r\n",
      "Completed Image ====> 445. anime-male-face-drawing-simple-anime-boy-face-sketch-drawing-of-sketch.jpg\r\n",
      "Completed Image ====> 446. 103453786-352-k134871.jpg\r\n",
      "Completed Image ====> 447. 55559-5-1404385256.jpg\r\n",
      "Completed Image ====> 448. 1516622179-this-minister-wants-you-to-pray-that-prince-george-is-gay-gay-hairstyle.jpg\r\n",
      "Completed Image ====> 449. texturingxyz_male02_utility_grande.jpg\r\n",
      "Completed Image ====> 450. chin-male-face-red-stubble-face-goatee-1487330.jpg\r\n",
      "Completed Image ====> 451. drawing-side-view-face-face-drawing-side-view-how-to-draw-a-male-face-front-and-side.jpg\r\n",
      "Completed Image ====> 452. b309433402f8103fd579bc09df4a5652.jpg\r\n",
      "Completed Image ====> 453. suzanne-helmigh-borus-facial-concept-art-03-small.jpg\r\n",
      "Completed Image ====> 454. male-face-paint-ideas-50-inspiration-face-painting-ideas-freshdesignweb.jpg\r\n",
      "Completed Image ====> 455. 0c49b1fdb008a577468e579ab8e2b790_how-to-draw-anime-ears-draw-manga-ears-step-2-drawing-and-art-male-face-drawing-reference_236-230.jpeg\r\n",
      "Completed Image ====> 456. men-s-shaving-brush-bowl-mug-with-cover-for-shave-cream-soap-razor-brush-male-face.jpg\r\n",
      "Completed Image ====> 457. man-in-water-splash-stock-picture-4264813.jpg\r\n",
      "Completed Image ====> 458. 240_f_107802197_4q61gc4ixarxefcy9xbk7ogirrleyrkt.jpg\r\n",
      "Completed Image ====> 459. 161012-place-covergirl-male-spokesmodel-james-charles-tease_izsqh4.jpg\r\n",
      "Completed Image ====> 460. 500_f_166203081_hblqwf6cukjyy406yfvh1keokp7bcqzj.jpg\r\n",
      "Completed Image ====> 461. 113142375-352-k253586.jpg\r\n",
      "Completed Image ====> 462. male-face-profile-drawing-52.jpg\r\n",
      "Completed Image ====> 463. male-face-paint-ideas-best-paint-for-face-painting-best-25-pig-face-paint-ideas-only-on-free.jpg\r\n",
      "Completed Image ====> 464. sweet-revolutions-by-domy-male-face-torso-and-arms-moulds-set-of-2-p6989-8162_image.jpg\r\n",
      "IOError on an image...trying next one... Error: timed out\r\n",
      "Completed Image ====> 465. 137420420-288-k470808.jpg\r\n",
      "Completed Image ====> 466. videoblocks-male-face-microcurrent-treatment-smiling-man-in-cosmetology-clinic-advanced-skin-care-services_hyq6c-uyw_thumbnail-small01.jpg\r\n",
      "Completed Image ====> 467. 24551772-drawing-of-smiling-asian-male-face-on-white.jpg\r\n",
      "HTTPError on an image...trying next one... Error: HTTP Error 404: Page not found\r\n",
      "Completed Image ====> 468. male-face-paint-ideas-84-best-face-painting-images-on-pinterest-face-paintings-ideas.jpg\r\n",
      "Completed Image ====> 469. signed-huge-3-1kg-bronze-abstract-studio-male-face-sculpture-art-deco-style-37cm-01-imbe.jpg\r\n",
      "Completed Image ====> 470. neanderthal.woman.1.jpg\r\n",
      "Completed Image ====> 471. 3102402-black-and-white_male-face_male-portrait_portrait.jpg\r\n",
      "Completed Image ====> 472. s-l640.jpg\r\n",
      "Completed Image ====> 473. male_faces_collection_various_hair_and_beard_styles_6826406.jpg\r\n",
      "Completed Image ====> 474. 500_f_152329807_5dz4xwguffurafipyoojbe3edjb1rkdm.jpg\r\n",
      "Completed Image ====> 475. sweet-revolutions-by-domy-male-face-torso-and-arms-moulds-set-of-2-p6989-8159_image.jpg\r\n",
      "Completed Image ====> 476. secondlife-sl-secondlifemarketplace-secondlifemodel-male-malemodel-man-maleface-model-mesh-men-modern-meztiso-menultd-fashion-fashiontv-filipino-face-firestorm-formal-663715.jpg\r\n",
      "Completed Image ====> 477. 2416.jpg\r\n",
      "Completed Image ====> 478. men-s-silver-stainless-steel-shaving-bowl-professional-shaving-tool-barber-beard-razor-cup-male-face.jpg\r\n",
      "Completed Image ====> 479. img_0246.jpg\r\n",
      "Completed Image ====> 480. human-male-face-template_70401.jpg\r\n",
      "Completed Image ====> 481. drawing-reference-1---male-face_o_2937273.jpg\r\n",
      "Completed Image ====> 482. blackman-auguste-male-face-3785_grande.jpeg\r\n",
      "Completed Image ====> 483. g3mfbmk1_pop01-daz3d.jpg\r\n",
      "Completed Image ====> 484. male-face-liposuction.jpg\r\n",
      "Completed Image ====> 485. ff14-miqote-male-face.jpg\r\n",
      "Completed Image ====> 486. pic-9-ears.jpg\r\n",
      "Completed Image ====> 487. carved-wood-face-indian-turban-side.jpg\r\n",
      "Completed Image ====> 488. self-this-is-me-1532059.jpg\r\n",
      "Completed Image ====> 489. botox-for-men-832x350.jpg\r\n",
      "Completed Image ====> 490. man-avatar-profile-view-male-face-silhouette-vector-id670023176?s=170x170.jpg\r\n",
      "Completed Image ====> 491. 181286065.jpg\r\n",
      "Completed Image ====> 492. male-face-drawing-delynn-addams.jpg\r\n",
      "HTTPError on an image...trying next one... Error: HTTP Error 404: Page not found\r\n",
      "Completed Image ====> 493. tumblr_p7ap69ywr21xn4mu2o1_1280.jpg\r\n",
      "Completed Image ====> 494. man-avatar-half-turn-view-male-face-silhouette-vector-id895959966?s=170x170.jpg\r\n",
      "Completed Image ====> 495. face-looking-up-drawing-male-face-looking-upwardsunreachedstar-on-deviantart.jpg\r\n",
      "Completed Image ====> 496. 10pcs-pack-gold-bio-collagen-facial-mask-depth-replenishment-crystal-collagen-female-male-face-mask-moisturizing.jpg\r\n",
      "Completed Image ====> 497. drawing-of-the-shapes-of-faces-drawing-male-face-shape-types-drawing-of-sketch.jpg\r\n",
      "URLError on an image...trying next one... Error: <urlopen error [Errno -2] Name or service not known>\r\n",
      "Completed Image ====> 498. brad-pitt-gets-7-million-to-become-the-first-male-face-for-chanel-no.-5-1-630x375.jpg\r\n",
      "Completed Image ====> 499. haircut-app-haircut-for-male-face-shape-diamond-face-shape-mens-hairstyles-face-shapes-and-hairstyles-male-choose-hairstyle-for-me-687x515.jpg\r\n",
      "Completed Image ====> 500. 182018131.jpg\r\n",
      "Completed Image ====> 501. 198776926.jpg\r\n",
      "Completed Image ====> 502. obj-male-face-asian-man_d.jpg\r\n",
      "Completed Image ====> 503. male-face-0.jpeg\r\n",
      "Completed Image ====> 504. human-face-drawing-for-beginner-how-to-draw-the-male-face-basic-drawing-tutorial-the-shaped.jpg\r\n",
      "Completed Image ====> 505. are-these-the-most-beautiful-faces-in-the-world-telegraph-world-expert-in-facial-mapping-that-asked-people-to-put-together-a-composite-of-the-perfect-face-using-the-efit-v-photofit-software-used-by-uk-police.jpg\r\n",
      "Completed Image ====> 506. human-male-face-template_70380.jpg\r\n",
      "Completed Image ====> 507. best-male-face-lift-surgeon.jpg\r\n",
      "Completed Image ====> 508. model-young-male-face-makeup-fashion-makeup-model-2388419.jpg\r\n",
      "Completed Image ====> 509. male-face-side-pose_bi9xnmgqx_thumbnail-small01.jpg\r\n",
      "Completed Image ====> 510. male-face-collection.jpg\r\n",
      "Completed Image ====> 511. high-contrast-male-face-bearded-man-black-and-white-1283106.jpg\r\n",
      "Completed Image ====> 512. 4130.jpg\r\n",
      "Completed Image ====> 513. 825aaed238a07b422a014610fcdc0316_drawn-profile-male-face-pencil-and-in-color-drawn-profile-male-face-male-face-profile-drawing_736-737.jpeg\r\n",
      "Completed Image ====> 514. man-2682692_960_720.jpg\r\n",
      "Completed Image ====> 515. dei-male-face-vase-white-5bbb3b25_l.jpg\r\n",
      "Completed Image ====> 516. male-face-topper-directions3.jpg\r\n",
      "Completed Image ====> 517. breakdown.jpg\r\n",
      "HTTPError on an image...trying next one... Error: HTTP Error 403: Forbidden\r\n",
      "Completed Image ====> 518. human-face-all-parts-name-human-male-face-names-human-face-parts-name-with-diagram-all-parts.jpg\r\n",
      "Completed Image ====> 519. male-face-drawing-2.jpg\r\n",
      "Completed Image ====> 520. 6007761_stock-photo-male-face.jpg\r\n",
      "Completed Image ====> 521. bf361523735b5a1432acff1593656a66_face-reference-drawing-at-getdrawingscom-free-for-personal-use-male-face-drawing-reference_638-877.jpeg\r\n",
      "Completed Image ====> 522. cel_mannymua733_rezy.jpg\r\n",
      "Completed Image ====> 523. ff11-elvaanm7.jpg\r\n",
      "Completed Image ====> 524. ws-draken-male-face.jpg\r\n",
      "Completed Image ====> 525. pexels-photo-567459.jpeg\r\n",
      "Completed Image ====> 526. 67867299-352-k386894.jpg\r\n",
      "Completed Image ====> 527. couple1.jpg\r\n",
      "Completed Image ====> 528. doxocopa_laurentia_male_face_inf.jpg\r\n",
      "Completed Image ====> 529. image_full.jpg\r\n",
      "HTTPError on an image...trying next one... Error: HTTP Error 404: Page not found\r\n",
      "Completed Image ====> 530. carved-wood-face-indian-turban-upside.jpg\r\n",
      "Completed Image ====> 531. 33796-0-1507299284.jpg\r\n",
      "Completed Image ====> 532. background-factory-male-face.jpg\r\n",
      "Completed Image ====> 533. head-male-face-icon-prime-pink-banner-button-illustration-id937230142.jpg\r\n",
      "Completed Image ====> 534. 150674885.jpg\r\n",
      "Completed Image ====> 535. signed-huge-3-1kg-bronze-abstract-studio-male-face-sculpture-art-deco-style-37cm-03-agl.jpg\r\n",
      "Completed Image ====> 536. male-face-side-pose_rulkxlmgqx_thumbnail-small01.jpg\r\n",
      "Completed Image ====> 537. portrait-931898_960_720.jpg\r\n",
      "Completed Image ====> 538. male-face-side-pose_r8xjnzgmme_thumbnail-small01.jpg\r\n",
      "Completed Image ====> 539. 897194d7ebac4ea6673b9419e22e8a83.jpg\r\n",
      "Completed Image ====> 540. male-face-with-enlarged-pores-and-blue-eyes-picture-id119035689.jpg\r\n",
      "Completed Image ====> 541. mans-face-drawing-2.jpg\r\n",
      "Completed Image ====> 542. man-male-face-head-hair-hairstyle-clip-art__k6138127.jpg\r\n",
      "Completed Image ====> 543. what-makes-a-male-face-attractive.jpg\r\n",
      "Completed Image ====> 544. drawing-anime-face-shapes-drawing-of-the-shapes-of-faces-drawing-male-face-shape-types.jpg\r\n",
      "Completed Image ====> 545. 21_mfsbxmfs_288px.jpg\r\n",
      "Completed Image ====> 546. 00000001808539_a01.jpg\r\n",
      "Completed Image ====> 547. wild-portrait-cute-male-face-cat-germany-zoo-big-nikon-stuttgart-fluffy-openmouth-attentive-snowleopard-wilhelma-d4-uncia-1049994.jpg\r\n",
      "Completed Image ====> 548. 4143-1.jpg\r\n",
      "Completed Image ====> 549. adults-matrix-man-portrait-male-face-model-612149.jpg\r\n",
      "Completed Image ====> 550. 500_f_185662167_tislm1zoffxt1vfyihid3r9jbckoqhek.jpg\r\n",
      "Completed Image ====> 551. 7be89686b3d7cca1e5c701fa69b5afaa_abstract-male-face-drawing-clipartxtras-abstract-male-face-drawing_695-1024.jpeg\r\n",
      "Completed Image ====> 552. hairstyle-for-face-shape-male-what-is-my-hairstyle-hairstyle-according-to-face-male-mens-oblong-hairstyles-what-is-a-good-hairstyle-for-me-970x1008.jpg\r\n",
      "Completed Image ====> 553. g3mfbmk1_pop04-daz3d.jpg\r\n",
      "Completed Image ====> 554. 4320-1-1257014750.jpg\r\n",
      "Completed Image ====> 555. chalcosyrphus-blanki-sp-nov-a-male-face-frontal-view-paratype-china-b-female-face_q320.jpg\r\n",
      "Completed Image ====> 556. 5420622-drawn-male-face.jpg\r\n",
      "Completed Image ====> 557. img_0287.jpg\r\n",
      "Completed Image ====> 558. how-to-draw-a-male-face-10_3-rfa-365x420.jpg\r\n",
      "Completed Image ====> 559. a445059f-e610-4722-86b2-2b0715ef94e4.jpg\r\n",
      "Completed Image ====> 560. rostomasculinocompartesdosistemarespirat_ariofossasnasaisbocama_c_edorosto-500x462.jpg\r\n",
      "Completed Image ====> 561. how+to+make+a+male+face+attractive.jpg\r\n",
      "Completed Image ====> 562. male-face-modern-wall-art-sculpture-ceramic.jpg\r\n",
      "Completed Image ====> 563. male-face-profile-drawing-31.jpg\r\n",
      "Completed Image ====> 564. signed-huge-3-1kg-bronze-abstract-studio-male-face-sculpture-art-deco-style-37cm-04-sg.jpg\r\n",
      "Completed Image ====> 565. lego-minifig-accessory-head-male-face.jpg\r\n",
      "Completed Image ====> 566. vector-single-sketch-male-face-men-hairstyle-vector-id473043352?s=170667a&w=1007.jpg\r\n",
      "Completed Image ====> 567. how-to-draw-anime-tutorial-with-beautiful-anime-character-drawings-how-to-draw-anime-tutorial-with-beautiful-anime-character-drawings.jpg\r\n",
      "Completed Image ====> 568. anime_male_face_and_head_outline.jpg\r\n",
      "Completed Image ====> 569. sweet-revolutions-by-domy-male-face-torso-and-arms-moulds-set-of-2-p6989-8164_image.jpg\r\n",
      "Completed Image ====> 570. s-l300.jpg\r\n",
      "Completed Image ====> 571. render_0000.jpg\r\n",
      "Completed Image ====> 572. human-male-face-made-of-several-different-people-artistic-concept-vertical-collage_hf0xrsytss_sb_pm.jpg\r\n",
      "Completed Image ====> 573. catalog39aw.jpg\r\n",
      "Completed Image ====> 574. lego-minifig-accessory-head-male-face.jpg\r\n",
      "Completed Image ====> 575. 6773829-band-of-brothers-wallpaper-750x490.jpg\r\n",
      "Completed Image ====> 576. 30181276-man-emotions-vector-young-male-face-portraits-sadness-anger-rage-surprise-shock-isolated-flat-cartoon-illustration.jpg\r\n",
      "Completed Image ====> 577. drawing-a-male-face-drawing-male-face-shape-types-drawing-of-sketch.jpg\r\n",
      "Completed Image ====> 578. maxresdefault.jpg\r\n",
      "Completed Image ====> 579. man-stress-male-face-491x280.jpg\r\n",
      "Completed Image ====> 580. boy.jpg\r\n",
      "Completed Image ====> 581. faceapp-mikah-sargent.jpg\r\n",
      "Completed Image ====> 582. 17462.jpg\r\n",
      "Completed Image ====> 583. 87882afec5ad9bf9ce189615559b1f1b.957x958x1.jpg\r\n",
      "Completed Image ====> 584. gandy-cocktail-610x593.jpg\r\n",
      "Completed Image ====> 585. 13-face-transplant-3.w529.h352.jpg\r\n",
      "Completed Image ====> 586. landscape-1484055494-tumblr-nojzsw1pll1qde7iyo1-r1-1280.jpg\r\n",
      "Completed Image ====> 587. celebrity-makeup-artist-face-paint-contouring-lucia-pittalis-3.jpg\r\n",
      "Completed Image ====> 588. before-after-weight-loss-face-transformation-39-5a1d21f7f309b__700.jpg\r\n",
      "Completed Image ====> 589. jude-law-people-in-tv-photo-1?w=650&blur=100&px=8&fm=jpg&fit=crop.jpg\r\n",
      "Completed Image ====> 590. 20117.bin\r\n",
      "Completed Image ====> 591. cardboard-face-cut-out-01.jpg\r\n",
      "Completed Image ====> 592. 01-magical-makeup-tricks-to-make-scars-spots-and-dark-circles-disappear_prep_484080171_topphotoimages.jpg\r\n",
      "Completed Image ====> 593. original.jpg\r\n",
      "Completed Image ====> 594. 138580.jpg\r\n",
      "Completed Image ====> 595. mens-fade-haircuts.jpg\r\n",
      "Completed Image ====> 596. 277c9f727fffcf65c4597b3ae7efc6209de715f4.jpg\r\n",
      "Completed Image ====> 597. mv5bmmy0n2jjotmtnmzimc00nza0ltg1zgitzmu2ymnkmwe2mze1xkeyxkfqcgdeqxvynzu1nze3ntg@._v1_cr0,45,480,270_al_ux477_cr0,0,477,268_al_.jpg\r\n",
      "Completed Image ====> 598. f3c0ec5aae37cc69aecc50dbe8bb829f?t[0]=crop:width=5568,height=3133,x=0,y=49&t[1]=maxsize:width=990&t[2]=resize:width=990&accesstoken=a87e0a03ad7bd0b3d9fa12509611fa4cd0cbf07a6310a132ea715a5ade2abc1e.jpg\r\n",
      "Completed Image ====> 599. anime-hairstyles-skyrim-mod-elegant-radioragae-s-younger-male-face-project-at-skyrim-nexus-mods-and-of-anime-hairstyles-skyrim-mod.jpg\r\n",
      "Completed Image ====> 600. v1.bjsxndm2ntc7ajsxnzy4njsxmjawozi3mda7mjaynq.jpg\r\n",
      "Completed Image ====> 601. the-north-face-men-s-ambition-short-tnf-black.jpg\r\n",
      "Completed Image ====> 602. trendy-korean-haircut-for-men.jpg\r\n",
      "Completed Image ====> 603. 4221396001_5530463478001_5530456135001-vs.jpg\r\n",
      "HTTPError on an image...trying next one... Error: HTTP Error 404: Not Found\r\n",
      "Completed Image ====> 604. heavy-angular-fringe-500x679.jpg\r\n",
      "Completed Image ====> 605. man-person-sport-old-male-statue-portrait-muscle-senior-citizen-face-sculpture-happy-head-grandpa-fit-athletes-satisfied-grandparent-facial-hair-558365.jpg\r\n",
      "Completed Image ====> 606. 300px-seborrhoeic_dermatitis_highres.jpg\r\n",
      "Completed Image ====> 607. b152ae06d589f00ec26daaf9f238cb85.jpg\r\n",
      "Completed Image ====> 608. lead_960_540.jpg\r\n",
      "Completed Image ====> 609. webdesigner-veslum.jpg\r\n",
      "Completed Image ====> 610. the-best-sunglasses-for-your-face-shape-1170x662.jpg\r\n",
      "Completed Image ====> 611. 54526391.jpg\r\n",
      "Completed Image ====> 612. 1.jpg\r\n",
      "Completed Image ====> 613. 15x10.jpg\r\n",
      "Completed Image ====> 614. manfaceaua.jpg\r\n",
      "Completed Image ====> 615. green-eyes-channing-tatum.jpg\r\n",
      "Completed Image ====> 616. screenshot_2014-02-17-18-51-23.jpg\r\n",
      "Completed Image ====> 617. ukas-dikt-13-face.jpg\r\n",
      "Completed Image ====> 618. file6f75rztfoc699dw22wr.jpg\r\n",
      "Completed Image ====> 619. dtvas9qvwaajytw.jpg\r\n",
      "Completed Image ====> 620. zac-alex-1522940336.jpg\r\n",
      "Completed Image ====> 621. flexibilty_breathe.jpg\r\n",
      "Completed Image ====> 622. aid1629330-v4-728px-cope-with-insults-step-12.jpg\r\n",
      "Completed Image ====> 623. zicolist.jpg\r\n",
      "Completed Image ====> 624. 22-jenner_tn.jpg\r\n",
      "HTTPError on an image...trying next one... Error: HTTP Error 403: Forbidden\r\n",
      "Completed Image ====> 625. rasmus-hansson.jpg\r\n",
      "Completed Image ====> 626. model3.jpg\r\n",
      "Completed Image ====> 627. o-billy-gibby-570.jpg\r\n",
      "Completed Image ====> 628. buzz-cut-1.jpg\r\n",
      "Completed Image ====> 629. beard_transplant.jpg\r\n",
      "IOError on an image...trying next one... Error: timed out\r\n",
      "Completed Image ====> 630. 62870db4-7036-4e9e-a32c-09fbbd374e0c?fit=crop&q=80&w=1440.jpg\r\n",
      "Completed Image ====> 631. dlmws6xx0aezisp.jpg\r\n",
      "Completed Image ====> 632. man-with-pain-in-his-mouth-tongue-teeth-and-cheek.jpg\r\n",
      "Completed Image ====> 633. 300x0w.jpg\r\n",
      "Completed Image ====> 634. beard-style-for-guys-3.jpg\r\n",
      "Completed Image ====> 635. mv5bmjm0otiymzy1m15bml5banbnxkftztgwmtg0ote0nze@._v1_uy1200_cr75,0,630,1200_al_.jpg\r\n",
      "Completed Image ====> 636. enhanced-buzz-18771-1401206110-36.jpg\r\n",
      "Completed Image ====> 637. mens-hairstyles-for-oval-faces.jpg\r\n",
      "Completed Image ====> 638. hqdefault.jpg\r\n",
      "Completed Image ====> 639. main-jerry-van-dyke.jpg\r\n",
      "Completed Image ====> 640. person-people-girl-woman-hair-male-portrait-model-color-africa-child-black-lady-facial-expression-hairstyle-smile-face-fun-temple-eye-head-skin-beauty-organ-emotion-indigenous-namibia-nigeria-portrait-photography-sub-saharan-africa-himba-967051.jpg\r\n",
      "Completed Image ====> 641. mike-tyson-boxers-photo-u101?w=650&q=50&fm=jpg&fit=crop&crop=faces.jpg\r\n",
      "Completed Image ====> 642. copy_of_fossen.jpg\r\n",
      "Completed Image ====> 643. good-hairstyles-for-round-faces-male-luxury-how-to-choose-a-haircut-that-flatters-your-face-shape-of-good-hairstyles-for-round-faces-male.jpg\r\n",
      "Completed Image ====> 644. 60883532.jpg\r\n",
      "Completed Image ====> 645. .jpg\r\n",
      "Completed Image ====> 646. 59f0be538280a61d008b4de0-750-563.jpg\r\n",
      "Completed Image ====> 647. 1-how-to-draw-anime-laira87.jpg\r\n",
      "Completed Image ====> 648. kimsoo_pictures.jpg\r\n",
      "Completed Image ====> 649. 002584e72befbd542a731e236d2b783a?t[0]=crop:width=1777,height=998,x=0,y=0&t[1]=maxsize:width=990&t[2]=resize:width=990&accesstoken=98ae06f855c7b0dd989daf27ce41b9e53e7da2cb57280e7d459dfdf0cfcd1fd3.jpg\r\n",
      "Completed Image ====> 650. norm_macdonald.jpg\r\n",
      "Completed Image ====> 651. male-to-female-transgender-17-months-transition-progress-1-5a095a2c96166__700.jpg\r\n",
      "Completed Image ====> 652. d3.jpg\r\n",
      "HTTPError on an image...trying next one... Error: HTTP Error 403: Forbidden\r\n",
      "Completed Image ====> 653. face-pack-new-625_626x350_61451996215.jpg\r\n",
      "Completed Image ====> 654. 14-finnish-men-who-exist-to-make-all-the-other-me-2-22686-1433949686-0_dblbig.jpg\r\n",
      "Completed Image ====> 655. produce-101-season-2-profile-members-lineup-2017-cube-lai-kuanlin.jpg\r\n",
      "Completed Image ====> 656. mv5bnwnlmmrlnzutotkxzi00ngi0lwjimmmtzthmngiyyjvhmje4xkeyxkfqcgdeqxvynzu1nze3ntg@._v1_cr0,45,480,270_al_ux477_cr0,0,477,268_al_.jpg\r\n",
      "Completed Image ====> 657. 524e2bd501d38aaba033ad7cb76fd18f.jpg\r\n",
      "Completed Image ====> 658. barbershop-.jpg\r\n",
      "Completed Image ====> 659. hqdefault.jpg\r\n",
      "Completed Image ====> 660. gallery-1511877097-gettyimages-602252932.jpg\r\n",
      "Completed Image ====> 661. man-moisturizing-his-face.jpg\r\n",
      "Completed Image ====> 662. st_20180512_sepunch12_3978328.jpg\r\n",
      "Completed Image ====> 663. she-faces-you-e14929362714701.jpg\r\n",
      "Completed Image ====> 664. 56e305571e00008700703dec.jpeg\r\n",
      "Completed Image ====> 665. 1.jpg\r\n",
      "Completed Image ====> 666. 1369381542_88540.jpg\r\n",
      "Completed Image ====> 667. 20180112163813_1.jpg\r\n",
      "Completed Image ====> 668. cleanface.nocrop.w710.h2147483647.jpg\r\n",
      "Completed Image ====> 669. men%e2%80%99s-slicked-back-side-part-hairstyles.jpg\r\n",
      "Completed Image ====> 670. r4yainj.jpg\r\n",
      "Completed Image ====> 671. kim-min-seok-recording-artists-and-groups-photo-u2?w=650&q=50&fm=jpg&fit=crop&crop=faces.jpg\r\n",
      "Completed Image ====> 672. street-style-sunglasses.jpg\r\n",
      "Completed Image ====> 673. main-ray-liotta-face-surgery.jpg\r\n",
      "Completed Image ====> 674. opoqq.jpg\r\n",
      "Completed Image ====> 675. maxresdefault.jpg\r\n",
      "Completed Image ====> 676. boxing_main.jpg\r\n",
      "Completed Image ====> 677. first-male-covergirl-spokesmodel-james-charles-24.jpg\r\n",
      "Completed Image ====> 678. 2-how-to-draw-anime-by-moni.jpg\r\n",
      "Completed Image ====> 679. ?media_id=411766845682422.jpg\r\n",
      "Completed Image ====> 680. thegentlemanbarbers_and-side-quiff-haircut-for-men.jpg\r\n",
      "Completed Image ====> 681. aid1922121-v4-728px-1922121-2.jpg\r\n",
      "Completed Image ====> 682. person-hair-red-hairstyle-beard-stubble-face-goatee-chin-male-face-facial-hair-596434.jpg\r\n",
      "Completed Image ====> 683. mv5bmtayntu4mdezntreqtjeqwpwz15bbwu4mdeynzy5ndkx._v1_ux477_cr0,0,477,268_al_.jpg\r\n",
      "Completed Image ====> 684. justin-timberlake-hair-800x459.jpg\r\n",
      "Completed Image ====> 685. vince.jpg\r\n",
      "Completed Image ====> 686. 4d53f64049e2ae671b050000-750-481.jpg\r\n",
      "Completed Image ====> 687. charles-witchell-565331.jpg\r\n",
      "Completed Image ====> 688. the-official-ranking-of-the-51-hottest-jewish-men-1-16972-1373569824-28_big.jpg\r\n",
      "HTTPError on an image...trying next one... Error: HTTP Error 403: Forbidden\r\n",
      "Completed Image ====> 689. ancient-classical-mask-male-face-260nw-539979514.jpg\r\n",
      "Completed Image ====> 690. top-7-face-washes-for-men-with-major-acne-troubles1400-1508764316_1100x513.jpg\r\n",
      "Completed Image ====> 691. faces-main.jpg\r\n",
      "Completed Image ====> 692. 24-face-app-travis-kalanick.nocrop.w710.h2147483647.2x.jpg\r\n",
      "Completed Image ====> 693. aid1922121-v4-728px-1922121-1.jpg\r\n",
      "Completed Image ====> 694. o-italian-men-facebook.jpg\r\n",
      "Completed Image ====> 695. nickthebarber_and-high-fade-pompadour-mens-haircut.jpg\r\n",
      "Completed Image ====> 696. facepalm_emoji_ios_preview-xlarge_trans_nvbqzqnjv4bqjwrrfyw8wmz-ypxvc17vz-j8wk-g3urwgn6gqoigjsm.jpg\r\n",
      "Completed Image ====> 697. ack_ram_wip_14.jpg\r\n",
      "Completed Image ====> 698. 4221396001_5730746590001_5730740645001-vs.jpg\r\n",
      "Completed Image ====> 699. 10-face-swap-snap-chat.w710.h473.2x.jpg\r\n",
      "Completed Image ====> 700. funny-baby-face-swaps-fb22__700-png.jpg\r\n",
      "Completed Image ====> 701. junges-kaukasisches-m%c3%a4nnliches-gesicht-22564733.jpg\r\n",
      "Completed Image ====> 702. grooming_bathroom_face_cream_main_0.jpg\r\n",
      "Completed Image ====> 703. aid4055901-v4-728px-use-an-alum-block-step-2-version-2.jpg\r\n",
      "Completed Image ====> 704. enhanced-9329-1451491810-1.jpg\r\n",
      "Completed Image ====> 705. drawn-scar-masculine-face-15.jpg\r\n",
      "Completed Image ====> 706. maybeauty-face-mask-after.jpg\r\n",
      "Completed Image ====> 707. aryakillswalderfrey_trans_nvbqzqnjv4bqnjjoebt78qiaydkjdey4cngtjfjs74myhny6w3gnbo8.jpg\r\n",
      "Completed Image ====> 708. adam-pearson-with-his-identical-twin-neil.jpg\r\n",
      "Completed Image ====> 709. original-7581-1436388388-8.jpg\r\n",
      "Completed Image ====> 710. ideal-male-face-proportion.jpg\r\n",
      "Completed Image ====> 711. 23-dutch-men-who-will-burst-your-dam-2-27913-1434637686-0_dblbig.jpg\r\n",
      "Completed Image ====> 712. pri_45791823.jpg\r\n",
      "Completed Image ====> 713. pic01120.jpg\r\n",
      "HTTPError on an image...trying next one... Error: HTTP Error 403: Forbidden\r\n",
      "Completed Image ====> 714. 155917.jpg\r\n",
      "\r\n",
      "\r\n",
      "Unfortunately all 1500 could not be downloaded because some images were not downloadable. 714 is all we got for this search filter!\r\n",
      "\r\n",
      "Errors: 20\r\n",
      "\r\n",
      "\r\n",
      "Everything downloaded!\r\n",
      "Total time taken: 338.032856464386 Seconds\r\n"
     ]
    }
   ],
   "source": [
    "capt.show()"
   ]
  },
  {
   "cell_type": "markdown",
   "metadata": {},
   "source": [
    "# Deep Learning\n",
    "> Utilizing the FastAi framework"
   ]
  },
  {
   "cell_type": "code",
   "execution_count": null,
   "metadata": {},
   "outputs": [],
   "source": [
    "PATH = \"data/\"\n",
    "os.listdir(PATH)"
   ]
  },
  {
   "cell_type": "code",
   "execution_count": null,
   "metadata": {},
   "outputs": [],
   "source": [
    "train_path = \"train/\"\n",
    "valid_path = \"valid/\"\n",
    "print(os.listdir(PATH + train_path))\n",
    "print(os.listdir(PATH + valid_path))"
   ]
  },
  {
   "cell_type": "markdown",
   "metadata": {},
   "source": [
    "Possible to get a nicer output of the items in directories? "
   ]
  },
  {
   "cell_type": "code",
   "execution_count": null,
   "metadata": {
    "scrolled": true
   },
   "outputs": [],
   "source": [
    "class1_path = class1_name + \"/\"\n",
    "class2_path = class2_name + \"/\"\n",
    "print(\"Training folder: \")\n",
    "print(\"Class1: \" , os.listdir(PATH + train_path + class1_path)[:2])\n",
    "print(\"Class2: \" , os.listdir(PATH + train_path + class2_path)[:2])\n",
    "\n",
    "print(\"Validation folder: \")\n",
    "print(\"Class1: \" , os.listdir(PATH + valid_path + class1_path)[:2])\n",
    "print(\"Class2: \" , os.listdir(PATH + valid_path + class2_path)[:2])"
   ]
  },
  {
   "cell_type": "code",
   "execution_count": null,
   "metadata": {},
   "outputs": [],
   "source": [
    "files = os.listdir(f'{PATH}{train_path}{class2_path}')[:1]\n",
    "files"
   ]
  },
  {
   "cell_type": "code",
   "execution_count": null,
   "metadata": {},
   "outputs": [],
   "source": [
    "img = plt.imread(f'{PATH}{train_path}{class2_path}{files[0]}')\n",
    "plt.imshow(img)"
   ]
  },
  {
   "cell_type": "code",
   "execution_count": null,
   "metadata": {},
   "outputs": [],
   "source": [
    "img.shape"
   ]
  },
  {
   "cell_type": "code",
   "execution_count": null,
   "metadata": {},
   "outputs": [],
   "source": [
    "img[:4, :4]"
   ]
  },
  {
   "cell_type": "markdown",
   "metadata": {},
   "source": [
    "## Uncomment if needing to resize images \n",
    "\n",
    "> <div class=\"alert alert-block alert-warning\">\n",
    "Possible problems with it storing them in *tmp* folder\n",
    "</div>"
   ]
  },
  {
   "cell_type": "code",
   "execution_count": null,
   "metadata": {},
   "outputs": [],
   "source": [
    "#from sklearn import metrics \n",
    "\n",
    "#def get_data(sz, bs):\n",
    "#    tfms = tfms_from_model(arch, sz, aug_tfms=transforms_side_on, max_zoom=1.1)\n",
    "#    data = ImageClassifierData.from_paths(PATH, tfms=tfms, bs=bs)\n",
    "#    return data if sz > 300 else data.resize(340, 'tmp');"
   ]
  },
  {
   "cell_type": "markdown",
   "metadata": {},
   "source": [
    "### Setting training values"
   ]
  },
  {
   "cell_type": "code",
   "execution_count": null,
   "metadata": {},
   "outputs": [],
   "source": [
    "arch = resnet34\n",
    "sz = 299 # One of two standards for ImageNet (224)\n",
    "bs = 64  # 64 and 128 is standard (pr. Jeremy Howard FastAi)"
   ]
  },
  {
   "cell_type": "markdown",
   "metadata": {},
   "source": [
    "### Data Augmentation\n",
    "When training for multiple epochs, the model will start overfitting, which basically means the model is learning to recognizing specific images in the training set, rather than generalizing such that it is relevant for other images than just the ones in the training set. \n",
    "\n",
    "One quick fix is to effectively create more data, through data augmentation. This refers to randomly changing the images in ways that shouldn't impact their interpretation, such as horizontal flipping, zooming, and rotating."
   ]
  },
  {
   "cell_type": "code",
   "execution_count": null,
   "metadata": {},
   "outputs": [],
   "source": [
    "augmentation = transforms_side_on"
   ]
  },
  {
   "cell_type": "markdown",
   "metadata": {},
   "source": [
    "## Training"
   ]
  },
  {
   "cell_type": "code",
   "execution_count": null,
   "metadata": {},
   "outputs": [],
   "source": [
    "tfms = tfms_from_model(arch, sz, aug_tfms=augmentation, max_zoom=1.1)\n",
    "data = ImageClassifierData.from_paths(PATH, tfms=tfms, bs=bs, num_workers=4)\n",
    "learn = ConvLearner.pretrained(arch, data, ps=0.4)\n",
    "learn.fit(1e-3, 1)"
   ]
  },
  {
   "cell_type": "markdown",
   "metadata": {
    "slideshow": {
     "slide_type": ""
    }
   },
   "source": [
    "## Problems because of non-valid image types\n",
    "\n",
    "> <div class=\"alert alert-block alert-info\">\n",
    "Can use module *imghdr* to verify image types\n",
    "</div>"
   ]
  },
  {
   "cell_type": "code",
   "execution_count": null,
   "metadata": {},
   "outputs": [],
   "source": [
    "import imghdr\n",
    "imghdr.what(f'{PATH}{train_path}{class2_path}{files[0]}')"
   ]
  },
  {
   "cell_type": "markdown",
   "metadata": {},
   "source": [
    "### Loop through dataset to remove invalid images \n",
    "\n",
    "> <div class=\"alert alert-block alert-info\">\n",
    "But first, interesting to see amount of lost data\n",
    "</div>"
   ]
  },
  {
   "cell_type": "code",
   "execution_count": null,
   "metadata": {},
   "outputs": [],
   "source": [
    "class1_train = PATH + train_path + class1_path\n",
    "class2_train = PATH + train_path + class2_path\n",
    "class1_valid = PATH + valid_path + class1_path\n",
    "class2_valid = PATH + valid_path + class2_path"
   ]
  },
  {
   "cell_type": "code",
   "execution_count": null,
   "metadata": {},
   "outputs": [],
   "source": [
    "print(class1_name + \" training files: \" , len(os.listdir(class1_train)))\n",
    "print(class2_name + \" training files: \" , len(os.listdir(class2_train)))\n",
    "print(class1_name + \" validation files: \" , len(os.listdir(class1_valid)))\n",
    "print(class2_name + \" validation files: \" , len(os.listdir(class2_valid)))"
   ]
  },
  {
   "cell_type": "code",
   "execution_count": null,
   "metadata": {},
   "outputs": [],
   "source": [
    "file_paths = [class1_train, \n",
    "              class2_train,\n",
    "              class1_valid, \n",
    "              class2_valid,\n",
    "             ]\n",
    "for path in file_paths:\n",
    "    for files in os.listdir(path):\n",
    "        if imghdr.what(path + files) != 'jpeg':\n",
    "            #print(\"Deleting \" + files + \" in folder \" + path + \", should be \" + str(imghdr.what(path+files)))\n",
    "            os.remove(path + files);"
   ]
  },
  {
   "cell_type": "code",
   "execution_count": null,
   "metadata": {},
   "outputs": [],
   "source": [
    "print(class1_name + \" training files: \" , len(os.listdir(class1_train)))\n",
    "print(class2_name + \" training files: \" , len(os.listdir(class2_train)))\n",
    "print(class1_name + \" validation files: \" , len(os.listdir(class1_valid)))\n",
    "print(class2_name + \" validation files: \" , len(os.listdir(class2_valid)))"
   ]
  },
  {
   "cell_type": "markdown",
   "metadata": {},
   "source": [
    "### NOTE: Tried to switch image type from *None* to *JPEG* \n",
    "> <div class=\"alert alert-block alert-info\">\n",
    "In order to minimize data loss. \n",
    "</div>"
   ]
  },
  {
   "cell_type": "markdown",
   "metadata": {},
   "source": [
    "## New data set, so new training"
   ]
  },
  {
   "cell_type": "code",
   "execution_count": null,
   "metadata": {},
   "outputs": [],
   "source": [
    "data = ImageClassifierData.from_paths(PATH, tfms=tfms, bs=bs, num_workers=4)\n",
    "learn = ConvLearner.pretrained(arch, data, ps=0.6)"
   ]
  },
  {
   "cell_type": "code",
   "execution_count": null,
   "metadata": {
    "scrolled": true
   },
   "outputs": [],
   "source": [
    "learn.fit(1e-2, 1)"
   ]
  },
  {
   "cell_type": "code",
   "execution_count": null,
   "metadata": {},
   "outputs": [],
   "source": [
    "learn.fit(1e-2, 2, cycle_len=1)"
   ]
  },
  {
   "cell_type": "markdown",
   "metadata": {},
   "source": [
    "# Locate optimal learning rate"
   ]
  },
  {
   "cell_type": "code",
   "execution_count": null,
   "metadata": {},
   "outputs": [],
   "source": [
    "learn.lr_find()\n",
    "learn.sched.plot()"
   ]
  },
  {
   "cell_type": "markdown",
   "metadata": {},
   "source": [
    "## Optimal learning rate is approximately 1e-3"
   ]
  },
  {
   "cell_type": "code",
   "execution_count": null,
   "metadata": {},
   "outputs": [],
   "source": [
    "lr = 1e-3"
   ]
  },
  {
   "cell_type": "code",
   "execution_count": null,
   "metadata": {},
   "outputs": [],
   "source": [
    "learn.fit(lr, 3, cycle_len=1, cycle_mult=2)"
   ]
  },
  {
   "cell_type": "markdown",
   "metadata": {},
   "source": [
    "> Unfreezing the first layers, and checking if there is a new optimal learning rate"
   ]
  },
  {
   "cell_type": "code",
   "execution_count": null,
   "metadata": {},
   "outputs": [],
   "source": [
    "learn.unfreeze()\n",
    "learn.lr_find()\n",
    "learn.sched.plot()"
   ]
  },
  {
   "cell_type": "code",
   "execution_count": null,
   "metadata": {},
   "outputs": [],
   "source": [
    "lr = ... "
   ]
  },
  {
   "cell_type": "code",
   "execution_count": null,
   "metadata": {},
   "outputs": [],
   "source": [
    "learn.fit(lr, 3 cycle_len=1, cycle_mult=2)"
   ]
  },
  {
   "cell_type": "markdown",
   "metadata": {},
   "source": [
    "### Checking acuraccy on validation set using Test Time Augmentation\n",
    "Using the same transforms method as specified *tfms*"
   ]
  },
  {
   "cell_type": "code",
   "execution_count": null,
   "metadata": {},
   "outputs": [],
   "source": [
    "log_preds, y = learn.TTA()\n",
    "probs = np.mean(np.exp(log_preds), 0)\n",
    "\n",
    "accuracy_np(probs, y)"
   ]
  },
  {
   "cell_type": "markdown",
   "metadata": {},
   "source": [
    "### Saving the model"
   ]
  },
  {
   "cell_type": "code",
   "execution_count": null,
   "metadata": {},
   "outputs": [],
   "source": [
    "learn.save(\"Resnet34_binary\")"
   ]
  },
  {
   "cell_type": "markdown",
   "metadata": {},
   "source": [
    "## Visualizing the Data Augmentation"
   ]
  },
  {
   "cell_type": "code",
   "execution_count": null,
   "metadata": {},
   "outputs": [],
   "source": [
    "def get_augs():\n",
    "    data = ImageClassifierData.from_paths(PATH, bs=2, tfms=tfms, num_workers=1)\n",
    "    x,_ = next(iter(data.aug_dl))\n",
    "    return data.trn_ds.denorm(x)[1]"
   ]
  },
  {
   "cell_type": "code",
   "execution_count": null,
   "metadata": {},
   "outputs": [],
   "source": [
    "ims = np.stack([get_augs() for i in range(6)])"
   ]
  },
  {
   "cell_type": "code",
   "execution_count": null,
   "metadata": {},
   "outputs": [],
   "source": [
    "plots(ims, rows=2)"
   ]
  },
  {
   "cell_type": "markdown",
   "metadata": {},
   "source": [
    "# NOTE: Overfitting\n",
    "\n",
    "### When *validation loss* >> *training* \n",
    "\n",
    "> <div class=\"alert alert-block alert-info\">\n",
    "Data Augmentation, Increase dropout, unfreeze and use differential learning rates\n",
    "</div>"
   ]
  },
  {
   "cell_type": "markdown",
   "metadata": {},
   "source": [
    "## Not very good results: 80% accuracy\n",
    "\n",
    "### Trying to add differential dropout, and longer training "
   ]
  },
  {
   "cell_type": "code",
   "execution_count": null,
   "metadata": {},
   "outputs": [],
   "source": [
    "#ps=[0.1, 0.3, 0.5]\n",
    "ps = 0.5"
   ]
  },
  {
   "cell_type": "code",
   "execution_count": null,
   "metadata": {},
   "outputs": [],
   "source": [
    "#learn = ConvLearner.pretrained(arch, data, ps=ps)\n",
    "#learn.unfreeze()\n",
    "learn.fit(1e-4, 3, cycle_len=1, cycle_mult=2)"
   ]
  },
  {
   "cell_type": "code",
   "execution_count": null,
   "metadata": {},
   "outputs": [],
   "source": [
    "learn.lr_find()"
   ]
  },
  {
   "cell_type": "code",
   "execution_count": null,
   "metadata": {},
   "outputs": [],
   "source": [
    "learn.sched.plot()"
   ]
  },
  {
   "cell_type": "code",
   "execution_count": null,
   "metadata": {},
   "outputs": [],
   "source": [
    "lr=np.array([1e-6,1e-5,1e-4])"
   ]
  },
  {
   "cell_type": "code",
   "execution_count": null,
   "metadata": {},
   "outputs": [],
   "source": [
    "#learn.unfreeze()\n",
    "learn.fit(lr, 3, cycle_len=1, cycle_mult=2)"
   ]
  },
  {
   "cell_type": "code",
   "execution_count": null,
   "metadata": {},
   "outputs": [],
   "source": [
    "log_preds, y = learn.TTA()\n",
    "probs = np.mean(np.exp(log_preds), 0)\n",
    "\n",
    "accuracy_np(probs, y)"
   ]
  },
  {
   "cell_type": "code",
   "execution_count": null,
   "metadata": {},
   "outputs": [],
   "source": [
    "learn.save(\"Resnext50\")"
   ]
  },
  {
   "cell_type": "code",
   "execution_count": null,
   "metadata": {},
   "outputs": [],
   "source": [
    "learn.load(\"Resnext50\")"
   ]
  },
  {
   "cell_type": "markdown",
   "metadata": {},
   "source": [
    "## Overfitting --> Increasing dropout "
   ]
  },
  {
   "cell_type": "code",
   "execution_count": null,
   "metadata": {},
   "outputs": [],
   "source": [
    "ps=[0.4, 0.5, 0.9]"
   ]
  },
  {
   "cell_type": "code",
   "execution_count": null,
   "metadata": {},
   "outputs": [],
   "source": [
    "learn = ConvLearner.pretrained(arch, data, ps=ps)\n",
    "learn.fit(1e-3, 3)"
   ]
  },
  {
   "cell_type": "code",
   "execution_count": null,
   "metadata": {},
   "outputs": [],
   "source": [
    "learn.lr_find()"
   ]
  },
  {
   "cell_type": "code",
   "execution_count": null,
   "metadata": {},
   "outputs": [],
   "source": [
    "learn.sched.plot()"
   ]
  },
  {
   "cell_type": "code",
   "execution_count": null,
   "metadata": {
    "scrolled": true
   },
   "outputs": [],
   "source": [
    "learn.fit(1e-3, 2, cycle_len=1, cycle_mult=2)"
   ]
  },
  {
   "cell_type": "code",
   "execution_count": null,
   "metadata": {},
   "outputs": [],
   "source": [
    "learn.unfreeze()"
   ]
  },
  {
   "cell_type": "code",
   "execution_count": null,
   "metadata": {},
   "outputs": [],
   "source": [
    "lr=np.array([1e-6,1e-4,1e-3])"
   ]
  },
  {
   "cell_type": "code",
   "execution_count": null,
   "metadata": {},
   "outputs": [],
   "source": [
    "learn.unfreeze()\n",
    "learn.fit(lr, 3, cycle_len=2, cycle_mult=3)"
   ]
  },
  {
   "cell_type": "markdown",
   "metadata": {},
   "source": [
    "### Analyzing Results"
   ]
  },
  {
   "cell_type": "markdown",
   "metadata": {},
   "source": [
    "There is something else we can do with data augmentation: use it at *inference* time (also known as *test* time). Not surprisingly, this is known as *test time augmentation*, or just *TTA*.\n",
    "\n",
    "TTA simply makes predictions not just on the images in your validation set, but also makes predictions on a number of randomly augmented versions of them too (by default, it uses the original image along with 4 randomly augmented versions). It then takes the average prediction from these images, and uses that. To use TTA on the validation set, we can use the learner's `TTA()` method."
   ]
  },
  {
   "cell_type": "code",
   "execution_count": null,
   "metadata": {},
   "outputs": [],
   "source": [
    "log_preds,y = learn.TTA()\n",
    "probs = np.mean(np.exp(log_preds),0)"
   ]
  },
  {
   "cell_type": "code",
   "execution_count": null,
   "metadata": {},
   "outputs": [],
   "source": [
    "accuracy_np(probs, y)"
   ]
  },
  {
   "cell_type": "code",
   "execution_count": null,
   "metadata": {},
   "outputs": [],
   "source": [
    "preds = np.argmax(probs, axis=1)\n",
    "probs = probs[:,1]\n",
    "\n",
    "from sklearn.metrics import confusion_matrix\n",
    "cm = confusion_matrix(y, preds)"
   ]
  },
  {
   "cell_type": "code",
   "execution_count": null,
   "metadata": {},
   "outputs": [],
   "source": [
    "plot_confusion_matrix(cm, data.classes)"
   ]
  },
  {
   "cell_type": "markdown",
   "metadata": {},
   "source": [
    "# Analyzing the results - vizualising the Images"
   ]
  },
  {
   "cell_type": "code",
   "execution_count": null,
   "metadata": {},
   "outputs": [],
   "source": [
    "data.val_y"
   ]
  },
  {
   "cell_type": "code",
   "execution_count": null,
   "metadata": {},
   "outputs": [],
   "source": [
    "# from here we know that 'female_face' is label 0 and 'male_face' is label 1.\n",
    "data.classes"
   ]
  },
  {
   "cell_type": "code",
   "execution_count": null,
   "metadata": {},
   "outputs": [],
   "source": [
    "# this gives prediction for validation set. Predictions are in log scale\n",
    "log_preds = learn.predict()\n",
    "log_preds.shape"
   ]
  },
  {
   "cell_type": "code",
   "execution_count": null,
   "metadata": {},
   "outputs": [],
   "source": [
    "log_preds[:10]"
   ]
  },
  {
   "cell_type": "code",
   "execution_count": null,
   "metadata": {},
   "outputs": [],
   "source": [
    "preds = np.argmax(log_preds, axis=1)  # from log probabilities to 0 or 1\n",
    "probs = np.exp(log_preds[:,1])        # pr(dog)"
   ]
  },
  {
   "cell_type": "code",
   "execution_count": null,
   "metadata": {},
   "outputs": [],
   "source": [
    "def rand_by_mask(mask): return np.random.choice(np.where(mask)[0], 4, replace=False)\n",
    "def rand_by_correct(is_correct): return rand_by_mask((preds == data.val_y)==is_correct)\n",
    "\n",
    "def plot_val_with_title(idxs, title):\n",
    "    imgs = np.stack([data.val_ds[x][0] for x in idxs])\n",
    "    title_probs = [probs[x] for x in idxs]\n",
    "    print(title)\n",
    "    return plots(data.val_ds.denorm(imgs), rows=1, titles=title_probs)\n",
    "\n",
    "def plots(ims, figsize=(12,6), rows=1, titles=None):\n",
    "    f = plt.figure(figsize=figsize)\n",
    "    for i in range(len(ims)):\n",
    "        sp = f.add_subplot(rows, len(ims)//rows, i+1)\n",
    "        sp.axis('Off')\n",
    "        if titles is not None: sp.set_title(titles[i], fontsize=16)\n",
    "        plt.imshow(ims[i])\n",
    "\n",
    "def load_img_id(ds, idx): return np.array(PIL.Image.open(PATH+ds.fnames[idx]))\n",
    "\n",
    "def plot_val_with_title(idxs, title):\n",
    "    imgs = [load_img_id(data.val_ds,x) for x in idxs]\n",
    "    title_probs = [probs[x] for x in idxs]\n",
    "    print(title)\n",
    "    return plots(imgs, rows=1, titles=title_probs, figsize=(16,8))\n",
    "\n",
    "def most_by_mask(mask, mult):\n",
    "    idxs = np.where(mask)[0]\n",
    "    return idxs[np.argsort(mult * probs[idxs])[:4]]\n",
    "\n",
    "def most_by_correct(y, is_correct): \n",
    "    mult = -1 if (y==1)==is_correct else 1\n",
    "    return most_by_mask((preds == data.val_y)==is_correct & (data.val_y == y), mult)"
   ]
  },
  {
   "cell_type": "code",
   "execution_count": null,
   "metadata": {},
   "outputs": [],
   "source": [
    "# 1. A few correct labels at random\n",
    "plot_val_with_title(rand_by_correct(True), \"Correctly classified\")"
   ]
  },
  {
   "cell_type": "code",
   "execution_count": null,
   "metadata": {},
   "outputs": [],
   "source": [
    "# 2. A few incorrect labels at random\n",
    "plot_val_with_title(rand_by_correct(False), \"Incorrectly classified\")"
   ]
  },
  {
   "cell_type": "code",
   "execution_count": null,
   "metadata": {},
   "outputs": [],
   "source": [
    "def most_by_mask(mask, mult):\n",
    "    idxs = np.where(mask)[0]\n",
    "    return idxs[np.argsort(mult * probs[idxs])[:4]]\n",
    "\n",
    "def most_by_correct(y, is_correct): \n",
    "    mult = -1 if (y==1)==is_correct else 1\n",
    "    return most_by_mask(((preds == data.val_y)==is_correct) & (data.val_y == y), mult)"
   ]
  },
  {
   "cell_type": "code",
   "execution_count": null,
   "metadata": {},
   "outputs": [],
   "source": [
    "plot_val_with_title(most_by_correct(0, True), \"Most correct female faces\")"
   ]
  },
  {
   "cell_type": "code",
   "execution_count": null,
   "metadata": {},
   "outputs": [],
   "source": [
    "plot_val_with_title(most_by_correct(1, True), \"Most correct male faces\")"
   ]
  },
  {
   "cell_type": "code",
   "execution_count": null,
   "metadata": {},
   "outputs": [],
   "source": [
    "plot_val_with_title(most_by_correct(0, False), \"Most incorrect female faces\")"
   ]
  },
  {
   "cell_type": "code",
   "execution_count": null,
   "metadata": {},
   "outputs": [],
   "source": [
    "plot_val_with_title(most_by_correct(1, False), \"Most incorrect male faces\")"
   ]
  },
  {
   "cell_type": "code",
   "execution_count": null,
   "metadata": {},
   "outputs": [],
   "source": [
    "most_uncertain = np.argsort(np.abs(probs -0.5))[:4]\n",
    "plot_val_with_title(most_uncertain, \"Most uncertain predictions\")"
   ]
  },
  {
   "cell_type": "markdown",
   "metadata": {
    "collapsed": true
   },
   "source": [
    "# Conclusion\n",
    "\n",
    "## When increasing size of image-set the model should improve, but because of the decrease in image-quality and their relevance (as vizualised) it decreases from approximately 90% to 80% accuracy. "
   ]
  },
  {
   "cell_type": "markdown",
   "metadata": {},
   "source": [
    "## Though, interesting to see if a more powerful model will have an impact"
   ]
  },
  {
   "cell_type": "markdown",
   "metadata": {},
   "source": [
    "# Trying with a different model: *Resnet101*"
   ]
  },
  {
   "cell_type": "code",
   "execution_count": null,
   "metadata": {},
   "outputs": [],
   "source": [
    "arch = resnet34\n",
    "sz = 299 # One of two standards for ImageNet (224)\n",
    "bs = 32 # 64 resulted in cuda-out-of-memory-error"
   ]
  },
  {
   "cell_type": "code",
   "execution_count": null,
   "metadata": {},
   "outputs": [],
   "source": [
    "tfms = tfms_from_model(arch, sz, aug_tfms=transforms_side_on, max_zoom=1.1)\n",
    "data = ImageClassifierData.from_paths(PATH, tfms=tfms, bs=bs, num_workers=4)\n",
    "learn = ConvLearner.pretrained(arch, data, ps=0.2)"
   ]
  },
  {
   "cell_type": "code",
   "execution_count": null,
   "metadata": {},
   "outputs": [],
   "source": [
    "learn.fit(1e-3, 3)"
   ]
  },
  {
   "cell_type": "code",
   "execution_count": null,
   "metadata": {},
   "outputs": [],
   "source": [
    "learn.lr_find()"
   ]
  },
  {
   "cell_type": "code",
   "execution_count": null,
   "metadata": {},
   "outputs": [],
   "source": [
    "learn.sched.plot()"
   ]
  },
  {
   "cell_type": "code",
   "execution_count": null,
   "metadata": {},
   "outputs": [],
   "source": [
    "learn.fit(1e-4, 2, cycle_len=1, cycle_mult=2)"
   ]
  },
  {
   "cell_type": "code",
   "execution_count": null,
   "metadata": {},
   "outputs": [],
   "source": [
    "learn.save(\"resnet34\")"
   ]
  },
  {
   "cell_type": "code",
   "execution_count": null,
   "metadata": {},
   "outputs": [],
   "source": [
    "lr = [1e-5, 1e-4, 1e-3]"
   ]
  },
  {
   "cell_type": "code",
   "execution_count": null,
   "metadata": {},
   "outputs": [],
   "source": [
    "learn.unfreeze()"
   ]
  },
  {
   "cell_type": "code",
   "execution_count": null,
   "metadata": {},
   "outputs": [],
   "source": [
    "learn.fit(lr, 3, cycle_len=1, cycle_mult=2)"
   ]
  },
  {
   "cell_type": "code",
   "execution_count": null,
   "metadata": {},
   "outputs": [],
   "source": [
    "log_preds,y = learn.TTA()\n",
    "probs = np.mean(np.exp(log_preds),0)"
   ]
  },
  {
   "cell_type": "code",
   "execution_count": null,
   "metadata": {},
   "outputs": [],
   "source": [
    "accuracy_np(probs, y)"
   ]
  },
  {
   "cell_type": "code",
   "execution_count": null,
   "metadata": {},
   "outputs": [],
   "source": [
    "preds = np.argmax(probs, axis=1)\n",
    "probs = probs[:,1]\n",
    "\n",
    "from sklearn.metrics import confusion_matrix\n",
    "cm = confusion_matrix(y, preds)"
   ]
  },
  {
   "cell_type": "code",
   "execution_count": null,
   "metadata": {},
   "outputs": [],
   "source": [
    "plot_confusion_matrix(cm, data.classes)"
   ]
  },
  {
   "cell_type": "markdown",
   "metadata": {},
   "source": [
    "# Conclusion\n",
    "\n",
    "> ## Improving, but still overfitting \n",
    "> ### Though, cannot increase the dropout? "
   ]
  },
  {
   "cell_type": "markdown",
   "metadata": {},
   "source": [
    "# Prediction on new data\n",
    "## From Kinect V2 camera"
   ]
  },
  {
   "cell_type": "code",
   "execution_count": null,
   "metadata": {},
   "outputs": [],
   "source": [
    "print(arch)"
   ]
  },
  {
   "cell_type": "code",
   "execution_count": null,
   "metadata": {},
   "outputs": [],
   "source": [
    "data.classes"
   ]
  },
  {
   "cell_type": "code",
   "execution_count": null,
   "metadata": {},
   "outputs": [],
   "source": [
    "log_preds = learn.predict()\n",
    "log_preds.shape"
   ]
  },
  {
   "cell_type": "code",
   "execution_count": null,
   "metadata": {},
   "outputs": [],
   "source": [
    "log_preds[:10]"
   ]
  },
  {
   "cell_type": "code",
   "execution_count": null,
   "metadata": {},
   "outputs": [],
   "source": [
    "preds = np.argmax(log_preds, axis=1)  # from log probabilities to 0 or 1\n",
    "probs = np.exp(log_preds[:,1])  "
   ]
  },
  {
   "cell_type": "code",
   "execution_count": null,
   "metadata": {},
   "outputs": [],
   "source": [
    "def rand_by_mask(mask): return np.random.choice(np.where(mask)[0], 4, replace=False)\n",
    "def rand_by_correct(is_correct): return rand_by_mask((preds == data.val_y)==is_correct)\n",
    "\n",
    "def plot_val_with_title(idxs, title):\n",
    "    imgs = np.stack([data.val_ds[x][0] for x in idxs])\n",
    "    title_probs = [probs[x] for x in idxs]\n",
    "    print(title)\n",
    "    return plots(data.val_ds.denorm(imgs), rows=1, titles=title_probs)\n",
    "\n",
    "def plots(ims, figsize=(12,6), rows=1, titles=None):\n",
    "    f = plt.figure(figsize=figsize)\n",
    "    for i in range(len(ims)):\n",
    "        sp = f.add_subplot(rows, len(ims)//rows, i+1)\n",
    "        sp.axis('Off')\n",
    "        if titles is not None: sp.set_title(titles[i], fontsize=16)\n",
    "        plt.imshow(ims[i])\n",
    "        \n",
    "def load_img_id(ds, idx): return np.array(PIL.Image.open(PATH+ds.fnames[idx]))\n",
    "\n",
    "def plot_val_with_title(idxs, title):\n",
    "    imgs = [load_img_id(data.val_ds,x) for x in idxs]\n",
    "    title_probs = [probs[x] for x in idxs]\n",
    "    print(title)\n",
    "    return plots(imgs, rows=1, titles=title_probs, figsize=(16,8))"
   ]
  },
  {
   "cell_type": "code",
   "execution_count": null,
   "metadata": {},
   "outputs": [],
   "source": [
    "plot_val_with_title(rand_by_correct(True), \"Correctly classified\")"
   ]
  },
  {
   "cell_type": "code",
   "execution_count": null,
   "metadata": {},
   "outputs": [],
   "source": [
    "plot_val_with_title(rand_by_correct(False), \"Incorrectly classified\")"
   ]
  },
  {
   "cell_type": "code",
   "execution_count": null,
   "metadata": {},
   "outputs": [],
   "source": [
    "def most_by_mask(mask, mult):\n",
    "    idxs = np.where(mask)[0]\n",
    "    return idxs[np.argsort(mult * probs[idxs])[:4]]\n",
    "\n",
    "def most_by_correct(y, is_correct): \n",
    "    mult = -1 if (y==1)==is_correct else 1\n",
    "    return most_by_mask(((preds == data.val_y)==is_correct) & (data.val_y == y), mult)"
   ]
  },
  {
   "cell_type": "code",
   "execution_count": null,
   "metadata": {},
   "outputs": [],
   "source": [
    "plot_val_with_title(most_by_correct(0, True), \"Most correct !Person\")"
   ]
  },
  {
   "cell_type": "code",
   "execution_count": null,
   "metadata": {},
   "outputs": [],
   "source": [
    "plot_val_with_title(most_by_correct(1, True), \"Most correct Person\")"
   ]
  },
  {
   "cell_type": "code",
   "execution_count": null,
   "metadata": {},
   "outputs": [],
   "source": [
    "plot_val_with_title(most_by_correct(0, False), \"Most incorrect !Person\")"
   ]
  },
  {
   "cell_type": "code",
   "execution_count": null,
   "metadata": {},
   "outputs": [],
   "source": [
    "plot_val_with_title(most_by_correct(1, False), \"Most incorrect Person\")"
   ]
  },
  {
   "cell_type": "code",
   "execution_count": null,
   "metadata": {},
   "outputs": [],
   "source": [
    "trn_tfms, val_tfms = tfms_from_model(arch, sz)"
   ]
  },
  {
   "cell_type": "code",
   "execution_count": null,
   "metadata": {},
   "outputs": [],
   "source": [
    "def from_np_arr_to_jpg(image, data):\n",
    "    image_load = np.load(image)\n",
    "    arr2im = Image.fromarray(image_load)\n",
    "    new_img_path = image[:-4] + \".jpg\"\n",
    "    arr2im.save(new_img_path)\n",
    "\n",
    "    predict_single_picture_jpg(new_img_path, data)"
   ]
  },
  {
   "cell_type": "code",
   "execution_count": null,
   "metadata": {},
   "outputs": [],
   "source": [
    "def predict_single_picture_jpg(image, data):\n",
    "    image_load = open_image(image)\n",
    "    im = val_tfms(np.array(image_load))\n",
    "    print(im.shape)\n",
    "    learn.precompute=False\n",
    "    preds_log = learn.predict_array(im[None])\n",
    "    preds = np.exp(preds_log)\n",
    "    predict = np.argmax(preds_log)\n",
    "    classes = data.classes\n",
    "    print(classes[predict])"
   ]
  },
  {
   "cell_type": "code",
   "execution_count": null,
   "metadata": {},
   "outputs": [],
   "source": [
    "learn.load(\"/home/ros/catkin_ws/src/Various_DL/Personal_Projects/Boy_Girl_Classifying/data/models/resnet34\")"
   ]
  },
  {
   "cell_type": "code",
   "execution_count": null,
   "metadata": {},
   "outputs": [],
   "source": [
    "image_path = \"/home/ros/catkin_ws/src/reading_images/images/\""
   ]
  },
  {
   "cell_type": "code",
   "execution_count": null,
   "metadata": {},
   "outputs": [],
   "source": [
    "image_names = os.listdir(image_path)"
   ]
  },
  {
   "cell_type": "code",
   "execution_count": null,
   "metadata": {},
   "outputs": [],
   "source": [
    "len(image_names)"
   ]
  },
  {
   "cell_type": "code",
   "execution_count": null,
   "metadata": {},
   "outputs": [],
   "source": [
    "fig = plt.figure(figsize=(8, 8))\n",
    "columns = 4\n",
    "rows = 5\n",
    "counter = 1\n",
    "for image in image_names:\n",
    "    img_p = image_path + image\n",
    "    fig.add_subplot(rows, columns, counter)\n",
    "    plt.imshow(np.load(img_p))\n",
    "    predict_single_picture_np_arr(img_p, data)\n",
    "    counter += 1\n",
    "plt.show()"
   ]
  },
  {
   "cell_type": "code",
   "execution_count": null,
   "metadata": {},
   "outputs": [],
   "source": [
    "t_p = (\"/home/ros/catkin_ws/src/Various_DL/Personal_Projects/Boy_Girl_Classifying/data/train\")"
   ]
  },
  {
   "cell_type": "code",
   "execution_count": null,
   "metadata": {},
   "outputs": [],
   "source": [
    "os.listdir(t_p)"
   ]
  },
  {
   "cell_type": "code",
   "execution_count": null,
   "metadata": {},
   "outputs": [],
   "source": [
    "t_p_person = t_p + \"/Person/\""
   ]
  },
  {
   "cell_type": "code",
   "execution_count": null,
   "metadata": {},
   "outputs": [],
   "source": [
    "f_faces = os.listdir(t_p_person)[:30]"
   ]
  },
  {
   "cell_type": "code",
   "execution_count": null,
   "metadata": {},
   "outputs": [],
   "source": [
    "fig = plt.figure(figsize=(8, 8))\n",
    "columns = 6\n",
    "rows = 6\n",
    "counter = 1\n",
    "for image in f_faces:\n",
    "    img_p = t_p_person + image\n",
    "    fig.add_subplot(rows, columns, counter)\n",
    "    plt.imshow(Image.open(img_p))\n",
    "    predict_single_picture_jpg(img_p, data)\n",
    "    counter += 1\n",
    "plt.show()"
   ]
  },
  {
   "cell_type": "code",
   "execution_count": null,
   "metadata": {},
   "outputs": [],
   "source": []
  }
 ],
 "metadata": {
  "kernelspec": {
   "display_name": "Python 3",
   "language": "python",
   "name": "python3"
  },
  "language_info": {
   "codemirror_mode": {
    "name": "ipython",
    "version": 3
   },
   "file_extension": ".py",
   "mimetype": "text/x-python",
   "name": "python",
   "nbconvert_exporter": "python",
   "pygments_lexer": "ipython3",
   "version": "3.6.5"
  }
 },
 "nbformat": 4,
 "nbformat_minor": 2
}
